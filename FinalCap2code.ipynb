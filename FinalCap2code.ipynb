{
 "cells": [
  {
   "cell_type": "code",
   "execution_count": 1,
   "metadata": {},
   "outputs": [],
   "source": [
    "import pandas as pd\n",
    "import numpy as np\n",
    "import seaborn as sns\n",
    "import matplotlib.pyplot as plt\n",
    "import statistics\n",
    "from scipy.stats import norm, skew\n",
    "from IPython.core.interactiveshell import InteractiveShell\n",
    "\n",
    "\n",
    "plt.rcParams['figure.figsize']=(15,8)\n"
   ]
  },
  {
   "cell_type": "code",
   "execution_count": 2,
   "metadata": {},
   "outputs": [],
   "source": [
    "#Open file and Save to Dataframe:\n",
    "file = open(r'C:\\Users\\eshai\\SB Projects\\Cap 2\\train.csv')\n",
    "file2 = open(r'C:\\Users\\eshai\\SB Projects\\Cap 2\\test.csv')\n",
    "\n",
    "traindf = pd.read_csv(file)\n",
    "testdf = pd.read_csv(file2)\n",
    "\n",
    "file.close()\n",
    "file2.close()"
   ]
  },
  {
   "cell_type": "code",
   "execution_count": 3,
   "metadata": {
    "scrolled": false
   },
   "outputs": [
    {
     "name": "stdout",
     "output_type": "stream",
     "text": [
      "<class 'pandas.core.frame.DataFrame'>\n",
      "RangeIndex: 1460 entries, 0 to 1459\n",
      "Data columns (total 81 columns):\n",
      "Id               1460 non-null int64\n",
      "MSSubClass       1460 non-null int64\n",
      "MSZoning         1460 non-null object\n",
      "LotFrontage      1201 non-null float64\n",
      "LotArea          1460 non-null int64\n",
      "Street           1460 non-null object\n",
      "Alley            91 non-null object\n",
      "LotShape         1460 non-null object\n",
      "LandContour      1460 non-null object\n",
      "Utilities        1460 non-null object\n",
      "LotConfig        1460 non-null object\n",
      "LandSlope        1460 non-null object\n",
      "Neighborhood     1460 non-null object\n",
      "Condition1       1460 non-null object\n",
      "Condition2       1460 non-null object\n",
      "BldgType         1460 non-null object\n",
      "HouseStyle       1460 non-null object\n",
      "OverallQual      1460 non-null int64\n",
      "OverallCond      1460 non-null int64\n",
      "YearBuilt        1460 non-null int64\n",
      "YearRemodAdd     1460 non-null int64\n",
      "RoofStyle        1460 non-null object\n",
      "RoofMatl         1460 non-null object\n",
      "Exterior1st      1460 non-null object\n",
      "Exterior2nd      1460 non-null object\n",
      "MasVnrType       1452 non-null object\n",
      "MasVnrArea       1452 non-null float64\n",
      "ExterQual        1460 non-null object\n",
      "ExterCond        1460 non-null object\n",
      "Foundation       1460 non-null object\n",
      "BsmtQual         1423 non-null object\n",
      "BsmtCond         1423 non-null object\n",
      "BsmtExposure     1422 non-null object\n",
      "BsmtFinType1     1423 non-null object\n",
      "BsmtFinSF1       1460 non-null int64\n",
      "BsmtFinType2     1422 non-null object\n",
      "BsmtFinSF2       1460 non-null int64\n",
      "BsmtUnfSF        1460 non-null int64\n",
      "TotalBsmtSF      1460 non-null int64\n",
      "Heating          1460 non-null object\n",
      "HeatingQC        1460 non-null object\n",
      "CentralAir       1460 non-null object\n",
      "Electrical       1459 non-null object\n",
      "1stFlrSF         1460 non-null int64\n",
      "2ndFlrSF         1460 non-null int64\n",
      "LowQualFinSF     1460 non-null int64\n",
      "GrLivArea        1460 non-null int64\n",
      "BsmtFullBath     1460 non-null int64\n",
      "BsmtHalfBath     1460 non-null int64\n",
      "FullBath         1460 non-null int64\n",
      "HalfBath         1460 non-null int64\n",
      "BedroomAbvGr     1460 non-null int64\n",
      "KitchenAbvGr     1460 non-null int64\n",
      "KitchenQual      1460 non-null object\n",
      "TotRmsAbvGrd     1460 non-null int64\n",
      "Functional       1460 non-null object\n",
      "Fireplaces       1460 non-null int64\n",
      "FireplaceQu      770 non-null object\n",
      "GarageType       1379 non-null object\n",
      "GarageYrBlt      1379 non-null float64\n",
      "GarageFinish     1379 non-null object\n",
      "GarageCars       1460 non-null int64\n",
      "GarageArea       1460 non-null int64\n",
      "GarageQual       1379 non-null object\n",
      "GarageCond       1379 non-null object\n",
      "PavedDrive       1460 non-null object\n",
      "WoodDeckSF       1460 non-null int64\n",
      "OpenPorchSF      1460 non-null int64\n",
      "EnclosedPorch    1460 non-null int64\n",
      "3SsnPorch        1460 non-null int64\n",
      "ScreenPorch      1460 non-null int64\n",
      "PoolArea         1460 non-null int64\n",
      "PoolQC           7 non-null object\n",
      "Fence            281 non-null object\n",
      "MiscFeature      54 non-null object\n",
      "MiscVal          1460 non-null int64\n",
      "MoSold           1460 non-null int64\n",
      "YrSold           1460 non-null int64\n",
      "SaleType         1460 non-null object\n",
      "SaleCondition    1460 non-null object\n",
      "SalePrice        1460 non-null int64\n",
      "dtypes: float64(3), int64(35), object(43)\n",
      "memory usage: 924.0+ KB\n"
     ]
    }
   ],
   "source": [
    "traindf.info()"
   ]
  },
  {
   "cell_type": "code",
   "execution_count": 4,
   "metadata": {
    "scrolled": true
   },
   "outputs": [
    {
     "data": {
      "text/html": [
       "<div>\n",
       "<style scoped>\n",
       "    .dataframe tbody tr th:only-of-type {\n",
       "        vertical-align: middle;\n",
       "    }\n",
       "\n",
       "    .dataframe tbody tr th {\n",
       "        vertical-align: top;\n",
       "    }\n",
       "\n",
       "    .dataframe thead th {\n",
       "        text-align: right;\n",
       "    }\n",
       "</style>\n",
       "<table border=\"1\" class=\"dataframe\">\n",
       "  <thead>\n",
       "    <tr style=\"text-align: right;\">\n",
       "      <th></th>\n",
       "      <th>Total</th>\n",
       "      <th>Percent</th>\n",
       "    </tr>\n",
       "  </thead>\n",
       "  <tbody>\n",
       "    <tr>\n",
       "      <th>PoolQC</th>\n",
       "      <td>1453</td>\n",
       "      <td>0.995205</td>\n",
       "    </tr>\n",
       "    <tr>\n",
       "      <th>MiscFeature</th>\n",
       "      <td>1406</td>\n",
       "      <td>0.963014</td>\n",
       "    </tr>\n",
       "    <tr>\n",
       "      <th>Alley</th>\n",
       "      <td>1369</td>\n",
       "      <td>0.937671</td>\n",
       "    </tr>\n",
       "    <tr>\n",
       "      <th>Fence</th>\n",
       "      <td>1179</td>\n",
       "      <td>0.807534</td>\n",
       "    </tr>\n",
       "    <tr>\n",
       "      <th>FireplaceQu</th>\n",
       "      <td>690</td>\n",
       "      <td>0.472603</td>\n",
       "    </tr>\n",
       "    <tr>\n",
       "      <th>LotFrontage</th>\n",
       "      <td>259</td>\n",
       "      <td>0.177397</td>\n",
       "    </tr>\n",
       "    <tr>\n",
       "      <th>GarageCond</th>\n",
       "      <td>81</td>\n",
       "      <td>0.055479</td>\n",
       "    </tr>\n",
       "    <tr>\n",
       "      <th>GarageType</th>\n",
       "      <td>81</td>\n",
       "      <td>0.055479</td>\n",
       "    </tr>\n",
       "    <tr>\n",
       "      <th>GarageYrBlt</th>\n",
       "      <td>81</td>\n",
       "      <td>0.055479</td>\n",
       "    </tr>\n",
       "    <tr>\n",
       "      <th>GarageFinish</th>\n",
       "      <td>81</td>\n",
       "      <td>0.055479</td>\n",
       "    </tr>\n",
       "    <tr>\n",
       "      <th>GarageQual</th>\n",
       "      <td>81</td>\n",
       "      <td>0.055479</td>\n",
       "    </tr>\n",
       "    <tr>\n",
       "      <th>BsmtExposure</th>\n",
       "      <td>38</td>\n",
       "      <td>0.026027</td>\n",
       "    </tr>\n",
       "    <tr>\n",
       "      <th>BsmtFinType2</th>\n",
       "      <td>38</td>\n",
       "      <td>0.026027</td>\n",
       "    </tr>\n",
       "    <tr>\n",
       "      <th>BsmtFinType1</th>\n",
       "      <td>37</td>\n",
       "      <td>0.025342</td>\n",
       "    </tr>\n",
       "    <tr>\n",
       "      <th>BsmtCond</th>\n",
       "      <td>37</td>\n",
       "      <td>0.025342</td>\n",
       "    </tr>\n",
       "    <tr>\n",
       "      <th>BsmtQual</th>\n",
       "      <td>37</td>\n",
       "      <td>0.025342</td>\n",
       "    </tr>\n",
       "    <tr>\n",
       "      <th>MasVnrArea</th>\n",
       "      <td>8</td>\n",
       "      <td>0.005479</td>\n",
       "    </tr>\n",
       "    <tr>\n",
       "      <th>MasVnrType</th>\n",
       "      <td>8</td>\n",
       "      <td>0.005479</td>\n",
       "    </tr>\n",
       "    <tr>\n",
       "      <th>Electrical</th>\n",
       "      <td>1</td>\n",
       "      <td>0.000685</td>\n",
       "    </tr>\n",
       "    <tr>\n",
       "      <th>Utilities</th>\n",
       "      <td>0</td>\n",
       "      <td>0.000000</td>\n",
       "    </tr>\n",
       "  </tbody>\n",
       "</table>\n",
       "</div>"
      ],
      "text/plain": [
       "              Total   Percent\n",
       "PoolQC         1453  0.995205\n",
       "MiscFeature    1406  0.963014\n",
       "Alley          1369  0.937671\n",
       "Fence          1179  0.807534\n",
       "FireplaceQu     690  0.472603\n",
       "LotFrontage     259  0.177397\n",
       "GarageCond       81  0.055479\n",
       "GarageType       81  0.055479\n",
       "GarageYrBlt      81  0.055479\n",
       "GarageFinish     81  0.055479\n",
       "GarageQual       81  0.055479\n",
       "BsmtExposure     38  0.026027\n",
       "BsmtFinType2     38  0.026027\n",
       "BsmtFinType1     37  0.025342\n",
       "BsmtCond         37  0.025342\n",
       "BsmtQual         37  0.025342\n",
       "MasVnrArea        8  0.005479\n",
       "MasVnrType        8  0.005479\n",
       "Electrical        1  0.000685\n",
       "Utilities         0  0.000000"
      ]
     },
     "execution_count": 4,
     "metadata": {},
     "output_type": "execute_result"
    }
   ],
   "source": [
    "# Identify other missing data in training set:\n",
    "total = traindf.isnull().sum().sort_values(ascending=False)\n",
    "percent = (traindf.isnull().sum()/traindf.isnull().count()).sort_values(ascending=False)\n",
    "missing_data = pd.concat([total, percent], axis=1, keys=['Total', 'Percent'])\n",
    "missing_data.head(20)\n"
   ]
  },
  {
   "cell_type": "code",
   "execution_count": 5,
   "metadata": {},
   "outputs": [],
   "source": [
    "#Removing variables that are mostly full of nan values:\n",
    "df = traindf.drop(['PoolQC', 'Fence', 'MiscFeature', 'Alley','Id'], axis=1)"
   ]
  },
  {
   "cell_type": "code",
   "execution_count": 6,
   "metadata": {},
   "outputs": [],
   "source": [
    "# Handle categorical and numerical missing values:\n",
    "objectcl = df.loc[:, df.dtypes == 'object'].columns\n",
    "num = df.loc[:, df.dtypes != 'object'].columns\n",
    "df[objectcl] = df[objectcl].fillna('none')\n",
    "df[num] = df[num].fillna(0)"
   ]
  },
  {
   "cell_type": "code",
   "execution_count": 7,
   "metadata": {},
   "outputs": [
    {
     "data": {
      "text/plain": [
       "SalePrice      0\n",
       "Foundation     0\n",
       "RoofMatl       0\n",
       "Exterior1st    0\n",
       "Exterior2nd    0\n",
       "MasVnrType     0\n",
       "MasVnrArea     0\n",
       "ExterQual      0\n",
       "ExterCond      0\n",
       "BsmtQual       0\n",
       "dtype: int64"
      ]
     },
     "execution_count": 7,
     "metadata": {},
     "output_type": "execute_result"
    }
   ],
   "source": [
    "df.isnull().sum().sort_values(ascending=False).head(10)"
   ]
  },
  {
   "cell_type": "code",
   "execution_count": 8,
   "metadata": {},
   "outputs": [
    {
     "data": {
      "text/html": [
       "<div>\n",
       "<style scoped>\n",
       "    .dataframe tbody tr th:only-of-type {\n",
       "        vertical-align: middle;\n",
       "    }\n",
       "\n",
       "    .dataframe tbody tr th {\n",
       "        vertical-align: top;\n",
       "    }\n",
       "\n",
       "    .dataframe thead th {\n",
       "        text-align: right;\n",
       "    }\n",
       "</style>\n",
       "<table border=\"1\" class=\"dataframe\">\n",
       "  <thead>\n",
       "    <tr style=\"text-align: right;\">\n",
       "      <th></th>\n",
       "      <th>Total</th>\n",
       "      <th>Percent</th>\n",
       "    </tr>\n",
       "  </thead>\n",
       "  <tbody>\n",
       "    <tr>\n",
       "      <th>PoolQC</th>\n",
       "      <td>1456</td>\n",
       "      <td>0.997944</td>\n",
       "    </tr>\n",
       "    <tr>\n",
       "      <th>MiscFeature</th>\n",
       "      <td>1408</td>\n",
       "      <td>0.965045</td>\n",
       "    </tr>\n",
       "    <tr>\n",
       "      <th>Alley</th>\n",
       "      <td>1352</td>\n",
       "      <td>0.926662</td>\n",
       "    </tr>\n",
       "    <tr>\n",
       "      <th>Fence</th>\n",
       "      <td>1169</td>\n",
       "      <td>0.801234</td>\n",
       "    </tr>\n",
       "    <tr>\n",
       "      <th>FireplaceQu</th>\n",
       "      <td>730</td>\n",
       "      <td>0.500343</td>\n",
       "    </tr>\n",
       "    <tr>\n",
       "      <th>LotFrontage</th>\n",
       "      <td>227</td>\n",
       "      <td>0.155586</td>\n",
       "    </tr>\n",
       "    <tr>\n",
       "      <th>GarageCond</th>\n",
       "      <td>78</td>\n",
       "      <td>0.053461</td>\n",
       "    </tr>\n",
       "    <tr>\n",
       "      <th>GarageQual</th>\n",
       "      <td>78</td>\n",
       "      <td>0.053461</td>\n",
       "    </tr>\n",
       "    <tr>\n",
       "      <th>GarageYrBlt</th>\n",
       "      <td>78</td>\n",
       "      <td>0.053461</td>\n",
       "    </tr>\n",
       "    <tr>\n",
       "      <th>GarageFinish</th>\n",
       "      <td>78</td>\n",
       "      <td>0.053461</td>\n",
       "    </tr>\n",
       "    <tr>\n",
       "      <th>GarageType</th>\n",
       "      <td>76</td>\n",
       "      <td>0.052090</td>\n",
       "    </tr>\n",
       "    <tr>\n",
       "      <th>BsmtCond</th>\n",
       "      <td>45</td>\n",
       "      <td>0.030843</td>\n",
       "    </tr>\n",
       "    <tr>\n",
       "      <th>BsmtQual</th>\n",
       "      <td>44</td>\n",
       "      <td>0.030158</td>\n",
       "    </tr>\n",
       "    <tr>\n",
       "      <th>BsmtExposure</th>\n",
       "      <td>44</td>\n",
       "      <td>0.030158</td>\n",
       "    </tr>\n",
       "    <tr>\n",
       "      <th>BsmtFinType1</th>\n",
       "      <td>42</td>\n",
       "      <td>0.028787</td>\n",
       "    </tr>\n",
       "    <tr>\n",
       "      <th>BsmtFinType2</th>\n",
       "      <td>42</td>\n",
       "      <td>0.028787</td>\n",
       "    </tr>\n",
       "    <tr>\n",
       "      <th>MasVnrType</th>\n",
       "      <td>16</td>\n",
       "      <td>0.010966</td>\n",
       "    </tr>\n",
       "    <tr>\n",
       "      <th>MasVnrArea</th>\n",
       "      <td>15</td>\n",
       "      <td>0.010281</td>\n",
       "    </tr>\n",
       "    <tr>\n",
       "      <th>MSZoning</th>\n",
       "      <td>4</td>\n",
       "      <td>0.002742</td>\n",
       "    </tr>\n",
       "    <tr>\n",
       "      <th>BsmtHalfBath</th>\n",
       "      <td>2</td>\n",
       "      <td>0.001371</td>\n",
       "    </tr>\n",
       "  </tbody>\n",
       "</table>\n",
       "</div>"
      ],
      "text/plain": [
       "              Total   Percent\n",
       "PoolQC         1456  0.997944\n",
       "MiscFeature    1408  0.965045\n",
       "Alley          1352  0.926662\n",
       "Fence          1169  0.801234\n",
       "FireplaceQu     730  0.500343\n",
       "LotFrontage     227  0.155586\n",
       "GarageCond       78  0.053461\n",
       "GarageQual       78  0.053461\n",
       "GarageYrBlt      78  0.053461\n",
       "GarageFinish     78  0.053461\n",
       "GarageType       76  0.052090\n",
       "BsmtCond         45  0.030843\n",
       "BsmtQual         44  0.030158\n",
       "BsmtExposure     44  0.030158\n",
       "BsmtFinType1     42  0.028787\n",
       "BsmtFinType2     42  0.028787\n",
       "MasVnrType       16  0.010966\n",
       "MasVnrArea       15  0.010281\n",
       "MSZoning          4  0.002742\n",
       "BsmtHalfBath      2  0.001371"
      ]
     },
     "execution_count": 8,
     "metadata": {},
     "output_type": "execute_result"
    }
   ],
   "source": [
    "# Identify other missing data in test set\n",
    "total = testdf.isnull().sum().sort_values(ascending=False)\n",
    "percent = (testdf.isnull().sum()/testdf.isnull().count()).sort_values(ascending=False)\n",
    "missing_data = pd.concat([total, percent], axis=1, keys=['Total', 'Percent'])\n",
    "missing_data.head(20)\n"
   ]
  },
  {
   "cell_type": "markdown",
   "metadata": {},
   "source": [
    "A quick overview of the data reveals that we have columns that have a majority of nan values. These columns will need to be removed. As for the nan values in the other columns, I will remove those obsevations from the data set as well."
   ]
  },
  {
   "cell_type": "code",
   "execution_count": 9,
   "metadata": {},
   "outputs": [],
   "source": [
    "#Removing variables that are mostly full of nan values:\n",
    "testdf = testdf.drop(['PoolQC', 'Fence', 'MiscFeature', 'Alley','Id'], axis=1)\n"
   ]
  },
  {
   "cell_type": "code",
   "execution_count": 10,
   "metadata": {},
   "outputs": [],
   "source": [
    "# Handle categorical and numerical missing values:\n",
    "objectcl = testdf.loc[:, testdf.dtypes == 'object'].columns\n",
    "num = testdf.loc[:, testdf.dtypes != 'object'].columns\n",
    "testdf[objectcl] = testdf[objectcl].fillna('none')\n",
    "testdf[num] = testdf[num].fillna(0)"
   ]
  },
  {
   "cell_type": "code",
   "execution_count": 11,
   "metadata": {},
   "outputs": [
    {
     "data": {
      "text/plain": [
       "SaleCondition    0\n",
       "YearRemodAdd     0\n",
       "RoofMatl         0\n",
       "Exterior1st      0\n",
       "Exterior2nd      0\n",
       "MasVnrType       0\n",
       "MasVnrArea       0\n",
       "ExterQual        0\n",
       "ExterCond        0\n",
       "Foundation       0\n",
       "dtype: int64"
      ]
     },
     "execution_count": 11,
     "metadata": {},
     "output_type": "execute_result"
    }
   ],
   "source": [
    "testdf.isnull().sum().sort_values(ascending=False).head(10)"
   ]
  },
  {
   "cell_type": "markdown",
   "metadata": {},
   "source": [
    "Dropped columns that contained nan values and observations that contained missing values so the Data set contains only complete records."
   ]
  },
  {
   "cell_type": "markdown",
   "metadata": {},
   "source": [
    "### EDA"
   ]
  },
  {
   "cell_type": "code",
   "execution_count": 12,
   "metadata": {},
   "outputs": [],
   "source": [
    "import scipy"
   ]
  },
  {
   "cell_type": "code",
   "execution_count": 13,
   "metadata": {},
   "outputs": [
    {
     "data": {
      "image/png": "[encoded data removed]",
      "text/plain": [
       "<matplotlib.figure.Figure at 0x1e4dc434e80>"
      ]
     },
     "metadata": {},
     "output_type": "display_data"
    }
   ],
   "source": [
    "fig, ax = plt.subplots(1, 2, figsize = (12, 4))\n",
    "plt.tight_layout()\n",
    "\n",
    "sns.distplot(np.log(df.SalePrice), ax = ax[1], label='Log of Price')\n",
    "\n",
    "sns.distplot(df.SalePrice, ax = ax[0], label='Distribution of Sale Price')\n",
    "plt.show()\n"
   ]
  },
  {
   "cell_type": "code",
   "execution_count": 14,
   "metadata": {},
   "outputs": [
    {
     "data": {
      "text/plain": [
       "1.880940746034036"
      ]
     },
     "execution_count": 14,
     "metadata": {},
     "output_type": "execute_result"
    }
   ],
   "source": [
    "scipy.stats.skew(df.SalePrice, axis=0, bias=True)"
   ]
  },
  {
   "cell_type": "markdown",
   "metadata": {},
   "source": [
    "Looking at the distribution of Sale Price, we can see from the plot and the computed skewness that our distribution is skewed towards the right. Taking the log of Sale price shows a more normal distribution."
   ]
  },
  {
   "cell_type": "code",
   "execution_count": 15,
   "metadata": {
    "scrolled": true
   },
   "outputs": [
    {
     "name": "stdout",
     "output_type": "stream",
     "text": [
      "<class 'pandas.core.frame.DataFrame'>\n",
      "RangeIndex: 1460 entries, 0 to 1459\n",
      "Data columns (total 76 columns):\n",
      "MSSubClass       1460 non-null int64\n",
      "MSZoning         1460 non-null object\n",
      "LotFrontage      1460 non-null float64\n",
      "LotArea          1460 non-null int64\n",
      "Street           1460 non-null object\n",
      "LotShape         1460 non-null object\n",
      "LandContour      1460 non-null object\n",
      "Utilities        1460 non-null object\n",
      "LotConfig        1460 non-null object\n",
      "LandSlope        1460 non-null object\n",
      "Neighborhood     1460 non-null object\n",
      "Condition1       1460 non-null object\n",
      "Condition2       1460 non-null object\n",
      "BldgType         1460 non-null object\n",
      "HouseStyle       1460 non-null object\n",
      "OverallQual      1460 non-null int64\n",
      "OverallCond      1460 non-null int64\n",
      "YearBuilt        1460 non-null int64\n",
      "YearRemodAdd     1460 non-null int64\n",
      "RoofStyle        1460 non-null object\n",
      "RoofMatl         1460 non-null object\n",
      "Exterior1st      1460 non-null object\n",
      "Exterior2nd      1460 non-null object\n",
      "MasVnrType       1460 non-null object\n",
      "MasVnrArea       1460 non-null float64\n",
      "ExterQual        1460 non-null object\n",
      "ExterCond        1460 non-null object\n",
      "Foundation       1460 non-null object\n",
      "BsmtQual         1460 non-null object\n",
      "BsmtCond         1460 non-null object\n",
      "BsmtExposure     1460 non-null object\n",
      "BsmtFinType1     1460 non-null object\n",
      "BsmtFinSF1       1460 non-null int64\n",
      "BsmtFinType2     1460 non-null object\n",
      "BsmtFinSF2       1460 non-null int64\n",
      "BsmtUnfSF        1460 non-null int64\n",
      "TotalBsmtSF      1460 non-null int64\n",
      "Heating          1460 non-null object\n",
      "HeatingQC        1460 non-null object\n",
      "CentralAir       1460 non-null object\n",
      "Electrical       1460 non-null object\n",
      "1stFlrSF         1460 non-null int64\n",
      "2ndFlrSF         1460 non-null int64\n",
      "LowQualFinSF     1460 non-null int64\n",
      "GrLivArea        1460 non-null int64\n",
      "BsmtFullBath     1460 non-null int64\n",
      "BsmtHalfBath     1460 non-null int64\n",
      "FullBath         1460 non-null int64\n",
      "HalfBath         1460 non-null int64\n",
      "BedroomAbvGr     1460 non-null int64\n",
      "KitchenAbvGr     1460 non-null int64\n",
      "KitchenQual      1460 non-null object\n",
      "TotRmsAbvGrd     1460 non-null int64\n",
      "Functional       1460 non-null object\n",
      "Fireplaces       1460 non-null int64\n",
      "FireplaceQu      1460 non-null object\n",
      "GarageType       1460 non-null object\n",
      "GarageYrBlt      1460 non-null float64\n",
      "GarageFinish     1460 non-null object\n",
      "GarageCars       1460 non-null int64\n",
      "GarageArea       1460 non-null int64\n",
      "GarageQual       1460 non-null object\n",
      "GarageCond       1460 non-null object\n",
      "PavedDrive       1460 non-null object\n",
      "WoodDeckSF       1460 non-null int64\n",
      "OpenPorchSF      1460 non-null int64\n",
      "EnclosedPorch    1460 non-null int64\n",
      "3SsnPorch        1460 non-null int64\n",
      "ScreenPorch      1460 non-null int64\n",
      "PoolArea         1460 non-null int64\n",
      "MiscVal          1460 non-null int64\n",
      "MoSold           1460 non-null int64\n",
      "YrSold           1460 non-null int64\n",
      "SaleType         1460 non-null object\n",
      "SaleCondition    1460 non-null object\n",
      "SalePrice        1460 non-null int64\n",
      "dtypes: float64(3), int64(34), object(39)\n",
      "memory usage: 867.0+ KB\n"
     ]
    }
   ],
   "source": [
    "#check that all values are filled:\n",
    "\n",
    "df.info()"
   ]
  },
  {
   "cell_type": "code",
   "execution_count": 16,
   "metadata": {},
   "outputs": [
    {
     "data": {
      "image/png": "[encoded data removed]",
      "text/plain": [
       "<matplotlib.figure.Figure at 0x1e4dc5edef0>"
      ]
     },
     "metadata": {},
     "output_type": "display_data"
    }
   ],
   "source": [
    "#plot Sale Price and 'GrLivArea' Scatter plot:\n",
    "plt.figure(figsize = (12, 6))\n",
    "sns.regplot(x='GrLivArea', y='SalePrice', data=df, color='red')\n",
    "plt.title('SalePrice Vs GrLivArea')\n",
    "plt.show()"
   ]
  },
  {
   "cell_type": "code",
   "execution_count": 17,
   "metadata": {},
   "outputs": [
    {
     "data": {
      "image/png": "[encoded data removed]",
      "text/plain": [
       "<matplotlib.figure.Figure at 0x1e4dc9abd68>"
      ]
     },
     "metadata": {},
     "output_type": "display_data"
    }
   ],
   "source": [
    "#plot Scatter plot of Sale Price and 'TotalBsmtSF'\n",
    "plt.figure(figsize = (12, 6))\n",
    "sns.regplot(x='TotalBsmtSF', y='SalePrice', data=df,)\n",
    "plt.title('SalePrice Vs TotalBsmtSF')\n",
    "plt.show()"
   ]
  },
  {
   "cell_type": "code",
   "execution_count": 18,
   "metadata": {
    "scrolled": true
   },
   "outputs": [
    {
     "data": {
      "image/png": "[encoded data removed]",
      "text/plain": [
       "<matplotlib.figure.Figure at 0x1e4dc9bf5f8>"
      ]
     },
     "metadata": {},
     "output_type": "display_data"
    }
   ],
   "source": [
    "# Plot Box plot of 'MSSubClass Codes:\n",
    "plt.figure(figsize = (12, 6))\n",
    "sns.boxplot(x='MSSubClass', y='SalePrice', data=df, palette=\"Blues\")\n",
    "plt.title('Sales Price and Dwelling Type Codes')\n",
    "plt.show()"
   ]
  },
  {
   "cell_type": "markdown",
   "metadata": {},
   "source": [
    "MSSubClass Codes:\n",
    "\n",
    "- 20:\t1-STORY 1946 & NEWER ALL STYLES\n",
    "- 30:\t1-STORY 1945 & OLDER\n",
    "- 40:\t1-STORY W/FINISHED ATTIC ALL AGES\n",
    "- 45:\t1-1/2 STORY - UNFINISHED ALL AGES\n",
    "- 50:\t1-1/2 STORY FINISHED ALL AGES\n",
    "- 60:\t2-STORY 1946 & NEWER \n",
    "- 70:\t2-STORY 1945 & OLDER\n",
    "- 75:\t2-1/2 STORY ALL AGES\n",
    "- 80:\tSPLIT OR MULTI-LEVEL\n",
    "- 85:\tSPLIT FOYER\n",
    "- 90:\tDUPLEX - ALL STYLES AND AGES\n",
    "- 120:\t1-STORY PUD (Planned Unit Development) - 1946 & NEWER\n",
    "- 150:\t1-1/2 STORY PUD - ALL AGES\n",
    "- 160:\t2-STORY PUD - 1946 & NEWER\n",
    "- 180:\tPUD - MULTILEVEL - INCL SPLIT LEV/FOYER\n",
    "- 190:\t2 FAMILY CONVERSION - ALL STYLES AND AGES"
   ]
  },
  {
   "cell_type": "markdown",
   "metadata": {},
   "source": [
    "The Plot reveals 2-Story homes bulit after 1945 are priced higher on average while 1-story 1945 & older have the lowest average sale price."
   ]
  },
  {
   "cell_type": "code",
   "execution_count": 19,
   "metadata": {},
   "outputs": [
    {
     "data": {
      "image/png": "[encoded data removed]",
      "text/plain": [
       "<matplotlib.figure.Figure at 0x1e4d5debc18>"
      ]
     },
     "metadata": {},
     "output_type": "display_data"
    }
   ],
   "source": [
    "sns.boxplot(x='Foundation', y='SalePrice', data=df)\n",
    "plt.title('Sales Price and Foundation')\n",
    "plt.show()"
   ]
  },
  {
   "cell_type": "code",
   "execution_count": 20,
   "metadata": {},
   "outputs": [
    {
     "data": {
      "image/png": "[encoded data removed]",
      "text/plain": [
       "<matplotlib.figure.Figure at 0x1e4dce6f128>"
      ]
     },
     "metadata": {},
     "output_type": "display_data"
    }
   ],
   "source": [
    "# Look at  how avg sale price changed over time:\n",
    "pt = df.pivot_table(\"SalePrice\", \"MoSold\", \"YrSold\", aggfunc='median')\n",
    "ax = sns.heatmap(pt, linewidths=.5, center=np.median(df.SalePrice))\n",
    "plt.title('Date and Sales Price')\n",
    "plt.show()"
   ]
  },
  {
   "cell_type": "markdown",
   "metadata": {},
   "source": [
    "Looking at the heatmap of sales price and homes, housing prices peaked in late 2007 then started to decline. This decline coinsides with the decline in the average Sales price of homes in the US"
   ]
  },
  {
   "cell_type": "code",
   "execution_count": 21,
   "metadata": {
    "scrolled": false
   },
   "outputs": [
    {
     "data": {
      "image/png": "[encoded data removed]",
      "text/plain": [
       "<matplotlib.figure.Figure at 0x1e4dcf94ac8>"
      ]
     },
     "metadata": {},
     "output_type": "display_data"
    }
   ],
   "source": [
    "# View Price by Neighborhood:\n",
    "plt.figure(figsize = (12, 6))\n",
    "sns.barplot(x = 'Neighborhood', y = 'SalePrice', data = df.sort_values(by='SalePrice'), palette='Greens')\n",
    "xt = plt.xticks(rotation=45)\n",
    "plt.title('Sales Price by Neighborhood')\n",
    "plt.show()"
   ]
  },
  {
   "cell_type": "markdown",
   "metadata": {},
   "source": [
    "The ‘Sales Price by Neighborhood’ Plot shows ‘NoRidge’, ‘StoneBr’, and ‘NridgeHt’ are the neighborhoods with the highest average sales price. It seems that ‘BrDale’, ‘MeadowV’, and ‘IDOTRR’ are neighborhoods with the lowest average sales price. "
   ]
  },
  {
   "cell_type": "code",
   "execution_count": 22,
   "metadata": {},
   "outputs": [
    {
     "data": {
      "text/plain": [
       "count      70.000000\n",
       "mean     1122.257143\n",
       "std       316.911760\n",
       "min       480.000000\n",
       "25%       987.000000\n",
       "50%      1109.500000\n",
       "75%      1313.750000\n",
       "max      2521.000000\n",
       "Name: GrLivArea, dtype: float64"
      ]
     },
     "execution_count": 22,
     "metadata": {},
     "output_type": "execute_result"
    }
   ],
   "source": [
    "#investigate GrLivArea of above neighborhood homes.\n",
    "chomes = df[df['Neighborhood'] == 'MeadowV']\n",
    "ahomes = df[df['Neighborhood'] == 'BrDale']\n",
    "bhomes = df[df['Neighborhood'] == 'IDOTRR']\n",
    "\n",
    "ln = pd.concat([chomes, ahomes, bhomes], axis=0)\n",
    "\n",
    "ln.GrLivArea.describe()"
   ]
  },
  {
   "cell_type": "code",
   "execution_count": 23,
   "metadata": {},
   "outputs": [
    {
     "data": {
      "text/plain": [
       "count    1460.000000\n",
       "mean     1515.463699\n",
       "std       525.480383\n",
       "min       334.000000\n",
       "25%      1129.500000\n",
       "50%      1464.000000\n",
       "75%      1776.750000\n",
       "max      5642.000000\n",
       "Name: GrLivArea, dtype: float64"
      ]
     },
     "execution_count": 23,
     "metadata": {},
     "output_type": "execute_result"
    }
   ],
   "source": [
    "df.GrLivArea.describe()"
   ]
  },
  {
   "cell_type": "markdown",
   "metadata": {},
   "source": [
    "Homes in the above mentioned neighborhood have a significantly lower average GrLivArea that the data set. "
   ]
  },
  {
   "cell_type": "code",
   "execution_count": 24,
   "metadata": {
    "scrolled": true
   },
   "outputs": [
    {
     "data": {
      "image/png": "[encoded data removed]",
      "text/plain": [
       "<matplotlib.figure.Figure at 0x1e4dce00c18>"
      ]
     },
     "metadata": {},
     "output_type": "display_data"
    }
   ],
   "source": [
    "fig, ax = plt.subplots(1, 2, figsize = (10, 4))\n",
    "sns.violinplot(x = 'MSZoning', y = 'SalePrice', data = df)\n",
    "sns.countplot('MSZoning', data = df,ax = ax[0])\n",
    "plt.tight_layout()\n",
    "plt.show()"
   ]
  },
  {
   "cell_type": "markdown",
   "metadata": {},
   "source": [
    "#### MSZoning Codes:\n",
    " - A:\tAgriculture\n",
    " - C:\tCommercial\n",
    " - FV:\tFloating Village Residential\n",
    " - I:\tIndustrial\n",
    " - RH:\tResidential High Density\n",
    " - RL:\tResidential Low Density\n",
    " - RP:\tResidential Low Density Park \n",
    " - RM:\tResidential Medium Density"
   ]
  },
  {
   "cell_type": "markdown",
   "metadata": {},
   "source": [
    "# Statistical Analysis"
   ]
  },
  {
   "cell_type": "code",
   "execution_count": 25,
   "metadata": {},
   "outputs": [],
   "source": [
    "import scipy.stats as stats\n",
    "from statsmodels.stats.proportion import proportions_ztest\n",
    "from collections import defaultdict"
   ]
  },
  {
   "cell_type": "code",
   "execution_count": 26,
   "metadata": {},
   "outputs": [],
   "source": [
    "def ecdf(data):\n",
    "    \"\"\"Compute ECDF for a one-dimensional array of measurements.\"\"\"\n",
    "\n",
    "    # Number of data points: n\n",
    "    n = len(data)\n",
    "\n",
    "    # x-data for the ECDF: x\n",
    "    x = np.sort(data)\n",
    "\n",
    "    # y-data for the ECDF: y\n",
    "    y = np.arange(1, n+1) / n\n",
    "\n",
    "    return x, y"
   ]
  },
  {
   "cell_type": "code",
   "execution_count": 27,
   "metadata": {},
   "outputs": [
    {
     "data": {
      "image/png": "[encoded data removed]",
      "text/plain": [
       "<matplotlib.figure.Figure at 0x1e4dcdce080>"
      ]
     },
     "metadata": {},
     "output_type": "display_data"
    }
   ],
   "source": [
    "# Make ecdf plot of Sale price:\n",
    "x, y = ecdf(df.SalePrice)\n",
    "plt.plot(x, y, marker = '.', linestyle = 'none')\n",
    "plt.margins(.02)\n",
    "plt.ylabel('ECDF')\n",
    "plt.xlabel('Sale Price')\n",
    "plt.show()"
   ]
  },
  {
   "cell_type": "markdown",
   "metadata": {},
   "source": [
    "The ecdf curve shows that 90% percent of the data has a sale price at or below 300K and confirms what the distribution of score is skewed to the right."
   ]
  },
  {
   "cell_type": "code",
   "execution_count": 28,
   "metadata": {
    "scrolled": true
   },
   "outputs": [
    {
     "name": "stdout",
     "output_type": "stream",
     "text": [
      "List the numerical features decendingly by their correlation with Sale Price:\n",
      "\n",
      "OverallQual: \t0.7909816005838047\n",
      "GrLivArea: \t0.7086244776126511\n",
      "GarageCars: \t0.640409197258349\n",
      "GarageArea: \t0.6234314389183598\n",
      "TotalBsmtSF: \t0.6135805515591944\n",
      "1stFlrSF: \t0.6058521846919166\n",
      "FullBath: \t0.5606637627484452\n",
      "TotRmsAbvGrd: \t0.5337231555820238\n",
      "YearBuilt: \t0.5228973328794967\n",
      "YearRemodAdd: \t0.5071009671113867\n",
      "MasVnrArea: \t0.47261449900457725\n",
      "Fireplaces: \t0.4669288367515242\n",
      "BsmtFinSF1: \t0.38641980624215627\n",
      "WoodDeckSF: \t0.32441344456813076\n",
      "2ndFlrSF: \t0.31933380283206614\n",
      "OpenPorchSF: \t0.31585622711605577\n",
      "HalfBath: \t0.2841076755947784\n",
      "LotArea: \t0.2638433538714063\n",
      "GarageYrBlt: \t0.2613664351029631\n",
      "BsmtFullBath: \t0.22712223313149718\n",
      "BsmtUnfSF: \t0.214479105546969\n",
      "LotFrontage: \t0.20962394479948315\n",
      "BedroomAbvGr: \t0.1682131543007415\n",
      "KitchenAbvGr: \t-0.1359073708421417\n",
      "EnclosedPorch: \t-0.12857795792595636\n",
      "ScreenPorch: \t0.11144657114291048\n",
      "PoolArea: \t0.09240354949187278\n",
      "MSSubClass: \t-0.08428413512659523\n",
      "OverallCond: \t-0.0778558940486776\n",
      "MoSold: \t0.04643224522381936\n",
      "3SsnPorch: \t0.04458366533574792\n",
      "YrSold: \t-0.028922585168730426\n",
      "LowQualFinSF: \t-0.02560613000068015\n",
      "MiscVal: \t-0.02118957964030379\n",
      "BsmtHalfBath: \t-0.016844154297359294\n",
      "BsmtFinSF2: \t-0.011378121450215216\n"
     ]
    }
   ],
   "source": [
    "# Calculate the Correlation between Continuous Variables and Sale Price:\n",
    "resdict = defaultdict(list)\n",
    "corr_mat = df.corr()\n",
    "cor_dict = corr_mat['SalePrice'].to_dict()\n",
    "del cor_dict['SalePrice']\n",
    "print(\"List the numerical features decendingly by their correlation with Sale Price:\\n\")\n",
    "for ele in sorted(cor_dict.items(), key = lambda x: -abs(x[1])):\n",
    "    print(\"{0}: \\t{1}\".format(*ele))\n",
    "    resdict[ele[0]].append(ele)"
   ]
  },
  {
   "cell_type": "markdown",
   "metadata": {},
   "source": [
    "The function shows GrLiveArea, GarageCars, GarageArea, 1stFlrSF, TotalBsmtSf and FullBath are varaibles with the highest correlation with 'SalePrice.' We will test weather this correlation is by chance or there is a true correlation between these variables and 'SalePrice'."
   ]
  },
  {
   "cell_type": "code",
   "execution_count": 29,
   "metadata": {},
   "outputs": [],
   "source": [
    "# Place Highly correlated Variables in Dataframe:\n",
    "dfres1 = pd.DataFrame.from_dict(resdict, orient='index')\n",
    "dfres1 = dfres1[0].apply(pd.Series).drop(0, axis=1)\n",
    "dfres1.columns = ['Correlation']\n",
    "Hcv = dfres1[dfres1['Correlation'] > .5]\n"
   ]
  },
  {
   "cell_type": "code",
   "execution_count": 30,
   "metadata": {},
   "outputs": [
    {
     "name": "stdout",
     "output_type": "stream",
     "text": [
      "OverallQual\n",
      "Slope : 45435.80259309937\n",
      "Intercept : -96206.07951476026 \n",
      "\n",
      "GrLivArea\n",
      "Slope : 107.13035896582518\n",
      "Intercept : 18569.025856487286 \n",
      "\n",
      "GarageCars\n",
      "Slope : 68077.9976463468\n",
      "Intercept : 60618.980871524145 \n",
      "\n",
      "GarageArea\n",
      "Slope : 231.6456145094044\n",
      "Intercept : 71357.42140747691 \n",
      "\n",
      "TotalBsmtSF\n",
      "Slope : 111.10960368712767\n",
      "Intercept : 63430.628545506195 \n",
      "\n",
      "1stFlrSF\n",
      "Slope : 124.5006222206582\n",
      "Intercept : 36173.446795121235 \n",
      "\n",
      "FullBath\n",
      "Slope : 80848.1667865402\n",
      "Intercept : 54388.27732380532 \n",
      "\n",
      "TotRmsAbvGrd\n",
      "Slope : 26086.18084719235\n",
      "Intercept : 10896.471957614758 \n",
      "\n",
      "YearBuilt\n",
      "Slope : 1375.3734679368933\n",
      "Intercept : -2530308.2457323577 \n",
      "\n",
      "YearRemodAdd\n",
      "Slope : 1951.2994060556643\n",
      "Intercept : -3692146.16986735 \n",
      "\n",
      "MasVnrArea\n",
      "Slope : 207.74300555591512\n",
      "Intercept : 159499.3347743503 \n",
      "\n",
      "Fireplaces\n",
      "Slope : 57539.83183756454\n",
      "Intercept : 145648.49075710942 \n",
      "\n",
      "BsmtFinSF1\n",
      "Slope : 67.30604049404647\n",
      "Intercept : 151061.56252564327 \n",
      "\n",
      "WoodDeckSF\n",
      "Slope : 205.62042373751538\n",
      "Intercept : 161542.5976404036 \n",
      "\n",
      "2ndFlrSF\n",
      "Slope : 58.1146025472208\n",
      "Intercept : 160755.86665627052 \n",
      "\n",
      "OpenPorchSF\n",
      "Slope : 378.7188896337673\n",
      "Intercept : 163250.06874149948 \n",
      "\n",
      "HalfBath\n",
      "Slope : 44881.44950334046\n",
      "Intercept : 163737.13406002236 \n",
      "\n",
      "LotArea\n",
      "Slope : 2.099971951707668\n",
      "Intercept : 158836.1518968766 \n",
      "\n",
      "GarageYrBlt\n",
      "Slope : 45.76532411623939\n",
      "Intercept : 95397.71663987475 \n",
      "\n",
      "BsmtFullBath\n",
      "Slope : 34771.22735316325\n",
      "Intercept : 166131.51631074338 \n",
      "\n",
      "BsmtUnfSF\n",
      "Slope : 38.56083093938872\n",
      "Intercept : 159047.93430143528 \n",
      "\n",
      "LotFrontage\n",
      "Slope : 480.4092050463294\n",
      "Intercept : 153238.43806811798 \n",
      "\n",
      "BedroomAbvGr\n",
      "Slope : 16381.016982988804\n",
      "Intercept : 133966.02049739182 \n",
      "\n",
      "KitchenAbvGr\n",
      "Slope : -49001.13452463861\n",
      "Intercept : 232204.5750367447 \n",
      "\n",
      "EnclosedPorch\n",
      "Slope : -167.12527950560505\n",
      "Intercept : 184590.2825917761 \n",
      "\n",
      "ScreenPorch\n",
      "Slope : 158.78775055390204\n",
      "Intercept : 178529.70010484257 \n",
      "\n",
      "PoolArea\n",
      "Slope : 182.70934030078192\n",
      "Intercept : 180417.1183405948 \n",
      "\n",
      "MSSubClass\n",
      "Slope : -158.28965166346947\n",
      "Intercept : 189927.44339978392 \n",
      "\n",
      "OverallCond\n",
      "Slope : -5558.115361285924\n",
      "Intercept : 211909.59249374468 \n",
      "\n",
      "MoSold\n",
      "Slope : 1364.3505021688425\n",
      "Intercept : 172295.8841540969 \n",
      "\n",
      "3SsnPorch\n",
      "Slope : 120.81038398448278\n",
      "Intercept : 180509.28212912678 \n",
      "\n",
      "YrSold\n",
      "Slope : -1730.0587285442157\n",
      "Intercept : 3654560.3654113184 \n",
      "\n",
      "LowQualFinSF\n",
      "Slope : -41.8364076571292\n",
      "Intercept : 181165.7096346151 \n",
      "\n",
      "MiscVal\n",
      "Slope : -3.3930157615666756\n",
      "Intercept : 181068.7548923047 \n",
      "\n",
      "BsmtHalfBath\n",
      "Slope : -5604.7201871129655\n",
      "Intercept : 181243.65924364203 \n",
      "\n",
      "BsmtFinSF2\n",
      "Slope : -5.60321423711464\n",
      "Intercept : 181182.02167533062 \n",
      "\n"
     ]
    }
   ],
   "source": [
    "# Look at each variable individual affect on Sale Price:\n",
    "for x in dfres1.index:\n",
    "    a, b = np.polyfit(df[x], df.SalePrice,1)\n",
    "    print(x)\n",
    "    print('Slope :',a)\n",
    "    print('Intercept :',b,'\\n')\n"
   ]
  },
  {
   "cell_type": "code",
   "execution_count": 31,
   "metadata": {},
   "outputs": [],
   "source": [
    "def pearson_r(x, y):\n",
    "    corr_mat = np.corrcoef(x,y)\n",
    "    return corr_mat[0,1]"
   ]
  },
  {
   "cell_type": "code",
   "execution_count": 32,
   "metadata": {},
   "outputs": [],
   "source": [
    "# define function to test correlation:\n",
    "def test_corr(cols, df=df):\n",
    "    r_obs = pearson_r(cols, df.SalePrice.values)\n",
    "    perm_replicates = np.empty(10000)\n",
    "\n",
    "    for i in range(10000):\n",
    "        cols_permuted = np.random.permutation(cols)\n",
    "        perm_replicates[i] = pearson_r(cols_permuted, df.SalePrice.values)\n",
    "\n",
    "    p = np.sum(perm_replicates >= r_obs ) / len(perm_replicates)\n",
    "    return print('p-val =', p)"
   ]
  },
  {
   "cell_type": "code",
   "execution_count": 33,
   "metadata": {},
   "outputs": [
    {
     "name": "stdout",
     "output_type": "stream",
     "text": [
      "\n",
      " OverallQual\n",
      "p-val = 0.0\n",
      "\n",
      " GrLivArea\n",
      "p-val = 0.0\n",
      "\n",
      " GarageCars\n",
      "p-val = 0.0\n",
      "\n",
      " GarageArea\n",
      "p-val = 0.0\n",
      "\n",
      " TotalBsmtSF\n",
      "p-val = 0.0\n",
      "\n",
      " 1stFlrSF\n",
      "p-val = 0.0\n",
      "\n",
      " FullBath\n",
      "p-val = 0.0\n",
      "\n",
      " TotRmsAbvGrd\n",
      "p-val = 0.0\n",
      "\n",
      " YearBuilt\n",
      "p-val = 0.0\n",
      "\n",
      " YearRemodAdd\n",
      "p-val = 0.0\n"
     ]
    }
   ],
   "source": [
    "# Loop through variables and test correlation:\n",
    "for x in dfres1.index :\n",
    "    if dfres1.loc[x][0] > .5:\n",
    "        print('\\n',x)\n",
    "        test_corr(df[x].values)"
   ]
  },
  {
   "cell_type": "markdown",
   "metadata": {},
   "source": [
    "These are the variable that have a correlation with sale price higher than .5 and passed the correlation test. Next i want to look as the categorical variables within the data. Below ive defined a function that conducts a chi squared test. I will use this function to test the significance on the categorical variables when predicting sales price."
   ]
  },
  {
   "cell_type": "code",
   "execution_count": 34,
   "metadata": {},
   "outputs": [],
   "source": [
    "#define funtion for chi test:\n",
    "def Chi_test(data,c1,c2):\n",
    "    #combine columns into matrix\n",
    "    table = pd.crosstab(data[c1], data[c2])\n",
    "    \n",
    "    colsum = table.sum(axis=0)\n",
    "    colpct = table / colsum\n",
    "    cstable = stats.chi2_contingency(table)\n",
    "    \n",
    "    return cstable[0], cstable[1], cstable[2]"
   ]
  },
  {
   "cell_type": "markdown",
   "metadata": {},
   "source": [
    "First we need to identify all the categorical variables with in the dataframe and identify the columns indexes. "
   ]
  },
  {
   "cell_type": "code",
   "execution_count": 35,
   "metadata": {},
   "outputs": [],
   "source": [
    "objectcl = df.loc[:, df.dtypes == 'object'].columns"
   ]
  },
  {
   "cell_type": "markdown",
   "metadata": {},
   "source": [
    "In order for the chi squared test to work, we categorize Sale price. I will split them into 2 groups High Price Homes(HPH) and Low Price Homes(LPH)."
   ]
  },
  {
   "cell_type": "code",
   "execution_count": 36,
   "metadata": {},
   "outputs": [],
   "source": [
    "# Split Homes by Sale price in 'LPH' and 'HPH':\n",
    "SPavg = np.mean(df.SalePrice)\n",
    "\n",
    "bins = [0, SPavg, max(df.SalePrice)+1]\n",
    "\n",
    "bin_names = ['LPH', 'HPH']\n",
    "\n",
    "df1 = df.copy()\n",
    "\n",
    "df1['SPcat'] = pd.cut(df1['SalePrice'], bins, labels=bin_names)\n",
    "\n",
    "HPH = df1[df1['SalePrice'] >= SPavg ]\n",
    "LPH = df1[df1['SalePrice'] < SPavg ]"
   ]
  },
  {
   "cell_type": "code",
   "execution_count": 37,
   "metadata": {},
   "outputs": [],
   "source": [
    "from collections import defaultdict"
   ]
  },
  {
   "cell_type": "code",
   "execution_count": 38,
   "metadata": {},
   "outputs": [],
   "source": [
    "# Chi-Squared test on Categorical data in DF and filter out variables that have failed test:\n",
    "res = defaultdict(list)\n",
    "for x in objectcl:\n",
    "    Chi_test(df1, x, 'SPcat')\n",
    "    if Chi_test(df1, x, 'SPcat')[1] < .01 and Chi_test(df1, x, 'SPcat')[2] > 3:\n",
    "        res[x].append(list(Chi_test(df1, x, 'SPcat')))"
   ]
  },
  {
   "cell_type": "code",
   "execution_count": 39,
   "metadata": {},
   "outputs": [],
   "source": [
    "#view result in DataFrame:\n",
    "dfres = pd.DataFrame.from_dict(res, orient='index')\n",
    "dfres = dfres[0].apply(pd.Series)\n",
    "columns = ['Chi Statistic','P-Value','Expected Value']\n",
    "dfres.columns = columns"
   ]
  },
  {
   "cell_type": "code",
   "execution_count": 40,
   "metadata": {},
   "outputs": [
    {
     "data": {
      "text/html": [
       "<div>\n",
       "<style scoped>\n",
       "    .dataframe tbody tr th:only-of-type {\n",
       "        vertical-align: middle;\n",
       "    }\n",
       "\n",
       "    .dataframe tbody tr th {\n",
       "        vertical-align: top;\n",
       "    }\n",
       "\n",
       "    .dataframe thead th {\n",
       "        text-align: right;\n",
       "    }\n",
       "</style>\n",
       "<table border=\"1\" class=\"dataframe\">\n",
       "  <thead>\n",
       "    <tr style=\"text-align: right;\">\n",
       "      <th></th>\n",
       "      <th>Chi Statistic</th>\n",
       "      <th>P-Value</th>\n",
       "      <th>Expected Value</th>\n",
       "    </tr>\n",
       "  </thead>\n",
       "  <tbody>\n",
       "    <tr>\n",
       "      <th>MSZoning</th>\n",
       "      <td>148.654788</td>\n",
       "      <td>3.953446e-31</td>\n",
       "      <td>4.0</td>\n",
       "    </tr>\n",
       "    <tr>\n",
       "      <th>LotConfig</th>\n",
       "      <td>35.698353</td>\n",
       "      <td>3.338055e-07</td>\n",
       "      <td>4.0</td>\n",
       "    </tr>\n",
       "    <tr>\n",
       "      <th>Neighborhood</th>\n",
       "      <td>667.687761</td>\n",
       "      <td>1.533812e-125</td>\n",
       "      <td>24.0</td>\n",
       "    </tr>\n",
       "    <tr>\n",
       "      <th>Condition1</th>\n",
       "      <td>64.202588</td>\n",
       "      <td>6.937136e-11</td>\n",
       "      <td>8.0</td>\n",
       "    </tr>\n",
       "    <tr>\n",
       "      <th>BldgType</th>\n",
       "      <td>54.074459</td>\n",
       "      <td>5.077098e-11</td>\n",
       "      <td>4.0</td>\n",
       "    </tr>\n",
       "    <tr>\n",
       "      <th>HouseStyle</th>\n",
       "      <td>145.607947</td>\n",
       "      <td>3.391637e-28</td>\n",
       "      <td>7.0</td>\n",
       "    </tr>\n",
       "    <tr>\n",
       "      <th>RoofStyle</th>\n",
       "      <td>18.436013</td>\n",
       "      <td>2.446791e-03</td>\n",
       "      <td>5.0</td>\n",
       "    </tr>\n",
       "    <tr>\n",
       "      <th>Exterior1st</th>\n",
       "      <td>275.217871</td>\n",
       "      <td>1.701998e-50</td>\n",
       "      <td>14.0</td>\n",
       "    </tr>\n",
       "    <tr>\n",
       "      <th>Exterior2nd</th>\n",
       "      <td>274.122764</td>\n",
       "      <td>1.299424e-49</td>\n",
       "      <td>15.0</td>\n",
       "    </tr>\n",
       "    <tr>\n",
       "      <th>MasVnrType</th>\n",
       "      <td>197.370629</td>\n",
       "      <td>1.380841e-41</td>\n",
       "      <td>4.0</td>\n",
       "    </tr>\n",
       "    <tr>\n",
       "      <th>ExterCond</th>\n",
       "      <td>25.861571</td>\n",
       "      <td>3.374480e-05</td>\n",
       "      <td>4.0</td>\n",
       "    </tr>\n",
       "    <tr>\n",
       "      <th>Foundation</th>\n",
       "      <td>391.826677</td>\n",
       "      <td>1.712769e-82</td>\n",
       "      <td>5.0</td>\n",
       "    </tr>\n",
       "    <tr>\n",
       "      <th>BsmtQual</th>\n",
       "      <td>494.694888</td>\n",
       "      <td>9.406533e-106</td>\n",
       "      <td>4.0</td>\n",
       "    </tr>\n",
       "    <tr>\n",
       "      <th>BsmtCond</th>\n",
       "      <td>44.642175</td>\n",
       "      <td>4.718714e-09</td>\n",
       "      <td>4.0</td>\n",
       "    </tr>\n",
       "    <tr>\n",
       "      <th>BsmtExposure</th>\n",
       "      <td>119.606630</td>\n",
       "      <td>6.481531e-25</td>\n",
       "      <td>4.0</td>\n",
       "    </tr>\n",
       "    <tr>\n",
       "      <th>BsmtFinType1</th>\n",
       "      <td>277.502263</td>\n",
       "      <td>5.380864e-57</td>\n",
       "      <td>6.0</td>\n",
       "    </tr>\n",
       "    <tr>\n",
       "      <th>BsmtFinType2</th>\n",
       "      <td>34.628151</td>\n",
       "      <td>5.086576e-06</td>\n",
       "      <td>6.0</td>\n",
       "    </tr>\n",
       "    <tr>\n",
       "      <th>HeatingQC</th>\n",
       "      <td>289.645980</td>\n",
       "      <td>1.853534e-61</td>\n",
       "      <td>4.0</td>\n",
       "    </tr>\n",
       "    <tr>\n",
       "      <th>Electrical</th>\n",
       "      <td>66.233643</td>\n",
       "      <td>6.215878e-13</td>\n",
       "      <td>5.0</td>\n",
       "    </tr>\n",
       "    <tr>\n",
       "      <th>Functional</th>\n",
       "      <td>27.050335</td>\n",
       "      <td>1.416969e-04</td>\n",
       "      <td>6.0</td>\n",
       "    </tr>\n",
       "    <tr>\n",
       "      <th>FireplaceQu</th>\n",
       "      <td>288.641600</td>\n",
       "      <td>2.767809e-60</td>\n",
       "      <td>5.0</td>\n",
       "    </tr>\n",
       "    <tr>\n",
       "      <th>GarageType</th>\n",
       "      <td>330.506007</td>\n",
       "      <td>2.355360e-68</td>\n",
       "      <td>6.0</td>\n",
       "    </tr>\n",
       "    <tr>\n",
       "      <th>GarageQual</th>\n",
       "      <td>72.138797</td>\n",
       "      <td>3.675056e-14</td>\n",
       "      <td>5.0</td>\n",
       "    </tr>\n",
       "    <tr>\n",
       "      <th>GarageCond</th>\n",
       "      <td>76.231168</td>\n",
       "      <td>5.147618e-15</td>\n",
       "      <td>5.0</td>\n",
       "    </tr>\n",
       "    <tr>\n",
       "      <th>SaleType</th>\n",
       "      <td>114.053379</td>\n",
       "      <td>5.581448e-21</td>\n",
       "      <td>8.0</td>\n",
       "    </tr>\n",
       "    <tr>\n",
       "      <th>SaleCondition</th>\n",
       "      <td>114.526307</td>\n",
       "      <td>4.523045e-23</td>\n",
       "      <td>5.0</td>\n",
       "    </tr>\n",
       "  </tbody>\n",
       "</table>\n",
       "</div>"
      ],
      "text/plain": [
       "               Chi Statistic        P-Value  Expected Value\n",
       "MSZoning          148.654788   3.953446e-31             4.0\n",
       "LotConfig          35.698353   3.338055e-07             4.0\n",
       "Neighborhood      667.687761  1.533812e-125            24.0\n",
       "Condition1         64.202588   6.937136e-11             8.0\n",
       "BldgType           54.074459   5.077098e-11             4.0\n",
       "HouseStyle        145.607947   3.391637e-28             7.0\n",
       "RoofStyle          18.436013   2.446791e-03             5.0\n",
       "Exterior1st       275.217871   1.701998e-50            14.0\n",
       "Exterior2nd       274.122764   1.299424e-49            15.0\n",
       "MasVnrType        197.370629   1.380841e-41             4.0\n",
       "ExterCond          25.861571   3.374480e-05             4.0\n",
       "Foundation        391.826677   1.712769e-82             5.0\n",
       "BsmtQual          494.694888  9.406533e-106             4.0\n",
       "BsmtCond           44.642175   4.718714e-09             4.0\n",
       "BsmtExposure      119.606630   6.481531e-25             4.0\n",
       "BsmtFinType1      277.502263   5.380864e-57             6.0\n",
       "BsmtFinType2       34.628151   5.086576e-06             6.0\n",
       "HeatingQC         289.645980   1.853534e-61             4.0\n",
       "Electrical         66.233643   6.215878e-13             5.0\n",
       "Functional         27.050335   1.416969e-04             6.0\n",
       "FireplaceQu       288.641600   2.767809e-60             5.0\n",
       "GarageType        330.506007   2.355360e-68             6.0\n",
       "GarageQual         72.138797   3.675056e-14             5.0\n",
       "GarageCond         76.231168   5.147618e-15             5.0\n",
       "SaleType          114.053379   5.581448e-21             8.0\n",
       "SaleCondition     114.526307   4.523045e-23             5.0"
      ]
     },
     "execution_count": 40,
     "metadata": {},
     "output_type": "execute_result"
    }
   ],
   "source": [
    "dfres"
   ]
  },
  {
   "cell_type": "markdown",
   "metadata": {},
   "source": [
    "The above dataframe showcases the categorical variables that passed that chi squared test."
   ]
  },
  {
   "cell_type": "code",
   "execution_count": 41,
   "metadata": {},
   "outputs": [],
   "source": [
    "catcol = list(dfres.index)\n",
    "numcol = list(dfres1.index)\n",
    "predV = catcol + numcol"
   ]
  },
  {
   "cell_type": "markdown",
   "metadata": {},
   "source": [
    "Add significant numerical and categorical column names into a list."
   ]
  },
  {
   "cell_type": "markdown",
   "metadata": {},
   "source": [
    "# Data Preprocessing"
   ]
  },
  {
   "cell_type": "code",
   "execution_count": 42,
   "metadata": {},
   "outputs": [],
   "source": [
    "from sklearn.linear_model import Ridge, RidgeCV, ElasticNet, LassoCV, Lasso, LinearRegression\n",
    "from sklearn.preprocessing import RobustScaler\n",
    "from sklearn.model_selection import  cross_val_score, train_test_split\n",
    "from sklearn.metrics import mean_squared_error\n",
    "from sklearn.model_selection import StratifiedShuffleSplit\n",
    "from sklearn.model_selection import GridSearchCV\n",
    "from sklearn.ensemble import AdaBoostRegressor"
   ]
  },
  {
   "cell_type": "code",
   "execution_count": 43,
   "metadata": {},
   "outputs": [],
   "source": [
    "test = testdf[predV]"
   ]
  },
  {
   "cell_type": "code",
   "execution_count": 44,
   "metadata": {},
   "outputs": [],
   "source": [
    "predV.append('SalePrice')\n",
    "train = df[predV]"
   ]
  },
  {
   "cell_type": "markdown",
   "metadata": {},
   "source": [
    "convert numerical columns that are actually categorical."
   ]
  },
  {
   "cell_type": "code",
   "execution_count": 45,
   "metadata": {},
   "outputs": [],
   "source": [
    "train = train.astype({'MSSubClass':'str'})"
   ]
  },
  {
   "cell_type": "code",
   "execution_count": 46,
   "metadata": {},
   "outputs": [],
   "source": [
    "test = test.astype({'MSSubClass':'str'})"
   ]
  },
  {
   "cell_type": "code",
   "execution_count": 47,
   "metadata": {},
   "outputs": [
    {
     "name": "stdout",
     "output_type": "stream",
     "text": [
      "Shape training data: (1460, 63)\n"
     ]
    }
   ],
   "source": [
    "objs = train.select_dtypes('object').columns\n",
    "print('Shape training data: {}'.format(train.shape))"
   ]
  },
  {
   "cell_type": "code",
   "execution_count": 48,
   "metadata": {},
   "outputs": [],
   "source": [
    "#Create new variable 'TotalSF':\n",
    "train['TotalSF'] = train['TotalBsmtSF'] + train['1stFlrSF'] + train['2ndFlrSF']\n",
    "test['TotalSF'] = test['TotalBsmtSF'] + test['1stFlrSF'] + test['2ndFlrSF']\n",
    "train = train.drop(['TotalBsmtSF','1stFlrSF','2ndFlrSF'], axis=1)\n",
    "test = test.drop(['TotalBsmtSF','1stFlrSF','2ndFlrSF'], axis=1)"
   ]
  },
  {
   "cell_type": "code",
   "execution_count": 49,
   "metadata": {},
   "outputs": [],
   "source": [
    "X = train.reset_index(drop=True).drop(['SalePrice','MoSold', 'YrSold'], axis=1)\n",
    "y = np.log(train.SalePrice)"
   ]
  },
  {
   "cell_type": "code",
   "execution_count": 50,
   "metadata": {},
   "outputs": [],
   "source": [
    "# Get numerical columns\n",
    "numcol = X.loc[:, X.dtypes != np.object].columns"
   ]
  },
  {
   "cell_type": "markdown",
   "metadata": {},
   "source": [
    "The above Dataframe shows the numerical columns with skewed values. I will use RobustScaler to transform the numerical columns."
   ]
  },
  {
   "cell_type": "code",
   "execution_count": 51,
   "metadata": {},
   "outputs": [],
   "source": [
    "from statsmodels.stats.outliers_influence import variance_inflation_factor\n",
    "from sklearn.base import BaseEstimator, TransformerMixin\n",
    "from sklearn.preprocessing import Imputer"
   ]
  },
  {
   "cell_type": "code",
   "execution_count": 52,
   "metadata": {},
   "outputs": [],
   "source": [
    "#get dummy varables for categorical data:\n",
    "X = pd.get_dummies(X, columns=objs, drop_first=True)\n"
   ]
  },
  {
   "cell_type": "code",
   "execution_count": 53,
   "metadata": {
    "scrolled": false
   },
   "outputs": [
    {
     "name": "stdout",
     "output_type": "stream",
     "text": [
      "\n",
      "Skew in numerical features: \n",
      "\n"
     ]
    },
    {
     "data": {
      "text/html": [
       "<div>\n",
       "<style scoped>\n",
       "    .dataframe tbody tr th:only-of-type {\n",
       "        vertical-align: middle;\n",
       "    }\n",
       "\n",
       "    .dataframe tbody tr th {\n",
       "        vertical-align: top;\n",
       "    }\n",
       "\n",
       "    .dataframe thead th {\n",
       "        text-align: right;\n",
       "    }\n",
       "</style>\n",
       "<table border=\"1\" class=\"dataframe\">\n",
       "  <thead>\n",
       "    <tr style=\"text-align: right;\">\n",
       "      <th></th>\n",
       "      <th>Skew</th>\n",
       "    </tr>\n",
       "  </thead>\n",
       "  <tbody>\n",
       "    <tr>\n",
       "      <th>MiscVal</th>\n",
       "      <td>24.451640</td>\n",
       "    </tr>\n",
       "    <tr>\n",
       "      <th>PoolArea</th>\n",
       "      <td>14.813135</td>\n",
       "    </tr>\n",
       "    <tr>\n",
       "      <th>LotArea</th>\n",
       "      <td>12.195142</td>\n",
       "    </tr>\n",
       "    <tr>\n",
       "      <th>3SsnPorch</th>\n",
       "      <td>10.293752</td>\n",
       "    </tr>\n",
       "    <tr>\n",
       "      <th>LowQualFinSF</th>\n",
       "      <td>9.002080</td>\n",
       "    </tr>\n",
       "    <tr>\n",
       "      <th>KitchenAbvGr</th>\n",
       "      <td>4.483784</td>\n",
       "    </tr>\n",
       "    <tr>\n",
       "      <th>BsmtFinSF2</th>\n",
       "      <td>4.250888</td>\n",
       "    </tr>\n",
       "    <tr>\n",
       "      <th>ScreenPorch</th>\n",
       "      <td>4.117977</td>\n",
       "    </tr>\n",
       "    <tr>\n",
       "      <th>BsmtHalfBath</th>\n",
       "      <td>4.099186</td>\n",
       "    </tr>\n",
       "    <tr>\n",
       "      <th>EnclosedPorch</th>\n",
       "      <td>3.086696</td>\n",
       "    </tr>\n",
       "  </tbody>\n",
       "</table>\n",
       "</div>"
      ],
      "text/plain": [
       "                    Skew\n",
       "MiscVal        24.451640\n",
       "PoolArea       14.813135\n",
       "LotArea        12.195142\n",
       "3SsnPorch      10.293752\n",
       "LowQualFinSF    9.002080\n",
       "KitchenAbvGr    4.483784\n",
       "BsmtFinSF2      4.250888\n",
       "ScreenPorch     4.117977\n",
       "BsmtHalfBath    4.099186\n",
       "EnclosedPorch   3.086696"
      ]
     },
     "execution_count": 53,
     "metadata": {},
     "output_type": "execute_result"
    }
   ],
   "source": [
    "# Check the skew of all numerical features\n",
    "skewed_feats = X[numcol].apply(lambda x: skew(x.dropna())).sort_values(ascending=False)\n",
    "print(\"\\nSkew in numerical features: \\n\")\n",
    "skewness = pd.DataFrame({'Skew' :skewed_feats})\n",
    "skewness.head(10)"
   ]
  },
  {
   "cell_type": "code",
   "execution_count": 54,
   "metadata": {},
   "outputs": [],
   "source": [
    "X[skewness.index] = RobustScaler().fit_transform(X[skewness.index])\n",
    "Lx = X.copy()"
   ]
  },
  {
   "cell_type": "code",
   "execution_count": 55,
   "metadata": {},
   "outputs": [
    {
     "data": {
      "text/plain": [
       "216"
      ]
     },
     "execution_count": 55,
     "metadata": {},
     "output_type": "execute_result"
    }
   ],
   "source": [
    "len(X.columns)"
   ]
  },
  {
   "cell_type": "code",
   "execution_count": 56,
   "metadata": {},
   "outputs": [],
   "source": [
    "#define fucntion to reduce feature variables based on Vif:\n",
    "class ReduceVIF(BaseEstimator, TransformerMixin):\n",
    "    def __init__(self, thresh=10, impute=False, impute_strategy='median'):\n",
    "        \n",
    "        self.thresh = thresh\n",
    "        \n",
    "        if impute:\n",
    "            self.imputer = Imputer(strategy=impute_strategy)\n",
    "\n",
    "    def fit(self, X, y=None):\n",
    "        print('ReduceVIF fit')\n",
    "        if hasattr(self, 'imputer'):\n",
    "            self.imputer.fit(X)\n",
    "        return self\n",
    "\n",
    "    def transform(self, X, y=None):\n",
    "        print('ReduceVIF transform')\n",
    "        columns = X.columns.tolist()\n",
    "        if hasattr(self, 'imputer'):\n",
    "            X = pd.DataFrame(self.imputer.transform(X), columns=columns)\n",
    "        return ReduceVIF.calculate_vif(X, self.thresh)\n",
    "\n",
    "    @staticmethod\n",
    "    def calculate_vif(X, thresh=10):\n",
    "        dropped=True\n",
    "        while dropped:\n",
    "            variables = X.columns\n",
    "            dropped = False\n",
    "            vif = [variance_inflation_factor(X[variables].values, X.columns.get_loc(var)) for var in X.columns]\n",
    "            \n",
    "            max_vif = max(vif)\n",
    "            if max_vif > thresh:\n",
    "                maxloc = vif.index(max_vif)\n",
    "                print(f'Dropping {X.columns[maxloc]} with vif={max_vif}')\n",
    "                X = X.drop([X.columns.tolist()[maxloc]], axis=1)\n",
    "                dropped=True\n",
    "        return X\n",
    "    "
   ]
  },
  {
   "cell_type": "code",
   "execution_count": 57,
   "metadata": {},
   "outputs": [
    {
     "name": "stdout",
     "output_type": "stream",
     "text": [
      "ReduceVIF fit\n",
      "ReduceVIF transform\n"
     ]
    },
    {
     "name": "stderr",
     "output_type": "stream",
     "text": [
      "C:\\Users\\eshai\\Anaconda3\\lib\\site-packages\\statsmodels\\stats\\outliers_influence.py:167: RuntimeWarning: divide by zero encountered in double_scalars\n",
      "  vif = 1. / (1. - r_squared_i)\n"
     ]
    },
    {
     "name": "stdout",
     "output_type": "stream",
     "text": [
      "Dropping BldgType_Duplex with vif=inf\n",
      "Dropping Exterior1st_CBlock with vif=inf\n",
      "Dropping BsmtQual_none with vif=inf\n",
      "Dropping BsmtCond_none with vif=inf\n",
      "Dropping GarageType_none with vif=inf\n",
      "Dropping GarageQual_none with vif=inf\n",
      "Dropping TotalSF with vif=126526.34159525105\n",
      "Dropping GarageCond_TA with vif=2450.1795991062463\n",
      "Dropping GarageYrBlt with vif=2142.0070463162956\n",
      "Dropping ExterCond_TA with vif=440.30131192337444\n",
      "Dropping GarageQual_TA with vif=416.4331871725583\n",
      "Dropping MSZoning_RL with vif=195.56521199406367\n",
      "Dropping GarageType_Attchd with vif=165.31832949863676\n",
      "Dropping Exterior1st_VinylSd with vif=161.0101473757244\n",
      "Dropping MSSubClass_20 with vif=142.1623864157688\n",
      "Dropping RoofStyle_Gable with vif=130.2131640691781\n",
      "Dropping Functional_Typ with vif=124.57582934569493\n",
      "Dropping BsmtFinType2_Unf with vif=109.4603906053664\n",
      "Dropping BsmtFinType1_none with vif=89.70464252303705\n",
      "Dropping HouseStyle_1Story with vif=76.52356267324201\n",
      "Dropping MasVnrType_None with vif=61.92746265146987\n",
      "Dropping Exterior2nd_MetalSd with vif=51.90385368580559\n",
      "Dropping SaleType_New with vif=51.43321938631226\n",
      "Dropping FireplaceQu_none with vif=45.64804920658293\n",
      "Dropping BsmtCond_TA with vif=40.63456422734834\n",
      "Dropping SaleType_WD with vif=35.51658290622292\n",
      "Dropping MSSubClass_190 with vif=35.500094817577704\n",
      "Dropping Condition1_Norm with vif=33.03326690581849\n",
      "Dropping HouseStyle_2Story with vif=32.98248047355094\n",
      "Dropping Exterior2nd_CmentBd with vif=27.591972902005292\n",
      "Dropping BsmtExposure_none with vif=22.437010070240433\n",
      "Dropping Exterior2nd_VinylSd with vif=22.22559446478202\n",
      "Dropping Electrical_SBrkr with vif=19.653302876915006\n",
      "Dropping BsmtQual_TA with vif=17.127572571658476\n",
      "Dropping Exterior1st_HdBoard with vif=15.850315403051843\n",
      "Dropping SaleCondition_Normal with vif=15.043033448134786\n",
      "Dropping YearBuilt with vif=14.760113589236166\n",
      "Dropping HouseStyle_SLvl with vif=14.616153319504082\n",
      "Dropping GrLivArea with vif=11.826436800470761\n",
      "Dropping Foundation_PConc with vif=11.571481202055963\n"
     ]
    },
    {
     "data": {
      "text/html": [
       "<div>\n",
       "<style scoped>\n",
       "    .dataframe tbody tr th:only-of-type {\n",
       "        vertical-align: middle;\n",
       "    }\n",
       "\n",
       "    .dataframe tbody tr th {\n",
       "        vertical-align: top;\n",
       "    }\n",
       "\n",
       "    .dataframe thead th {\n",
       "        text-align: right;\n",
       "    }\n",
       "</style>\n",
       "<table border=\"1\" class=\"dataframe\">\n",
       "  <thead>\n",
       "    <tr style=\"text-align: right;\">\n",
       "      <th></th>\n",
       "      <th>OverallQual</th>\n",
       "      <th>GarageCars</th>\n",
       "      <th>GarageArea</th>\n",
       "      <th>FullBath</th>\n",
       "      <th>TotRmsAbvGrd</th>\n",
       "      <th>YearRemodAdd</th>\n",
       "      <th>MasVnrArea</th>\n",
       "      <th>Fireplaces</th>\n",
       "      <th>BsmtFinSF1</th>\n",
       "      <th>WoodDeckSF</th>\n",
       "      <th>...</th>\n",
       "      <th>MSSubClass_30</th>\n",
       "      <th>MSSubClass_40</th>\n",
       "      <th>MSSubClass_45</th>\n",
       "      <th>MSSubClass_50</th>\n",
       "      <th>MSSubClass_60</th>\n",
       "      <th>MSSubClass_70</th>\n",
       "      <th>MSSubClass_75</th>\n",
       "      <th>MSSubClass_80</th>\n",
       "      <th>MSSubClass_85</th>\n",
       "      <th>MSSubClass_90</th>\n",
       "    </tr>\n",
       "  </thead>\n",
       "  <tbody>\n",
       "    <tr>\n",
       "      <th>0</th>\n",
       "      <td>0.5</td>\n",
       "      <td>0.0</td>\n",
       "      <td>0.281573</td>\n",
       "      <td>0.0</td>\n",
       "      <td>1.0</td>\n",
       "      <td>0.243243</td>\n",
       "      <td>1.193303</td>\n",
       "      <td>-1.0</td>\n",
       "      <td>0.452790</td>\n",
       "      <td>0.000000</td>\n",
       "      <td>...</td>\n",
       "      <td>0</td>\n",
       "      <td>0</td>\n",
       "      <td>0</td>\n",
       "      <td>0</td>\n",
       "      <td>1</td>\n",
       "      <td>0</td>\n",
       "      <td>0</td>\n",
       "      <td>0</td>\n",
       "      <td>0</td>\n",
       "      <td>0</td>\n",
       "    </tr>\n",
       "    <tr>\n",
       "      <th>1</th>\n",
       "      <td>0.0</td>\n",
       "      <td>0.0</td>\n",
       "      <td>-0.082816</td>\n",
       "      <td>0.0</td>\n",
       "      <td>0.0</td>\n",
       "      <td>-0.486486</td>\n",
       "      <td>0.000000</td>\n",
       "      <td>0.0</td>\n",
       "      <td>0.834679</td>\n",
       "      <td>1.773810</td>\n",
       "      <td>...</td>\n",
       "      <td>0</td>\n",
       "      <td>0</td>\n",
       "      <td>0</td>\n",
       "      <td>0</td>\n",
       "      <td>0</td>\n",
       "      <td>0</td>\n",
       "      <td>0</td>\n",
       "      <td>0</td>\n",
       "      <td>0</td>\n",
       "      <td>0</td>\n",
       "    </tr>\n",
       "    <tr>\n",
       "      <th>2</th>\n",
       "      <td>0.5</td>\n",
       "      <td>0.0</td>\n",
       "      <td>0.530021</td>\n",
       "      <td>0.0</td>\n",
       "      <td>0.0</td>\n",
       "      <td>0.216216</td>\n",
       "      <td>0.986301</td>\n",
       "      <td>0.0</td>\n",
       "      <td>0.143910</td>\n",
       "      <td>0.000000</td>\n",
       "      <td>...</td>\n",
       "      <td>0</td>\n",
       "      <td>0</td>\n",
       "      <td>0</td>\n",
       "      <td>0</td>\n",
       "      <td>1</td>\n",
       "      <td>0</td>\n",
       "      <td>0</td>\n",
       "      <td>0</td>\n",
       "      <td>0</td>\n",
       "      <td>0</td>\n",
       "    </tr>\n",
       "    <tr>\n",
       "      <th>3</th>\n",
       "      <td>0.5</td>\n",
       "      <td>1.0</td>\n",
       "      <td>0.670807</td>\n",
       "      <td>-1.0</td>\n",
       "      <td>0.5</td>\n",
       "      <td>-0.648649</td>\n",
       "      <td>0.000000</td>\n",
       "      <td>0.0</td>\n",
       "      <td>-0.235170</td>\n",
       "      <td>0.000000</td>\n",
       "      <td>...</td>\n",
       "      <td>0</td>\n",
       "      <td>0</td>\n",
       "      <td>0</td>\n",
       "      <td>0</td>\n",
       "      <td>0</td>\n",
       "      <td>1</td>\n",
       "      <td>0</td>\n",
       "      <td>0</td>\n",
       "      <td>0</td>\n",
       "      <td>0</td>\n",
       "    </tr>\n",
       "    <tr>\n",
       "      <th>4</th>\n",
       "      <td>1.0</td>\n",
       "      <td>1.0</td>\n",
       "      <td>1.474120</td>\n",
       "      <td>0.0</td>\n",
       "      <td>1.5</td>\n",
       "      <td>0.162162</td>\n",
       "      <td>2.130898</td>\n",
       "      <td>0.0</td>\n",
       "      <td>0.381186</td>\n",
       "      <td>1.142857</td>\n",
       "      <td>...</td>\n",
       "      <td>0</td>\n",
       "      <td>0</td>\n",
       "      <td>0</td>\n",
       "      <td>0</td>\n",
       "      <td>1</td>\n",
       "      <td>0</td>\n",
       "      <td>0</td>\n",
       "      <td>0</td>\n",
       "      <td>0</td>\n",
       "      <td>0</td>\n",
       "    </tr>\n",
       "  </tbody>\n",
       "</table>\n",
       "<p>5 rows × 176 columns</p>\n",
       "</div>"
      ],
      "text/plain": [
       "   OverallQual  GarageCars  GarageArea  FullBath  TotRmsAbvGrd  YearRemodAdd  \\\n",
       "0          0.5         0.0    0.281573       0.0           1.0      0.243243   \n",
       "1          0.0         0.0   -0.082816       0.0           0.0     -0.486486   \n",
       "2          0.5         0.0    0.530021       0.0           0.0      0.216216   \n",
       "3          0.5         1.0    0.670807      -1.0           0.5     -0.648649   \n",
       "4          1.0         1.0    1.474120       0.0           1.5      0.162162   \n",
       "\n",
       "   MasVnrArea  Fireplaces  BsmtFinSF1  WoodDeckSF      ...        \\\n",
       "0    1.193303        -1.0    0.452790    0.000000      ...         \n",
       "1    0.000000         0.0    0.834679    1.773810      ...         \n",
       "2    0.986301         0.0    0.143910    0.000000      ...         \n",
       "3    0.000000         0.0   -0.235170    0.000000      ...         \n",
       "4    2.130898         0.0    0.381186    1.142857      ...         \n",
       "\n",
       "   MSSubClass_30  MSSubClass_40  MSSubClass_45  MSSubClass_50  MSSubClass_60  \\\n",
       "0              0              0              0              0              1   \n",
       "1              0              0              0              0              0   \n",
       "2              0              0              0              0              1   \n",
       "3              0              0              0              0              0   \n",
       "4              0              0              0              0              1   \n",
       "\n",
       "   MSSubClass_70  MSSubClass_75  MSSubClass_80  MSSubClass_85  MSSubClass_90  \n",
       "0              0              0              0              0              0  \n",
       "1              0              0              0              0              0  \n",
       "2              0              0              0              0              0  \n",
       "3              1              0              0              0              0  \n",
       "4              0              0              0              0              0  \n",
       "\n",
       "[5 rows x 176 columns]"
      ]
     },
     "execution_count": 57,
     "metadata": {},
     "output_type": "execute_result"
    }
   ],
   "source": [
    "# transform data set using ReduceVIF:\n",
    "transformer = ReduceVIF()\n",
    "\n",
    "X = transformer.fit_transform(X,y)\n",
    "\n",
    "X.head()"
   ]
  },
  {
   "cell_type": "code",
   "execution_count": 58,
   "metadata": {},
   "outputs": [],
   "source": [
    "#test set for lasso \n",
    "LX_train, LX_test, Ly_train, Ly_test = train_test_split(Lx,y,random_state=5)\n",
    "#test set for Ridge\n",
    "X_train, X_test, y_train, y_test = train_test_split(X,y,random_state=5)"
   ]
  },
  {
   "cell_type": "markdown",
   "metadata": {},
   "source": [
    "# Model Construction 1: Ridge"
   ]
  },
  {
   "cell_type": "code",
   "execution_count": 59,
   "metadata": {},
   "outputs": [],
   "source": [
    "# define function to mean rmse for Ridge:\n",
    "def rmse_cv(model):\n",
    "    rmse= np.sqrt(-cross_val_score(model, X_train, y_train, scoring=\"neg_mean_squared_error\", cv = 5))\n",
    "    return(rmse)"
   ]
  },
  {
   "cell_type": "code",
   "execution_count": 60,
   "metadata": {},
   "outputs": [],
   "source": [
    "#fit model\n",
    "model_ridge = Ridge()"
   ]
  },
  {
   "cell_type": "code",
   "execution_count": 61,
   "metadata": {},
   "outputs": [
    {
     "data": {
      "text/plain": [
       "16    0.149194\n",
       "15    0.149196\n",
       "17    0.149200\n",
       "14    0.149207\n",
       "18    0.149212\n",
       "dtype: float64"
      ]
     },
     "execution_count": 61,
     "metadata": {},
     "output_type": "execute_result"
    }
   ],
   "source": [
    "#search for best alpha:\n",
    "alphas = np.arange(1,30)\n",
    "cv_ridge = [rmse_cv(Ridge(alpha = alpha)).mean() \n",
    "            for alpha in alphas]\n",
    "cv_ridge = pd.Series(cv_ridge, index = alphas).sort_values()\n",
    "cv_ridge.head(5)"
   ]
  },
  {
   "cell_type": "code",
   "execution_count": 62,
   "metadata": {
    "scrolled": false
   },
   "outputs": [
    {
     "data": {
      "image/png": "[encoded data removed]",
      "text/plain": [
       "<matplotlib.figure.Figure at 0x1e4dcd76b00>"
      ]
     },
     "metadata": {},
     "output_type": "display_data"
    }
   ],
   "source": [
    "#visualize relationship between alpha and rmse:\n",
    "cv_ridge = pd.Series(cv_ridge, index = alphas)\n",
    "cv_ridge.plot(title = \"Validation - Ridge Reg\")\n",
    "plt.xlabel(\"alpha\")\n",
    "plt.ylabel(\"rmse\")\n",
    "plt.show()"
   ]
  },
  {
   "cell_type": "code",
   "execution_count": 63,
   "metadata": {},
   "outputs": [],
   "source": [
    "model_ridge = Ridge(alpha=16).fit(X_train, y_train)"
   ]
  },
  {
   "cell_type": "code",
   "execution_count": 64,
   "metadata": {},
   "outputs": [
    {
     "name": "stdout",
     "output_type": "stream",
     "text": [
      "Root Mean Squared Error of Training:0.14919433649813468\n",
      "R2 Score on Training Set:0.8973423557011708\n",
      "R2 Score on Test Set:0.8787244016206058\n"
     ]
    }
   ],
   "source": [
    "print('Root Mean Squared Error of Training:{}'.format(rmse_cv(model_ridge).mean()))\n",
    "print('R2 Score on Training Set:{}'.format(model_ridge.score(X_train, y_train)))\n",
    "print('R2 Score on Test Set:{}'.format(model_ridge.score(X_test, y_test)))"
   ]
  },
  {
   "cell_type": "code",
   "execution_count": 65,
   "metadata": {},
   "outputs": [],
   "source": [
    "pred = model_ridge.predict(X_test)"
   ]
  },
  {
   "cell_type": "markdown",
   "metadata": {},
   "source": [
    "It seems like our model suffers from some overfitting.We will need to use a more flexible machine learning algorithm. Lasso Regrssion algorithm should do the trick. Ridge regression can't zero out coefficients; thus, you either end up including all the coefficients in the model, or none of them. In contrast, the LASSO does both parameter shrinkage and variable selection automatically to develope the best model."
   ]
  },
  {
   "cell_type": "markdown",
   "metadata": {},
   "source": [
    "# Model 2 Lasso"
   ]
  },
  {
   "cell_type": "code",
   "execution_count": 66,
   "metadata": {},
   "outputs": [],
   "source": [
    "model_lasso = Lasso()"
   ]
  },
  {
   "cell_type": "code",
   "execution_count": 67,
   "metadata": {},
   "outputs": [],
   "source": [
    "# define function to mean rmse for lasso:\n",
    "def rmse_cv(model):\n",
    "    rmse= np.sqrt(-cross_val_score(model, LX_train, Ly_train, scoring=\"neg_mean_squared_error\", cv = 5))\n",
    "    return(rmse)"
   ]
  },
  {
   "cell_type": "code",
   "execution_count": 68,
   "metadata": {},
   "outputs": [],
   "source": [
    "alphas = [.0005 ,.001, .005, .01, .05, 1,]\n",
    "cv_lasso = [rmse_cv(Lasso(alpha = alpha, max_iter=4000)).mean() \n",
    "            for alpha in alphas]\n",
    "cv_lasso = pd.Series(cv_lasso, index = alphas)"
   ]
  },
  {
   "cell_type": "code",
   "execution_count": 69,
   "metadata": {},
   "outputs": [
    {
     "data": {
      "text/plain": [
       "0.0005    0.146149\n",
       "0.0010    0.146935\n",
       "0.0050    0.158691\n",
       "0.0100    0.165063\n",
       "0.0500    0.205301\n",
       "dtype: float64"
      ]
     },
     "execution_count": 69,
     "metadata": {},
     "output_type": "execute_result"
    }
   ],
   "source": [
    "cv_lasso.head()"
   ]
  },
  {
   "cell_type": "code",
   "execution_count": 70,
   "metadata": {
    "scrolled": true
   },
   "outputs": [
    {
     "data": {
      "image/png": "[encoded data removed]",
      "text/plain": [
       "<matplotlib.figure.Figure at 0x1e4dcca2e48>"
      ]
     },
     "metadata": {},
     "output_type": "display_data"
    }
   ],
   "source": [
    "cv_lasso = pd.Series(cv_lasso, index = alphas)\n",
    "cv_lasso.plot(title = \"Validation - Lasso Reg\")\n",
    "plt.xlabel(\"alpha\")\n",
    "plt.ylabel(\"rmse\")\n",
    "plt.show()"
   ]
  },
  {
   "cell_type": "code",
   "execution_count": 71,
   "metadata": {},
   "outputs": [],
   "source": [
    "model_lasso = Lasso(alpha = 0.0005, max_iter=4000).fit(LX_train, Ly_train)"
   ]
  },
  {
   "cell_type": "code",
   "execution_count": 72,
   "metadata": {
    "scrolled": true
   },
   "outputs": [
    {
     "name": "stdout",
     "output_type": "stream",
     "text": [
      "Root Mean Squared Error of Training:0.14614933023027818\n",
      "R2 Score on Training Set:0.908129507782556\n",
      "R2 Score on Test Set:0.8975725500744668\n"
     ]
    }
   ],
   "source": [
    "print('Root Mean Squared Error of Training:{}'.format(rmse_cv(model_lasso).mean()))\n",
    "print('R2 Score on Training Set:{}'.format(model_lasso.score(LX_train, Ly_train)))\n",
    "print('R2 Score on Test Set:{}'.format(model_lasso.score(LX_test, Ly_test)))"
   ]
  },
  {
   "cell_type": "code",
   "execution_count": 73,
   "metadata": {},
   "outputs": [],
   "source": [
    "pred2 = model_lasso.predict(LX_test)"
   ]
  },
  {
   "cell_type": "code",
   "execution_count": 74,
   "metadata": {},
   "outputs": [
    {
     "data": {
      "image/png": "[encoded data removed]",
      "text/plain": [
       "<matplotlib.figure.Figure at 0x1e4dcdaaf98>"
      ]
     },
     "metadata": {},
     "output_type": "display_data"
    }
   ],
   "source": [
    "#Make Residual plt: \n",
    "plt.rcParams['figure.figsize'] = (16.0, 8.0)\n",
    "resid =  pred2 - Ly_test\n",
    "sns.residplot(pred2, resid, scatter_kws={'alpha': 0.5}, \n",
    "              line_kws={'color': 'red', 'lw': 1, 'alpha': 0.8})\n",
    "plt.ylabel('Residual')\n",
    "plt.xlabel('Log of Sale Price')\n",
    "plt.title('Lasso Residual Plot')\n",
    "plt.show()"
   ]
  },
  {
   "cell_type": "code",
   "execution_count": 75,
   "metadata": {},
   "outputs": [
    {
     "data": {
      "image/png": "[encoded data removed]",
      "text/plain": [
       "<matplotlib.figure.Figure at 0x1e4dcdde048>"
      ]
     },
     "metadata": {},
     "output_type": "display_data"
    }
   ],
   "source": [
    "# Visualize feature coeffcients:\n",
    "coef = pd.Series(model_lasso.coef_, index = LX_train.columns)\n",
    "imp_feat = pd.DataFrame({'Feature':LX_train.columns, 'coef':model_lasso.coef_})\n",
    "\n",
    "imp_coef = pd.concat([coef.sort_values().head(10),coef.sort_values().tail(10)])\n",
    "\n",
    "plt.rcParams['figure.figsize'] = (12.0, 8.0)\n",
    "imp_coef.plot(kind = \"barh\")\n",
    "plt.title(\"Coefficients in the Lasso Model\")\n",
    "plt.style.use('_classic_test')\n",
    "plt.show()"
   ]
  },
  {
   "cell_type": "code",
   "execution_count": 76,
   "metadata": {},
   "outputs": [],
   "source": [
    "reduced_feat = list(imp_feat[imp_feat['coef'] == 0]['Feature'])"
   ]
  },
  {
   "cell_type": "markdown",
   "metadata": {},
   "source": [
    "The chart above shows that features with the highest coefficients. As predicted, OverallQual, TotalSF, and Neighborhood are among the the variables with the highest coefficients. Looking at some variables with the lowest coeffiecients, we see MSSubclass_160, Neighborhood_IDOTRR, and KitchenAbvGr. Although these varables negative impact is minimal."
   ]
  },
  {
   "cell_type": "markdown",
   "metadata": {},
   "source": [
    "# Model 3: ElasticNet"
   ]
  },
  {
   "cell_type": "code",
   "execution_count": 77,
   "metadata": {},
   "outputs": [],
   "source": [
    "# drop reduced features from training and test set:\n",
    "model_elastic = ElasticNet()\n"
   ]
  },
  {
   "cell_type": "code",
   "execution_count": 78,
   "metadata": {},
   "outputs": [
    {
     "data": {
      "text/plain": [
       "GridSearchCV(cv=None, error_score='raise',\n",
       "       estimator=ElasticNet(alpha=1.0, copy_X=True, fit_intercept=True, l1_ratio=0.5,\n",
       "      max_iter=4000, normalize=False, positive=False, precompute=False,\n",
       "      random_state=None, selection='cyclic', tol=0.0001, warm_start=False),\n",
       "       fit_params=None, iid=True, n_jobs=1,\n",
       "       param_grid={'alpha': [0.001, 0.005, 0.01, 0.1, 1], 'l1_ratio': [0.2, 0.3, 0.4, 0.5, 0.6]},\n",
       "       pre_dispatch='2*n_jobs', refit=True, return_train_score='warn',\n",
       "       scoring='neg_mean_squared_error', verbose=0)"
      ]
     },
     "execution_count": 78,
     "metadata": {},
     "output_type": "execute_result"
    }
   ],
   "source": [
    "# Use GridSearhcv to find best Params:\n",
    "alphas = [.001,.005,.01,.1,1]\n",
    "l1 = [.2,.3,.4, .5, .6]\n",
    "    \n",
    "param_grid = dict(alpha=alphas, l1_ratio=l1)\n",
    "egrid = GridSearchCV(ElasticNet(max_iter=4000), param_grid=param_grid, scoring='neg_mean_squared_error')\n",
    "egrid.fit(LX_train, Ly_train)"
   ]
  },
  {
   "cell_type": "code",
   "execution_count": 79,
   "metadata": {},
   "outputs": [
    {
     "name": "stdout",
     "output_type": "stream",
     "text": [
      "The best parameter {'alpha': 0.001, 'l1_ratio': 0.6} for model with a score of 0.03\n"
     ]
    }
   ],
   "source": [
    "# Print Best Params\n",
    "print(\"The best parameter %s for model with a score of %0.2f\"\n",
    "      % (egrid.best_params_, -egrid.best_score_))"
   ]
  },
  {
   "cell_type": "code",
   "execution_count": 80,
   "metadata": {},
   "outputs": [],
   "source": [
    "#fit model:\n",
    "model_elastic = ElasticNet(alpha=egrid.best_params_['alpha'], l1_ratio=egrid.best_params_['l1_ratio'] ).fit(LX_train, Ly_train)"
   ]
  },
  {
   "cell_type": "code",
   "execution_count": 81,
   "metadata": {
    "scrolled": true
   },
   "outputs": [
    {
     "name": "stdout",
     "output_type": "stream",
     "text": [
      "Root Mean Squared Error of Training:0.1460823395744204\n",
      "R2 Score on Training Set:0.9062035729814708\n",
      "R2 Score on Test Set:0.8981601660132057\n"
     ]
    }
   ],
   "source": [
    "#Print Scores:\n",
    "print('Root Mean Squared Error of Training:{}'.format(rmse_cv(model_elastic).mean()))\n",
    "print('R2 Score on Training Set:{}'.format(model_elastic.score(LX_train, Ly_train)))\n",
    "print('R2 Score on Test Set:{}'.format(model_elastic.score(LX_test, Ly_test)))"
   ]
  },
  {
   "cell_type": "code",
   "execution_count": 82,
   "metadata": {},
   "outputs": [],
   "source": [
    "# model prediction:\n",
    "pred3 = model_elastic.predict(LX_test)"
   ]
  },
  {
   "cell_type": "code",
   "execution_count": 83,
   "metadata": {},
   "outputs": [
    {
     "data": {
      "image/png": "[encoded data removed]",
      "text/plain": [
       "<matplotlib.figure.Figure at 0x1e4dc8c1f28>"
      ]
     },
     "metadata": {},
     "output_type": "display_data"
    }
   ],
   "source": [
    "#Make Residual plt: \n",
    "plt.rcParams['figure.figsize'] = (16.0, 8.0)\n",
    "resid =  pred3 - Ly_test\n",
    "sns.residplot(pred3, resid, scatter_kws={'alpha': 0.5}, \n",
    "              line_kws={'color': 'red', 'lw': 1, 'alpha': 0.8})\n",
    "plt.ylabel('Boost Residual')\n",
    "plt.xlabel('Log of Sale Price')\n",
    "plt.title('Residual Plot')\n",
    "plt.show()"
   ]
  },
  {
   "cell_type": "code",
   "execution_count": 84,
   "metadata": {},
   "outputs": [],
   "source": [
    "# View Coefficient:\n",
    "coef = pd.Series(model_elastic.coef_, index = LX_train.columns)\n",
    "imp_feat = pd.DataFrame({'Feature':LX_train.columns, 'coef':model_elastic.coef_})"
   ]
  },
  {
   "cell_type": "code",
   "execution_count": 85,
   "metadata": {},
   "outputs": [],
   "source": [
    "# List feature with high coefficient:\n",
    "imp_coefe = pd.concat([coef.sort_values().head(10),\n",
    "                     coef.sort_values().tail(10)])"
   ]
  },
  {
   "cell_type": "code",
   "execution_count": 86,
   "metadata": {
    "scrolled": false
   },
   "outputs": [
    {
     "data": {
      "image/png": "[encoded data removed]",
      "text/plain": [
       "<matplotlib.figure.Figure at 0x1e4dc925dd8>"
      ]
     },
     "metadata": {},
     "output_type": "display_data"
    }
   ],
   "source": [
    "plt.rcParams['figure.figsize'] = (8.0, 10.0)\n",
    "imp_coefe.plot(kind = \"barh\")\n",
    "plt.title(\"Coefficients in the Elastic Model\")\n",
    "plt.style.use('_classic_test')\n",
    "plt.show()"
   ]
  },
  {
   "cell_type": "code",
   "execution_count": 87,
   "metadata": {},
   "outputs": [
    {
     "data": {
      "text/plain": [
       "['BsmtFinSF1',\n",
       " 'OpenPorchSF',\n",
       " 'GarageYrBlt',\n",
       " 'BsmtHalfBath',\n",
       " 'MSZoning_RH',\n",
       " 'MSZoning_RM',\n",
       " 'LotConfig_FR3',\n",
       " 'Neighborhood_Blueste',\n",
       " 'Neighborhood_BrDale',\n",
       " 'Neighborhood_CollgCr',\n",
       " 'Neighborhood_NAmes',\n",
       " 'Neighborhood_NPkVill',\n",
       " 'Neighborhood_SWISU',\n",
       " 'Neighborhood_Sawyer',\n",
       " 'Neighborhood_SawyerW',\n",
       " 'Neighborhood_Timber',\n",
       " 'Condition1_Feedr',\n",
       " 'Condition1_PosA',\n",
       " 'Condition1_PosN',\n",
       " 'Condition1_RRAe',\n",
       " 'Condition1_RRAn',\n",
       " 'Condition1_RRNe',\n",
       " 'Condition1_RRNn',\n",
       " 'BldgType_2fmCon',\n",
       " 'BldgType_Duplex',\n",
       " 'HouseStyle_1.5Unf',\n",
       " 'HouseStyle_1Story',\n",
       " 'HouseStyle_2.5Fin',\n",
       " 'HouseStyle_2.5Unf',\n",
       " 'HouseStyle_SFoyer',\n",
       " 'HouseStyle_SLvl',\n",
       " 'RoofStyle_Gable',\n",
       " 'RoofStyle_Gambrel',\n",
       " 'RoofStyle_Mansard',\n",
       " 'RoofStyle_Shed',\n",
       " 'Exterior1st_AsphShn',\n",
       " 'Exterior1st_BrkComm',\n",
       " 'Exterior1st_CBlock',\n",
       " 'Exterior1st_CemntBd',\n",
       " 'Exterior1st_ImStucc',\n",
       " 'Exterior1st_Stone',\n",
       " 'Exterior1st_Wd Sdng',\n",
       " 'Exterior1st_WdShing',\n",
       " 'Exterior2nd_AsphShn',\n",
       " 'Exterior2nd_Brk Cmn',\n",
       " 'Exterior2nd_BrkFace',\n",
       " 'Exterior2nd_CBlock',\n",
       " 'Exterior2nd_CmentBd',\n",
       " 'Exterior2nd_HdBoard',\n",
       " 'Exterior2nd_ImStucc',\n",
       " 'Exterior2nd_MetalSd',\n",
       " 'Exterior2nd_Other',\n",
       " 'Exterior2nd_Plywood',\n",
       " 'Exterior2nd_Stone',\n",
       " 'Exterior2nd_Stucco',\n",
       " 'Exterior2nd_Wd Sdng',\n",
       " 'Exterior2nd_Wd Shng',\n",
       " 'MasVnrType_BrkFace',\n",
       " 'MasVnrType_None',\n",
       " 'MasVnrType_none',\n",
       " 'ExterCond_Fa',\n",
       " 'ExterCond_Gd',\n",
       " 'ExterCond_Po',\n",
       " 'Foundation_Slab',\n",
       " 'Foundation_Stone',\n",
       " 'Foundation_Wood',\n",
       " 'BsmtQual_Fa',\n",
       " 'BsmtCond_Po',\n",
       " 'BsmtExposure_Mn',\n",
       " 'BsmtFinType1_BLQ',\n",
       " 'BsmtFinType1_GLQ',\n",
       " 'BsmtFinType1_Rec',\n",
       " 'BsmtFinType2_BLQ',\n",
       " 'BsmtFinType2_GLQ',\n",
       " 'BsmtFinType2_LwQ',\n",
       " 'BsmtFinType2_Rec',\n",
       " 'HeatingQC_Fa',\n",
       " 'HeatingQC_Po',\n",
       " 'Electrical_FuseP',\n",
       " 'Electrical_Mix',\n",
       " 'Electrical_none',\n",
       " 'Functional_Min1',\n",
       " 'Functional_Min2',\n",
       " 'Functional_Mod',\n",
       " 'Functional_Sev',\n",
       " 'FireplaceQu_Fa',\n",
       " 'FireplaceQu_Po',\n",
       " 'FireplaceQu_TA',\n",
       " 'GarageType_Basment',\n",
       " 'GarageType_BuiltIn',\n",
       " 'GarageType_CarPort',\n",
       " 'GarageType_Detchd',\n",
       " 'GarageType_none',\n",
       " 'GarageQual_Gd',\n",
       " 'GarageQual_Po',\n",
       " 'GarageQual_TA',\n",
       " 'GarageQual_none',\n",
       " 'GarageCond_Gd',\n",
       " 'GarageCond_Po',\n",
       " 'GarageCond_TA',\n",
       " 'GarageCond_none',\n",
       " 'SaleType_CWD',\n",
       " 'SaleType_Con',\n",
       " 'SaleType_ConLD',\n",
       " 'SaleType_ConLI',\n",
       " 'SaleType_ConLw',\n",
       " 'SaleType_Oth',\n",
       " 'SaleType_WD',\n",
       " 'SaleCondition_AdjLand',\n",
       " 'SaleCondition_Alloca',\n",
       " 'SaleCondition_Partial',\n",
       " 'MSSubClass_180',\n",
       " 'MSSubClass_190',\n",
       " 'MSSubClass_40',\n",
       " 'MSSubClass_45',\n",
       " 'MSSubClass_75',\n",
       " 'MSSubClass_80',\n",
       " 'MSSubClass_85',\n",
       " 'MSSubClass_90']"
      ]
     },
     "execution_count": 87,
     "metadata": {},
     "output_type": "execute_result"
    }
   ],
   "source": [
    "# Check if elastic model reduced any coefficients\n",
    "reduced_feat = list(imp_feat[imp_feat['coef'] == 0]['Feature'])\n",
    "reduced_feat"
   ]
  },
  {
   "cell_type": "markdown",
   "metadata": {},
   "source": [
    "The ElastNet model offered alightly better score(explaination of Variance) then any previous model. I will try to boost the model using the algorithm adaboost "
   ]
  },
  {
   "cell_type": "markdown",
   "metadata": {},
   "source": [
    "# ADA Boosting"
   ]
  },
  {
   "cell_type": "code",
   "execution_count": 88,
   "metadata": {},
   "outputs": [],
   "source": [
    "model = AdaBoostRegressor()"
   ]
  },
  {
   "cell_type": "code",
   "execution_count": 89,
   "metadata": {
    "scrolled": true
   },
   "outputs": [
    {
     "data": {
      "text/plain": [
       "GridSearchCV(cv=None, error_score='raise',\n",
       "       estimator=AdaBoostRegressor(base_estimator=ElasticNet(alpha=0.001, copy_X=True, fit_intercept=True, l1_ratio=0.6,\n",
       "      max_iter=4000, normalize=False, positive=False, precompute=False,\n",
       "      random_state=2, selection='cyclic', tol=0.0001, warm_start=False),\n",
       "         learning_rate=1.0, loss='linear', n_estimators=50, random_state=1),\n",
       "       fit_params=None, iid=True, n_jobs=1,\n",
       "       param_grid={'n_estimators': array([1, 2, 3, 4, 5, 6, 7, 8, 9]), 'learning_rate': array([0.1, 0.2, 0.3, 0.4]), 'loss': ['linear']},\n",
       "       pre_dispatch='2*n_jobs', refit=True, return_train_score='warn',\n",
       "       scoring='neg_mean_squared_error', verbose=0)"
      ]
     },
     "execution_count": 89,
     "metadata": {},
     "output_type": "execute_result"
    }
   ],
   "source": [
    "#Use GridSearchCV to find best Params:\n",
    "est = np.arange(1,10,1)\n",
    "lr = np.arange(.1,.5,.1)\n",
    "loss = ['linear']\n",
    "\n",
    "param_grid = dict(n_estimators=est, learning_rate=lr, loss=loss)\n",
    "grid = GridSearchCV(AdaBoostRegressor(base_estimator = ElasticNet(alpha=.001, l1_ratio=egrid.best_params_['l1_ratio'], max_iter=4000, random_state=2), random_state=1), param_grid=param_grid,scoring='neg_mean_squared_error')\n",
    "grid.fit(LX_train, Ly_train)"
   ]
  },
  {
   "cell_type": "code",
   "execution_count": 90,
   "metadata": {},
   "outputs": [
    {
     "name": "stdout",
     "output_type": "stream",
     "text": [
      "The best parameter {'learning_rate': 0.1, 'loss': 'linear', 'n_estimators': 4} for model with a score of 0.02\n"
     ]
    }
   ],
   "source": [
    "#print Best Params\n",
    "print(\"The best parameter %s for model with a score of %0.2f\"\n",
    "      % (grid.best_params_, -grid.best_score_))"
   ]
  },
  {
   "cell_type": "code",
   "execution_count": 91,
   "metadata": {},
   "outputs": [],
   "source": [
    "#fit model\n",
    "model_boost = AdaBoostRegressor(base_estimator = ElasticNet(alpha=.001, l1_ratio=egrid.best_params_['l1_ratio'], random_state=2), learning_rate=grid.best_params_['learning_rate'], loss=grid.best_params_['loss'], n_estimators=grid.best_params_['n_estimators'], random_state=1).fit(LX_train, Ly_train)"
   ]
  },
  {
   "cell_type": "code",
   "execution_count": 92,
   "metadata": {},
   "outputs": [
    {
     "name": "stdout",
     "output_type": "stream",
     "text": [
      "Root Mean Squared Error of Training:0.1549516346775579\n",
      "R2 Score on Training Set:0.9064630554306705\n",
      "R2 Score on Test Set:0.891192355160481\n"
     ]
    }
   ],
   "source": [
    "print('Root Mean Squared Error of Training:{}'.format(rmse_cv(model_boost).mean()))\n",
    "print('R2 Score on Training Set:{}'.format(model_boost.score(LX_train, Ly_train)))\n",
    "print('R2 Score on Test Set:{}'.format(model_boost.score(LX_test, Ly_test)))"
   ]
  },
  {
   "cell_type": "code",
   "execution_count": 93,
   "metadata": {},
   "outputs": [],
   "source": [
    "pred4 = model_boost.predict(LX_test)"
   ]
  },
  {
   "cell_type": "code",
   "execution_count": 94,
   "metadata": {},
   "outputs": [
    {
     "data": {
      "image/png": "[encoded data removed]",
      "text/plain": [
       "<matplotlib.figure.Figure at 0x1e4de889e10>"
      ]
     },
     "metadata": {},
     "output_type": "display_data"
    }
   ],
   "source": [
    "#Make Residual plt: \n",
    "plt.rcParams['figure.figsize'] = (16.0, 8.0)\n",
    "resid =  pred4 - Ly_test\n",
    "sns.residplot(pred4, resid, scatter_kws={'alpha': 0.5}, \n",
    "              line_kws={'color': 'red', 'lw': 1, 'alpha': 0.8})\n",
    "plt.ylabel('Boost Residual')\n",
    "plt.xlabel('Log of Sale Price')\n",
    "plt.title('Residual Plot')\n",
    "plt.show()"
   ]
  },
  {
   "cell_type": "code",
   "execution_count": null,
   "metadata": {},
   "outputs": [],
   "source": []
  }
 ],
 "metadata": {
  "kernelspec": {
   "display_name": "Python 3",
   "language": "python",
   "name": "python3"
  },
  "language_info": {
   "codemirror_mode": {
    "name": "ipython",
    "version": 3
   },
   "file_extension": ".py",
   "mimetype": "text/x-python",
   "name": "python",
   "nbconvert_exporter": "python",
   "pygments_lexer": "ipython3",
   "version": "3.6.4"
  }
 },
 "nbformat": 4,
 "nbformat_minor": 2
}
