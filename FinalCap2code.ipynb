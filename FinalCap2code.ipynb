{
 "cells": [
  {
   "cell_type": "code",
   "execution_count": 1,
   "metadata": {},
   "outputs": [],
   "source": [
    "import pandas as pd\n",
    "import numpy as np\n",
    "import seaborn as sns\n",
    "import matplotlib.pyplot as plt\n",
    "import statistics\n",
    "from scipy.stats import norm, skew\n",
    "from IPython.core.interactiveshell import InteractiveShell\n",
    "\n",
    "\n",
    "plt.rcParams['figure.figsize']=(15,8)\n"
   ]
  },
  {
   "cell_type": "code",
   "execution_count": 2,
   "metadata": {},
   "outputs": [],
   "source": [
    "#Open file and Save to Dataframe:\n",
    "file = open(r'C:\\Users\\eshai\\SB Projects\\Cap 2\\train.csv')\n",
    "file2 = open(r'C:\\Users\\eshai\\SB Projects\\Cap 2\\test.csv')\n",
    "\n",
    "traindf = pd.read_csv(file)\n",
    "testdf = pd.read_csv(file2)\n",
    "\n",
    "file.close()\n",
    "file2.close()"
   ]
  },
  {
   "cell_type": "code",
   "execution_count": 3,
   "metadata": {
    "scrolled": false
   },
   "outputs": [
    {
     "name": "stdout",
     "output_type": "stream",
     "text": [
      "<class 'pandas.core.frame.DataFrame'>\n",
      "RangeIndex: 1460 entries, 0 to 1459\n",
      "Data columns (total 81 columns):\n",
      "Id               1460 non-null int64\n",
      "MSSubClass       1460 non-null int64\n",
      "MSZoning         1460 non-null object\n",
      "LotFrontage      1201 non-null float64\n",
      "LotArea          1460 non-null int64\n",
      "Street           1460 non-null object\n",
      "Alley            91 non-null object\n",
      "LotShape         1460 non-null object\n",
      "LandContour      1460 non-null object\n",
      "Utilities        1460 non-null object\n",
      "LotConfig        1460 non-null object\n",
      "LandSlope        1460 non-null object\n",
      "Neighborhood     1460 non-null object\n",
      "Condition1       1460 non-null object\n",
      "Condition2       1460 non-null object\n",
      "BldgType         1460 non-null object\n",
      "HouseStyle       1460 non-null object\n",
      "OverallQual      1460 non-null int64\n",
      "OverallCond      1460 non-null int64\n",
      "YearBuilt        1460 non-null int64\n",
      "YearRemodAdd     1460 non-null int64\n",
      "RoofStyle        1460 non-null object\n",
      "RoofMatl         1460 non-null object\n",
      "Exterior1st      1460 non-null object\n",
      "Exterior2nd      1460 non-null object\n",
      "MasVnrType       1452 non-null object\n",
      "MasVnrArea       1452 non-null float64\n",
      "ExterQual        1460 non-null object\n",
      "ExterCond        1460 non-null object\n",
      "Foundation       1460 non-null object\n",
      "BsmtQual         1423 non-null object\n",
      "BsmtCond         1423 non-null object\n",
      "BsmtExposure     1422 non-null object\n",
      "BsmtFinType1     1423 non-null object\n",
      "BsmtFinSF1       1460 non-null int64\n",
      "BsmtFinType2     1422 non-null object\n",
      "BsmtFinSF2       1460 non-null int64\n",
      "BsmtUnfSF        1460 non-null int64\n",
      "TotalBsmtSF      1460 non-null int64\n",
      "Heating          1460 non-null object\n",
      "HeatingQC        1460 non-null object\n",
      "CentralAir       1460 non-null object\n",
      "Electrical       1459 non-null object\n",
      "1stFlrSF         1460 non-null int64\n",
      "2ndFlrSF         1460 non-null int64\n",
      "LowQualFinSF     1460 non-null int64\n",
      "GrLivArea        1460 non-null int64\n",
      "BsmtFullBath     1460 non-null int64\n",
      "BsmtHalfBath     1460 non-null int64\n",
      "FullBath         1460 non-null int64\n",
      "HalfBath         1460 non-null int64\n",
      "BedroomAbvGr     1460 non-null int64\n",
      "KitchenAbvGr     1460 non-null int64\n",
      "KitchenQual      1460 non-null object\n",
      "TotRmsAbvGrd     1460 non-null int64\n",
      "Functional       1460 non-null object\n",
      "Fireplaces       1460 non-null int64\n",
      "FireplaceQu      770 non-null object\n",
      "GarageType       1379 non-null object\n",
      "GarageYrBlt      1379 non-null float64\n",
      "GarageFinish     1379 non-null object\n",
      "GarageCars       1460 non-null int64\n",
      "GarageArea       1460 non-null int64\n",
      "GarageQual       1379 non-null object\n",
      "GarageCond       1379 non-null object\n",
      "PavedDrive       1460 non-null object\n",
      "WoodDeckSF       1460 non-null int64\n",
      "OpenPorchSF      1460 non-null int64\n",
      "EnclosedPorch    1460 non-null int64\n",
      "3SsnPorch        1460 non-null int64\n",
      "ScreenPorch      1460 non-null int64\n",
      "PoolArea         1460 non-null int64\n",
      "PoolQC           7 non-null object\n",
      "Fence            281 non-null object\n",
      "MiscFeature      54 non-null object\n",
      "MiscVal          1460 non-null int64\n",
      "MoSold           1460 non-null int64\n",
      "YrSold           1460 non-null int64\n",
      "SaleType         1460 non-null object\n",
      "SaleCondition    1460 non-null object\n",
      "SalePrice        1460 non-null int64\n",
      "dtypes: float64(3), int64(35), object(43)\n",
      "memory usage: 924.0+ KB\n"
     ]
    }
   ],
   "source": [
    "traindf.info()"
   ]
  },
  {
   "cell_type": "code",
   "execution_count": 4,
   "metadata": {
    "scrolled": true
   },
   "outputs": [
    {
     "data": {
      "text/html": [
       "<div>\n",
       "<style scoped>\n",
       "    .dataframe tbody tr th:only-of-type {\n",
       "        vertical-align: middle;\n",
       "    }\n",
       "\n",
       "    .dataframe tbody tr th {\n",
       "        vertical-align: top;\n",
       "    }\n",
       "\n",
       "    .dataframe thead th {\n",
       "        text-align: right;\n",
       "    }\n",
       "</style>\n",
       "<table border=\"1\" class=\"dataframe\">\n",
       "  <thead>\n",
       "    <tr style=\"text-align: right;\">\n",
       "      <th></th>\n",
       "      <th>Total</th>\n",
       "      <th>Percent</th>\n",
       "    </tr>\n",
       "  </thead>\n",
       "  <tbody>\n",
       "    <tr>\n",
       "      <th>PoolQC</th>\n",
       "      <td>1453</td>\n",
       "      <td>0.995205</td>\n",
       "    </tr>\n",
       "    <tr>\n",
       "      <th>MiscFeature</th>\n",
       "      <td>1406</td>\n",
       "      <td>0.963014</td>\n",
       "    </tr>\n",
       "    <tr>\n",
       "      <th>Alley</th>\n",
       "      <td>1369</td>\n",
       "      <td>0.937671</td>\n",
       "    </tr>\n",
       "    <tr>\n",
       "      <th>Fence</th>\n",
       "      <td>1179</td>\n",
       "      <td>0.807534</td>\n",
       "    </tr>\n",
       "    <tr>\n",
       "      <th>FireplaceQu</th>\n",
       "      <td>690</td>\n",
       "      <td>0.472603</td>\n",
       "    </tr>\n",
       "    <tr>\n",
       "      <th>LotFrontage</th>\n",
       "      <td>259</td>\n",
       "      <td>0.177397</td>\n",
       "    </tr>\n",
       "    <tr>\n",
       "      <th>GarageCond</th>\n",
       "      <td>81</td>\n",
       "      <td>0.055479</td>\n",
       "    </tr>\n",
       "    <tr>\n",
       "      <th>GarageType</th>\n",
       "      <td>81</td>\n",
       "      <td>0.055479</td>\n",
       "    </tr>\n",
       "    <tr>\n",
       "      <th>GarageYrBlt</th>\n",
       "      <td>81</td>\n",
       "      <td>0.055479</td>\n",
       "    </tr>\n",
       "    <tr>\n",
       "      <th>GarageFinish</th>\n",
       "      <td>81</td>\n",
       "      <td>0.055479</td>\n",
       "    </tr>\n",
       "    <tr>\n",
       "      <th>GarageQual</th>\n",
       "      <td>81</td>\n",
       "      <td>0.055479</td>\n",
       "    </tr>\n",
       "    <tr>\n",
       "      <th>BsmtExposure</th>\n",
       "      <td>38</td>\n",
       "      <td>0.026027</td>\n",
       "    </tr>\n",
       "    <tr>\n",
       "      <th>BsmtFinType2</th>\n",
       "      <td>38</td>\n",
       "      <td>0.026027</td>\n",
       "    </tr>\n",
       "    <tr>\n",
       "      <th>BsmtFinType1</th>\n",
       "      <td>37</td>\n",
       "      <td>0.025342</td>\n",
       "    </tr>\n",
       "    <tr>\n",
       "      <th>BsmtCond</th>\n",
       "      <td>37</td>\n",
       "      <td>0.025342</td>\n",
       "    </tr>\n",
       "    <tr>\n",
       "      <th>BsmtQual</th>\n",
       "      <td>37</td>\n",
       "      <td>0.025342</td>\n",
       "    </tr>\n",
       "    <tr>\n",
       "      <th>MasVnrArea</th>\n",
       "      <td>8</td>\n",
       "      <td>0.005479</td>\n",
       "    </tr>\n",
       "    <tr>\n",
       "      <th>MasVnrType</th>\n",
       "      <td>8</td>\n",
       "      <td>0.005479</td>\n",
       "    </tr>\n",
       "    <tr>\n",
       "      <th>Electrical</th>\n",
       "      <td>1</td>\n",
       "      <td>0.000685</td>\n",
       "    </tr>\n",
       "    <tr>\n",
       "      <th>Utilities</th>\n",
       "      <td>0</td>\n",
       "      <td>0.000000</td>\n",
       "    </tr>\n",
       "  </tbody>\n",
       "</table>\n",
       "</div>"
      ],
      "text/plain": [
       "              Total   Percent\n",
       "PoolQC         1453  0.995205\n",
       "MiscFeature    1406  0.963014\n",
       "Alley          1369  0.937671\n",
       "Fence          1179  0.807534\n",
       "FireplaceQu     690  0.472603\n",
       "LotFrontage     259  0.177397\n",
       "GarageCond       81  0.055479\n",
       "GarageType       81  0.055479\n",
       "GarageYrBlt      81  0.055479\n",
       "GarageFinish     81  0.055479\n",
       "GarageQual       81  0.055479\n",
       "BsmtExposure     38  0.026027\n",
       "BsmtFinType2     38  0.026027\n",
       "BsmtFinType1     37  0.025342\n",
       "BsmtCond         37  0.025342\n",
       "BsmtQual         37  0.025342\n",
       "MasVnrArea        8  0.005479\n",
       "MasVnrType        8  0.005479\n",
       "Electrical        1  0.000685\n",
       "Utilities         0  0.000000"
      ]
     },
     "execution_count": 4,
     "metadata": {},
     "output_type": "execute_result"
    }
   ],
   "source": [
    "# Identify other missing data in training set:\n",
    "total = traindf.isnull().sum().sort_values(ascending=False)\n",
    "percent = (traindf.isnull().sum()/traindf.isnull().count()).sort_values(ascending=False)\n",
    "missing_data = pd.concat([total, percent], axis=1, keys=['Total', 'Percent'])\n",
    "missing_data.head(20)\n"
   ]
  },
  {
   "cell_type": "code",
   "execution_count": 5,
   "metadata": {},
   "outputs": [
    {
     "data": {
      "text/html": [
       "<div>\n",
       "<style scoped>\n",
       "    .dataframe tbody tr th:only-of-type {\n",
       "        vertical-align: middle;\n",
       "    }\n",
       "\n",
       "    .dataframe tbody tr th {\n",
       "        vertical-align: top;\n",
       "    }\n",
       "\n",
       "    .dataframe thead th {\n",
       "        text-align: right;\n",
       "    }\n",
       "</style>\n",
       "<table border=\"1\" class=\"dataframe\">\n",
       "  <thead>\n",
       "    <tr style=\"text-align: right;\">\n",
       "      <th></th>\n",
       "      <th>Total</th>\n",
       "      <th>Percent</th>\n",
       "    </tr>\n",
       "  </thead>\n",
       "  <tbody>\n",
       "    <tr>\n",
       "      <th>PoolQC</th>\n",
       "      <td>1456</td>\n",
       "      <td>0.997944</td>\n",
       "    </tr>\n",
       "    <tr>\n",
       "      <th>MiscFeature</th>\n",
       "      <td>1408</td>\n",
       "      <td>0.965045</td>\n",
       "    </tr>\n",
       "    <tr>\n",
       "      <th>Alley</th>\n",
       "      <td>1352</td>\n",
       "      <td>0.926662</td>\n",
       "    </tr>\n",
       "    <tr>\n",
       "      <th>Fence</th>\n",
       "      <td>1169</td>\n",
       "      <td>0.801234</td>\n",
       "    </tr>\n",
       "    <tr>\n",
       "      <th>FireplaceQu</th>\n",
       "      <td>730</td>\n",
       "      <td>0.500343</td>\n",
       "    </tr>\n",
       "    <tr>\n",
       "      <th>LotFrontage</th>\n",
       "      <td>227</td>\n",
       "      <td>0.155586</td>\n",
       "    </tr>\n",
       "    <tr>\n",
       "      <th>GarageCond</th>\n",
       "      <td>78</td>\n",
       "      <td>0.053461</td>\n",
       "    </tr>\n",
       "    <tr>\n",
       "      <th>GarageQual</th>\n",
       "      <td>78</td>\n",
       "      <td>0.053461</td>\n",
       "    </tr>\n",
       "    <tr>\n",
       "      <th>GarageYrBlt</th>\n",
       "      <td>78</td>\n",
       "      <td>0.053461</td>\n",
       "    </tr>\n",
       "    <tr>\n",
       "      <th>GarageFinish</th>\n",
       "      <td>78</td>\n",
       "      <td>0.053461</td>\n",
       "    </tr>\n",
       "    <tr>\n",
       "      <th>GarageType</th>\n",
       "      <td>76</td>\n",
       "      <td>0.052090</td>\n",
       "    </tr>\n",
       "    <tr>\n",
       "      <th>BsmtCond</th>\n",
       "      <td>45</td>\n",
       "      <td>0.030843</td>\n",
       "    </tr>\n",
       "    <tr>\n",
       "      <th>BsmtQual</th>\n",
       "      <td>44</td>\n",
       "      <td>0.030158</td>\n",
       "    </tr>\n",
       "    <tr>\n",
       "      <th>BsmtExposure</th>\n",
       "      <td>44</td>\n",
       "      <td>0.030158</td>\n",
       "    </tr>\n",
       "    <tr>\n",
       "      <th>BsmtFinType1</th>\n",
       "      <td>42</td>\n",
       "      <td>0.028787</td>\n",
       "    </tr>\n",
       "    <tr>\n",
       "      <th>BsmtFinType2</th>\n",
       "      <td>42</td>\n",
       "      <td>0.028787</td>\n",
       "    </tr>\n",
       "    <tr>\n",
       "      <th>MasVnrType</th>\n",
       "      <td>16</td>\n",
       "      <td>0.010966</td>\n",
       "    </tr>\n",
       "    <tr>\n",
       "      <th>MasVnrArea</th>\n",
       "      <td>15</td>\n",
       "      <td>0.010281</td>\n",
       "    </tr>\n",
       "    <tr>\n",
       "      <th>MSZoning</th>\n",
       "      <td>4</td>\n",
       "      <td>0.002742</td>\n",
       "    </tr>\n",
       "    <tr>\n",
       "      <th>BsmtHalfBath</th>\n",
       "      <td>2</td>\n",
       "      <td>0.001371</td>\n",
       "    </tr>\n",
       "  </tbody>\n",
       "</table>\n",
       "</div>"
      ],
      "text/plain": [
       "              Total   Percent\n",
       "PoolQC         1456  0.997944\n",
       "MiscFeature    1408  0.965045\n",
       "Alley          1352  0.926662\n",
       "Fence          1169  0.801234\n",
       "FireplaceQu     730  0.500343\n",
       "LotFrontage     227  0.155586\n",
       "GarageCond       78  0.053461\n",
       "GarageQual       78  0.053461\n",
       "GarageYrBlt      78  0.053461\n",
       "GarageFinish     78  0.053461\n",
       "GarageType       76  0.052090\n",
       "BsmtCond         45  0.030843\n",
       "BsmtQual         44  0.030158\n",
       "BsmtExposure     44  0.030158\n",
       "BsmtFinType1     42  0.028787\n",
       "BsmtFinType2     42  0.028787\n",
       "MasVnrType       16  0.010966\n",
       "MasVnrArea       15  0.010281\n",
       "MSZoning          4  0.002742\n",
       "BsmtHalfBath      2  0.001371"
      ]
     },
     "execution_count": 5,
     "metadata": {},
     "output_type": "execute_result"
    }
   ],
   "source": [
    "# Identify other missing data in test set\n",
    "total = testdf.isnull().sum().sort_values(ascending=False)\n",
    "percent = (testdf.isnull().sum()/testdf.isnull().count()).sort_values(ascending=False)\n",
    "missing_data = pd.concat([total, percent], axis=1, keys=['Total', 'Percent'])\n",
    "missing_data.head(20)\n"
   ]
  },
  {
   "cell_type": "markdown",
   "metadata": {},
   "source": [
    "A quick overview of the data reveals that we have columns that have a majority of nan values. These columns will need to be removed. As for the nan values in the other columns, I will remove those obsevations from the data set as well."
   ]
  },
  {
   "cell_type": "code",
   "execution_count": 6,
   "metadata": {},
   "outputs": [],
   "source": [
    "#Removing variables that are mostly full of nan values:\n",
    "df = traindf.drop(['PoolQC', 'Fence', 'MiscFeature', 'FireplaceQu', 'Alley', 'LotFrontage','Id'], axis=1)\n",
    "df = df.dropna().reset_index(drop=True)\n"
   ]
  },
  {
   "cell_type": "code",
   "execution_count": 7,
   "metadata": {},
   "outputs": [],
   "source": [
    "#Removing variables that are mostly full of nan values:\n",
    "testdf = testdf.drop(['PoolQC', 'Fence', 'MiscFeature', 'FireplaceQu', 'Alley', 'LotFrontage','Id'], axis=1)\n",
    "testdf = testdf.dropna().reset_index(drop=True)"
   ]
  },
  {
   "cell_type": "markdown",
   "metadata": {},
   "source": [
    "Dropped columns that contained nan values and observations that contained missing values so the Data set contains only complete records."
   ]
  },
  {
   "cell_type": "markdown",
   "metadata": {},
   "source": [
    "### EDA"
   ]
  },
  {
   "cell_type": "code",
   "execution_count": 8,
   "metadata": {},
   "outputs": [],
   "source": [
    "import scipy"
   ]
  },
  {
   "cell_type": "code",
   "execution_count": 9,
   "metadata": {},
   "outputs": [
    {
     "data": {
      "image/png": "[encoded data removed]",
      "text/plain": [
       "<matplotlib.figure.Figure at 0x1442c7ff0b8>"
      ]
     },
     "metadata": {},
     "output_type": "display_data"
    }
   ],
   "source": [
    "fig, ax = plt.subplots(1, 2, figsize = (12, 4))\n",
    "plt.tight_layout()\n",
    "\n",
    "sns.distplot(np.log(df.SalePrice), ax = ax[1], label='Log of Price')\n",
    "\n",
    "sns.distplot(df.SalePrice, ax = ax[0], label='Distribution of Sale Price')\n",
    "plt.show()\n"
   ]
  },
  {
   "cell_type": "code",
   "execution_count": 10,
   "metadata": {},
   "outputs": [
    {
     "data": {
      "text/plain": [
       "1.9415059461368915"
      ]
     },
     "execution_count": 10,
     "metadata": {},
     "output_type": "execute_result"
    }
   ],
   "source": [
    "scipy.stats.skew(df.SalePrice, axis=0, bias=True)"
   ]
  },
  {
   "cell_type": "markdown",
   "metadata": {},
   "source": [
    "Looking at the distribution of Sale Price, we can see from the plot and the computed skewness that our distribution is skewed towards the right. Taking the log of Sale price shows a more normal distribution."
   ]
  },
  {
   "cell_type": "code",
   "execution_count": 11,
   "metadata": {
    "scrolled": true
   },
   "outputs": [
    {
     "name": "stdout",
     "output_type": "stream",
     "text": [
      "<class 'pandas.core.frame.DataFrame'>\n",
      "RangeIndex: 1338 entries, 0 to 1337\n",
      "Data columns (total 74 columns):\n",
      "MSSubClass       1338 non-null int64\n",
      "MSZoning         1338 non-null object\n",
      "LotArea          1338 non-null int64\n",
      "Street           1338 non-null object\n",
      "LotShape         1338 non-null object\n",
      "LandContour      1338 non-null object\n",
      "Utilities        1338 non-null object\n",
      "LotConfig        1338 non-null object\n",
      "LandSlope        1338 non-null object\n",
      "Neighborhood     1338 non-null object\n",
      "Condition1       1338 non-null object\n",
      "Condition2       1338 non-null object\n",
      "BldgType         1338 non-null object\n",
      "HouseStyle       1338 non-null object\n",
      "OverallQual      1338 non-null int64\n",
      "OverallCond      1338 non-null int64\n",
      "YearBuilt        1338 non-null int64\n",
      "YearRemodAdd     1338 non-null int64\n",
      "RoofStyle        1338 non-null object\n",
      "RoofMatl         1338 non-null object\n",
      "Exterior1st      1338 non-null object\n",
      "Exterior2nd      1338 non-null object\n",
      "MasVnrType       1338 non-null object\n",
      "MasVnrArea       1338 non-null float64\n",
      "ExterQual        1338 non-null object\n",
      "ExterCond        1338 non-null object\n",
      "Foundation       1338 non-null object\n",
      "BsmtQual         1338 non-null object\n",
      "BsmtCond         1338 non-null object\n",
      "BsmtExposure     1338 non-null object\n",
      "BsmtFinType1     1338 non-null object\n",
      "BsmtFinSF1       1338 non-null int64\n",
      "BsmtFinType2     1338 non-null object\n",
      "BsmtFinSF2       1338 non-null int64\n",
      "BsmtUnfSF        1338 non-null int64\n",
      "TotalBsmtSF      1338 non-null int64\n",
      "Heating          1338 non-null object\n",
      "HeatingQC        1338 non-null object\n",
      "CentralAir       1338 non-null object\n",
      "Electrical       1338 non-null object\n",
      "1stFlrSF         1338 non-null int64\n",
      "2ndFlrSF         1338 non-null int64\n",
      "LowQualFinSF     1338 non-null int64\n",
      "GrLivArea        1338 non-null int64\n",
      "BsmtFullBath     1338 non-null int64\n",
      "BsmtHalfBath     1338 non-null int64\n",
      "FullBath         1338 non-null int64\n",
      "HalfBath         1338 non-null int64\n",
      "BedroomAbvGr     1338 non-null int64\n",
      "KitchenAbvGr     1338 non-null int64\n",
      "KitchenQual      1338 non-null object\n",
      "TotRmsAbvGrd     1338 non-null int64\n",
      "Functional       1338 non-null object\n",
      "Fireplaces       1338 non-null int64\n",
      "GarageType       1338 non-null object\n",
      "GarageYrBlt      1338 non-null float64\n",
      "GarageFinish     1338 non-null object\n",
      "GarageCars       1338 non-null int64\n",
      "GarageArea       1338 non-null int64\n",
      "GarageQual       1338 non-null object\n",
      "GarageCond       1338 non-null object\n",
      "PavedDrive       1338 non-null object\n",
      "WoodDeckSF       1338 non-null int64\n",
      "OpenPorchSF      1338 non-null int64\n",
      "EnclosedPorch    1338 non-null int64\n",
      "3SsnPorch        1338 non-null int64\n",
      "ScreenPorch      1338 non-null int64\n",
      "PoolArea         1338 non-null int64\n",
      "MiscVal          1338 non-null int64\n",
      "MoSold           1338 non-null int64\n",
      "YrSold           1338 non-null int64\n",
      "SaleType         1338 non-null object\n",
      "SaleCondition    1338 non-null object\n",
      "SalePrice        1338 non-null int64\n",
      "dtypes: float64(2), int64(34), object(38)\n",
      "memory usage: 773.6+ KB\n"
     ]
    }
   ],
   "source": [
    "#check that all values are filled:\n",
    "\n",
    "df.info()"
   ]
  },
  {
   "cell_type": "code",
   "execution_count": 12,
   "metadata": {},
   "outputs": [
    {
     "data": {
      "image/png": "[encoded data removed]",
      "text/plain": [
       "<matplotlib.figure.Figure at 0x144300d1e10>"
      ]
     },
     "metadata": {},
     "output_type": "display_data"
    }
   ],
   "source": [
    "#plot Sale Price and 'GrLivArea' Scatter plot:\n",
    "plt.figure(figsize = (12, 6))\n",
    "sns.regplot(x='GrLivArea', y='SalePrice', data=df, color='red')\n",
    "plt.title('SalePrice Vs GrLivArea')\n",
    "plt.show()"
   ]
  },
  {
   "cell_type": "code",
   "execution_count": 13,
   "metadata": {},
   "outputs": [
    {
     "data": {
      "image/png": "[encoded data removed]",
      "text/plain": [
       "<matplotlib.figure.Figure at 0x14430420400>"
      ]
     },
     "metadata": {},
     "output_type": "display_data"
    }
   ],
   "source": [
    "#plot Scatter plot of Sale Price and 'TotalBsmtSF'\n",
    "plt.figure(figsize = (12, 6))\n",
    "sns.regplot(x='TotalBsmtSF', y='SalePrice', data=df,)\n",
    "plt.title('SalePrice Vs TotalBsmtSF')\n",
    "plt.show()"
   ]
  },
  {
   "cell_type": "code",
   "execution_count": 14,
   "metadata": {
    "scrolled": true
   },
   "outputs": [
    {
     "data": {
      "image/png": "[encoded data removed]",
      "text/plain": [
       "<matplotlib.figure.Figure at 0x144304b4940>"
      ]
     },
     "metadata": {},
     "output_type": "display_data"
    }
   ],
   "source": [
    "# Plot Box plot of 'MSSubClass Codes:\n",
    "plt.figure(figsize = (12, 6))\n",
    "sns.boxplot(x='MSSubClass', y='SalePrice', data=df, palette=\"Blues\")\n",
    "plt.title('Sales Price and Dwelling Type Codes')\n",
    "plt.show()"
   ]
  },
  {
   "cell_type": "markdown",
   "metadata": {},
   "source": [
    "MSSubClass Codes:\n",
    "\n",
    "- 20:\t1-STORY 1946 & NEWER ALL STYLES\n",
    "- 30:\t1-STORY 1945 & OLDER\n",
    "- 40:\t1-STORY W/FINISHED ATTIC ALL AGES\n",
    "- 45:\t1-1/2 STORY - UNFINISHED ALL AGES\n",
    "- 50:\t1-1/2 STORY FINISHED ALL AGES\n",
    "- 60:\t2-STORY 1946 & NEWER \n",
    "- 70:\t2-STORY 1945 & OLDER\n",
    "- 75:\t2-1/2 STORY ALL AGES\n",
    "- 80:\tSPLIT OR MULTI-LEVEL\n",
    "- 85:\tSPLIT FOYER\n",
    "- 90:\tDUPLEX - ALL STYLES AND AGES\n",
    "- 120:\t1-STORY PUD (Planned Unit Development) - 1946 & NEWER\n",
    "- 150:\t1-1/2 STORY PUD - ALL AGES\n",
    "- 160:\t2-STORY PUD - 1946 & NEWER\n",
    "- 180:\tPUD - MULTILEVEL - INCL SPLIT LEV/FOYER\n",
    "- 190:\t2 FAMILY CONVERSION - ALL STYLES AND AGES"
   ]
  },
  {
   "cell_type": "markdown",
   "metadata": {},
   "source": [
    "The Plot reveals 2-Story homes bulit after 1945 are priced higher on average while 1-story 1945 & older have the lowest average sale price."
   ]
  },
  {
   "cell_type": "code",
   "execution_count": 15,
   "metadata": {},
   "outputs": [
    {
     "data": {
      "image/png": "[encoded data removed]",
      "text/plain": [
       "<matplotlib.figure.Figure at 0x14430793550>"
      ]
     },
     "metadata": {},
     "output_type": "display_data"
    }
   ],
   "source": [
    "sns.boxplot(x='Foundation', y='SalePrice', data=df)\n",
    "plt.title('Sales Price and Foundation')\n",
    "plt.show()"
   ]
  },
  {
   "cell_type": "code",
   "execution_count": 16,
   "metadata": {},
   "outputs": [
    {
     "data": {
      "image/png": "[encoded data removed]",
      "text/plain": [
       "<matplotlib.figure.Figure at 0x144307c16d8>"
      ]
     },
     "metadata": {},
     "output_type": "display_data"
    }
   ],
   "source": [
    "# Look at  how avg sale price changed over time:\n",
    "pt = df.pivot_table(\"SalePrice\", \"MoSold\", \"YrSold\", aggfunc='median')\n",
    "ax = sns.heatmap(pt, linewidths=.5, center=np.median(df.SalePrice))\n",
    "plt.title('Date and Sales Price')\n",
    "plt.show()"
   ]
  },
  {
   "cell_type": "markdown",
   "metadata": {},
   "source": [
    "Looking at the heatmap of sales price and homes, housing prices peaked in late 2007 then started to decline. This decline coinsides with the decline in the average Sales price of homes in the US"
   ]
  },
  {
   "cell_type": "code",
   "execution_count": 17,
   "metadata": {
    "scrolled": false
   },
   "outputs": [
    {
     "data": {
      "image/png": "[encoded data removed]",
      "text/plain": [
       "<matplotlib.figure.Figure at 0x144307c1208>"
      ]
     },
     "metadata": {},
     "output_type": "display_data"
    }
   ],
   "source": [
    "# View Price by Neighborhood:\n",
    "plt.figure(figsize = (12, 6))\n",
    "sns.barplot(x = 'Neighborhood', y = 'SalePrice', data = df.sort_values(by='SalePrice'), palette='Greens')\n",
    "xt = plt.xticks(rotation=45)\n",
    "plt.title('Sales Price by Neighborhood')\n",
    "plt.show()"
   ]
  },
  {
   "cell_type": "markdown",
   "metadata": {},
   "source": [
    "The ‘Sales Price by Neighborhood’ Plot shows ‘NoRidge’, ‘StoneBr’, and ‘NridgeHt’ are the neighborhoods with the highest average sales price. It seems that ‘BrDale’, ‘MeadowV’, and ‘IDOTRR’ are neighborhoods with the lowest average sales price. "
   ]
  },
  {
   "cell_type": "code",
   "execution_count": 18,
   "metadata": {},
   "outputs": [
    {
     "data": {
      "text/plain": [
       "count      56.000000\n",
       "mean     1148.392857\n",
       "std       301.684102\n",
       "min       480.000000\n",
       "25%       987.000000\n",
       "50%      1111.500000\n",
       "75%      1302.500000\n",
       "max      2521.000000\n",
       "Name: GrLivArea, dtype: float64"
      ]
     },
     "execution_count": 18,
     "metadata": {},
     "output_type": "execute_result"
    }
   ],
   "source": [
    "#investigate GrLivArea of above neighborhood homes.\n",
    "chomes = df[df['Neighborhood'] == 'MeadowV']\n",
    "ahomes = df[df['Neighborhood'] == 'BrDale']\n",
    "bhomes = df[df['Neighborhood'] == 'IDOTRR']\n",
    "\n",
    "ln = pd.concat([chomes, ahomes, bhomes], axis=0)\n",
    "\n",
    "ln.GrLivArea.describe()"
   ]
  },
  {
   "cell_type": "code",
   "execution_count": 19,
   "metadata": {},
   "outputs": [
    {
     "data": {
      "text/plain": [
       "count    1338.000000\n",
       "mean     1537.585202\n",
       "std       520.579960\n",
       "min       438.000000\n",
       "25%      1160.000000\n",
       "50%      1480.000000\n",
       "75%      1791.500000\n",
       "max      5642.000000\n",
       "Name: GrLivArea, dtype: float64"
      ]
     },
     "execution_count": 19,
     "metadata": {},
     "output_type": "execute_result"
    }
   ],
   "source": [
    "df.GrLivArea.describe()"
   ]
  },
  {
   "cell_type": "markdown",
   "metadata": {},
   "source": [
    "Homes in the above mentioned neighborhood have a significantly lower average GrLivArea that the data set. "
   ]
  },
  {
   "cell_type": "code",
   "execution_count": 20,
   "metadata": {
    "scrolled": true
   },
   "outputs": [
    {
     "data": {
      "image/png": "[encoded data removed]",
      "text/plain": [
       "<matplotlib.figure.Figure at 0x1443088bba8>"
      ]
     },
     "metadata": {},
     "output_type": "display_data"
    }
   ],
   "source": [
    "fig, ax = plt.subplots(1, 2, figsize = (10, 4))\n",
    "sns.violinplot(x = 'MSZoning', y = 'SalePrice', data = df)\n",
    "sns.countplot('MSZoning', data = df,ax = ax[0])\n",
    "plt.tight_layout()\n",
    "plt.show()"
   ]
  },
  {
   "cell_type": "markdown",
   "metadata": {},
   "source": [
    "#### MSZoning Codes:\n",
    " - A:\tAgriculture\n",
    " - C:\tCommercial\n",
    " - FV:\tFloating Village Residential\n",
    " - I:\tIndustrial\n",
    " - RH:\tResidential High Density\n",
    " - RL:\tResidential Low Density\n",
    " - RP:\tResidential Low Density Park \n",
    " - RM:\tResidential Medium Density"
   ]
  },
  {
   "cell_type": "markdown",
   "metadata": {},
   "source": [
    "# Statistical Analysis"
   ]
  },
  {
   "cell_type": "code",
   "execution_count": 21,
   "metadata": {},
   "outputs": [],
   "source": [
    "import scipy.stats as stats\n",
    "from statsmodels.stats.proportion import proportions_ztest\n",
    "from collections import defaultdict"
   ]
  },
  {
   "cell_type": "code",
   "execution_count": 22,
   "metadata": {},
   "outputs": [],
   "source": [
    "def ecdf(data):\n",
    "    \"\"\"Compute ECDF for a one-dimensional array of measurements.\"\"\"\n",
    "\n",
    "    # Number of data points: n\n",
    "    n = len(data)\n",
    "\n",
    "    # x-data for the ECDF: x\n",
    "    x = np.sort(data)\n",
    "\n",
    "    # y-data for the ECDF: y\n",
    "    y = np.arange(1, n+1) / n\n",
    "\n",
    "    return x, y"
   ]
  },
  {
   "cell_type": "code",
   "execution_count": 23,
   "metadata": {},
   "outputs": [
    {
     "data": {
      "image/png": "[encoded data removed]",
      "text/plain": [
       "<matplotlib.figure.Figure at 0x144305557f0>"
      ]
     },
     "metadata": {},
     "output_type": "display_data"
    }
   ],
   "source": [
    "# Make ecdf plot of Sale price:\n",
    "x, y = ecdf(df.SalePrice)\n",
    "plt.plot(x, y, marker = '.', linestyle = 'none')\n",
    "plt.margins(.02)\n",
    "plt.ylabel('ECDF')\n",
    "plt.xlabel('Sale Price')\n",
    "plt.show()"
   ]
  },
  {
   "cell_type": "markdown",
   "metadata": {},
   "source": [
    "The ecdf curve shows that 90% percent of the data has a sale price at or below 300K and confirms what the distribution of score is skewed to the right."
   ]
  },
  {
   "cell_type": "code",
   "execution_count": 24,
   "metadata": {
    "scrolled": true
   },
   "outputs": [
    {
     "name": "stdout",
     "output_type": "stream",
     "text": [
      "List the numerical features decendingly by their correlation with Sale Price:\n",
      "\n",
      "OverallQual: \t0.7835456113843237\n",
      "GrLivArea: \t0.7117061511024302\n",
      "GarageCars: \t0.6401543580531925\n",
      "GarageArea: \t0.6075353838509889\n",
      "1stFlrSF: \t0.6047144846292783\n",
      "TotalBsmtSF: \t0.6020422814414277\n",
      "FullBath: \t0.5693126295659892\n",
      "TotRmsAbvGrd: \t0.5518206950104778\n",
      "YearBuilt: \t0.504297175093091\n",
      "YearRemodAdd: \t0.5014353821077956\n",
      "GarageYrBlt: \t0.48172978591824045\n",
      "MasVnrArea: \t0.46581143360024846\n",
      "Fireplaces: \t0.4454344326389212\n",
      "BsmtFinSF1: \t0.35967663312618064\n",
      "OpenPorchSF: \t0.3227857346419753\n",
      "2ndFlrSF: \t0.31135402669959245\n",
      "WoodDeckSF: \t0.30598288316822747\n",
      "HalfBath: \t0.2581749248797554\n",
      "LotArea: \t0.2547573502139699\n",
      "BsmtFullBath: \t0.20969465592752243\n",
      "BsmtUnfSF: \t0.1916888789020209\n",
      "BedroomAbvGr: \t0.16926554693331156\n",
      "EnclosedPorch: \t-0.12738527654209783\n",
      "KitchenAbvGr: \t-0.1114081974082277\n",
      "OverallCond: \t-0.1086270972695443\n",
      "ScreenPorch: \t0.0966239807980718\n",
      "PoolArea: \t0.091881076190269\n",
      "MSSubClass: \t-0.07959851790075388\n",
      "3SsnPorch: \t0.04215866955782426\n",
      "MoSold: \t0.041309605129427975\n",
      "BsmtFinSF2: \t-0.031225787844299704\n",
      "BsmtHalfBath: \t-0.03017500037561527\n",
      "YrSold: \t-0.02045101634599536\n",
      "MiscVal: \t-0.016989857604916444\n",
      "LowQualFinSF: \t-0.00999239700593434\n"
     ]
    }
   ],
   "source": [
    "# Calculate the Correlation between Continuous Variables and Sale Price:\n",
    "resdict = defaultdict(list)\n",
    "corr_mat = df.corr()\n",
    "cor_dict = corr_mat['SalePrice'].to_dict()\n",
    "del cor_dict['SalePrice']\n",
    "print(\"List the numerical features decendingly by their correlation with Sale Price:\\n\")\n",
    "for ele in sorted(cor_dict.items(), key = lambda x: -abs(x[1])):\n",
    "    print(\"{0}: \\t{1}\".format(*ele))\n",
    "    resdict[ele[0]].append(ele)"
   ]
  },
  {
   "cell_type": "markdown",
   "metadata": {},
   "source": [
    "The function shows GrLiveArea, GarageCars, GarageArea, 1stFlrSF, TotalBsmtSf and FullBath are varaibles with the highest correlation with 'SalePrice.' We will test weather this correlation is by chance or there is a true correlation between these variables and 'SalePrice'."
   ]
  },
  {
   "cell_type": "code",
   "execution_count": 25,
   "metadata": {},
   "outputs": [],
   "source": [
    "# Place Highly correlated Variables in Dataframe:\n",
    "dfres1 = pd.DataFrame.from_dict(resdict, orient='index')\n",
    "dfres1 = dfres1[0].apply(pd.Series).drop(0, axis=1)\n",
    "dfres1.columns = ['Correlation']\n",
    "Hcv = dfres1[dfres1['Correlation'] > .5]\n"
   ]
  },
  {
   "cell_type": "code",
   "execution_count": 26,
   "metadata": {},
   "outputs": [
    {
     "name": "stdout",
     "output_type": "stream",
     "text": [
      "OverallQual\n",
      "Slope : 46684.72747139708\n",
      "Intercept : -103604.66144765816 \n",
      "\n",
      "GrLivArea\n",
      "Slope : 107.8863480816208\n",
      "Intercept : 20877.33022534415 \n",
      "\n",
      "GarageCars\n",
      "Slope : 79644.74781574441\n",
      "Intercept : 37710.62516395813 \n",
      "\n",
      "GarageArea\n",
      "Slope : 256.7063426579952\n",
      "Intercept : 58036.406171184426 \n",
      "\n",
      "1stFlrSF\n",
      "Slope : 123.42161027537503\n",
      "Intercept : 41590.57255064941 \n",
      "\n",
      "TotalBsmtSF\n",
      "Slope : 117.14696918730094\n",
      "Intercept : 58374.83304713307 \n",
      "\n",
      "FullBath\n",
      "Slope : 82047.38588144051\n",
      "Intercept : 57497.291152409125 \n",
      "\n",
      "TotRmsAbvGrd\n",
      "Slope : 27472.77514875843\n",
      "Intercept : 6813.052015157939 \n",
      "\n",
      "YearBuilt\n",
      "Slope : 1346.1185850337013\n",
      "Intercept : -2469169.422400653 \n",
      "\n",
      "YearRemodAdd\n",
      "Slope : 1949.6104429714828\n",
      "Intercept : -3684519.0584063586 \n",
      "\n",
      "GarageYrBlt\n",
      "Slope : 1534.4937290025023\n",
      "Intercept : -2849382.004782902 \n",
      "\n",
      "MasVnrArea\n",
      "Slope : 198.0496700522062\n",
      "Intercept : 164904.9735581099 \n",
      "\n",
      "Fireplaces\n",
      "Slope : 54464.433647012105\n",
      "Intercept : 151429.1005937172 \n",
      "\n",
      "BsmtFinSF1\n",
      "Slope : 61.86559712400171\n",
      "Intercept : 158041.62691241768 \n",
      "\n",
      "OpenPorchSF\n",
      "Slope : 389.7072480214136\n",
      "Intercept : 168140.59156371222 \n",
      "\n",
      "2ndFlrSF\n",
      "Slope : 55.800023221521556\n",
      "Intercept : 166833.2921550671 \n",
      "\n",
      "WoodDeckSF\n",
      "Slope : 189.32760189156616\n",
      "Intercept : 167945.4771922759 \n",
      "\n",
      "HalfBath\n",
      "Slope : 40408.904108896204\n",
      "Intercept : 170483.45716390514 \n",
      "\n",
      "LotArea\n",
      "Slope : 1.9449182166134442\n",
      "Intercept : 165938.9153653301 \n",
      "\n",
      "BsmtFullBath\n",
      "Slope : 32092.385843889453\n",
      "Intercept : 172682.387525887 \n",
      "\n",
      "BsmtUnfSF\n",
      "Slope : 34.383199990640726\n",
      "Intercept : 166733.74839887468 \n",
      "\n",
      "BedroomAbvGr\n",
      "Slope : 17198.132129324258\n",
      "Intercept : 137493.88979693584 \n",
      "\n",
      "EnclosedPorch\n",
      "Slope : -165.2170844013881\n",
      "Intercept : 190274.92994641542 \n",
      "\n",
      "KitchenAbvGr\n",
      "Slope : -50324.991977434205\n",
      "Intercept : 238591.2585537402 \n",
      "\n",
      "OverallCond\n",
      "Slope : -7951.0194831426925\n",
      "Intercept : 231258.967780099 \n",
      "\n",
      "ScreenPorch\n",
      "Slope : 131.348170441017\n",
      "Intercept : 184603.17644258033 \n",
      "\n",
      "PoolArea\n",
      "Slope : 172.79452321923267\n",
      "Intercept : 186241.59092710965 \n",
      "\n",
      "MSSubClass\n",
      "Slope : -152.2674673841296\n",
      "Intercept : 195309.47270195972 \n",
      "\n",
      "3SsnPorch\n",
      "Slope : 110.07260417558373\n",
      "Intercept : 186367.06774676038 \n",
      "\n",
      "MoSold\n",
      "Slope : 1207.6222637799497\n",
      "Intercept : 179115.31328942924 \n",
      "\n",
      "BsmtFinSF2\n",
      "Slope : -14.82670101957487\n",
      "Intercept : 187491.52658366453 \n",
      "\n",
      "BsmtHalfBath\n",
      "Slope : -9852.595762395482\n",
      "Intercept : 187358.24010220778 \n",
      "\n",
      "YrSold\n",
      "Slope : -1212.8049193037407\n",
      "Intercept : 2621838.3883662326 \n",
      "\n",
      "MiscVal\n",
      "Slope : -2.638949964600591\n",
      "Intercept : 186875.0798518434 \n",
      "\n",
      "LowQualFinSF\n",
      "Slope : -19.368263535063416\n",
      "Intercept : 186843.55479873644 \n",
      "\n"
     ]
    }
   ],
   "source": [
    "# Look at each variable individual affect on Sale Price:\n",
    "for x in dfres1.index:\n",
    "    a, b = np.polyfit(df[x], df.SalePrice,1)\n",
    "    print(x)\n",
    "    print('Slope :',a)\n",
    "    print('Intercept :',b,'\\n')\n"
   ]
  },
  {
   "cell_type": "code",
   "execution_count": 27,
   "metadata": {},
   "outputs": [],
   "source": [
    "def pearson_r(x, y):\n",
    "    corr_mat = np.corrcoef(x,y)\n",
    "    return corr_mat[0,1]"
   ]
  },
  {
   "cell_type": "code",
   "execution_count": 28,
   "metadata": {},
   "outputs": [],
   "source": [
    "# define function to test correlation:\n",
    "def test_corr(cols, df=df):\n",
    "    r_obs = pearson_r(cols, df.SalePrice.values)\n",
    "    perm_replicates = np.empty(10000)\n",
    "\n",
    "    for i in range(10000):\n",
    "        cols_permuted = np.random.permutation(cols)\n",
    "        perm_replicates[i] = pearson_r(cols_permuted, df.SalePrice.values)\n",
    "\n",
    "    p = np.sum(perm_replicates >= r_obs ) / len(perm_replicates)\n",
    "    return print('p-val =', p)"
   ]
  },
  {
   "cell_type": "code",
   "execution_count": 29,
   "metadata": {},
   "outputs": [
    {
     "name": "stdout",
     "output_type": "stream",
     "text": [
      "\n",
      " OverallQual\n",
      "p-val = 0.0\n",
      "\n",
      " GrLivArea\n",
      "p-val = 0.0\n",
      "\n",
      " GarageCars\n",
      "p-val = 0.0\n",
      "\n",
      " GarageArea\n",
      "p-val = 0.0\n",
      "\n",
      " 1stFlrSF\n",
      "p-val = 0.0\n",
      "\n",
      " TotalBsmtSF\n",
      "p-val = 0.0\n",
      "\n",
      " FullBath\n",
      "p-val = 0.0\n",
      "\n",
      " TotRmsAbvGrd\n",
      "p-val = 0.0\n",
      "\n",
      " YearBuilt\n",
      "p-val = 0.0\n",
      "\n",
      " YearRemodAdd\n",
      "p-val = 0.0\n"
     ]
    }
   ],
   "source": [
    "# Loop through variables and test correlation:\n",
    "for x in dfres1.index :\n",
    "    if dfres1.loc[x][0] > .5:\n",
    "        print('\\n',x)\n",
    "        test_corr(df[x].values)"
   ]
  },
  {
   "cell_type": "markdown",
   "metadata": {},
   "source": [
    "These are the variable that have a correlation with sale price higher than .5 and passed the correlation test. Next i want to look as the categorical variables within the data. Below ive defined a function that conducts a chi squared test. I will use this function to test the significance on the categorical variables when predicting sales price."
   ]
  },
  {
   "cell_type": "code",
   "execution_count": 30,
   "metadata": {},
   "outputs": [],
   "source": [
    "def Chi_test(data,c1,c2):\n",
    "    #combine columns into matrix\n",
    "    table = pd.crosstab(data[c1], data[c2])\n",
    "    \n",
    "    colsum = table.sum(axis=0)\n",
    "    colpct = table / colsum\n",
    "    cstable = stats.chi2_contingency(table)\n",
    "    \n",
    "    return cstable[0], cstable[1], cstable[2]"
   ]
  },
  {
   "cell_type": "markdown",
   "metadata": {},
   "source": [
    "First we need to identify all the categorical variables with in the dataframe and identify the columns indexes. "
   ]
  },
  {
   "cell_type": "code",
   "execution_count": 31,
   "metadata": {},
   "outputs": [],
   "source": [
    "objectcl = df.loc[:, df.dtypes == 'object'].columns"
   ]
  },
  {
   "cell_type": "markdown",
   "metadata": {},
   "source": [
    "In order for the chi squared test to work, we categorize Sale price. I will split them into 2 groups High Price Homes(HPH) and Low Price Homes(LPH)."
   ]
  },
  {
   "cell_type": "code",
   "execution_count": 32,
   "metadata": {},
   "outputs": [],
   "source": [
    "# Split Homes by Sale price in 'LPH' and 'HPH':\n",
    "SPavg = np.mean(df.SalePrice)\n",
    "\n",
    "bins = [0, SPavg, max(df.SalePrice)+1]\n",
    "\n",
    "bin_names = ['LPH', 'HPH']\n",
    "\n",
    "df1 = df.copy()\n",
    "\n",
    "df1['SPcat'] = pd.cut(df1['SalePrice'], bins, labels=bin_names)\n",
    "\n",
    "HPH = df1[df1['SalePrice'] >= SPavg ]\n",
    "LPH = df1[df1['SalePrice'] < SPavg ]"
   ]
  },
  {
   "cell_type": "code",
   "execution_count": 33,
   "metadata": {},
   "outputs": [],
   "source": [
    "from collections import defaultdict"
   ]
  },
  {
   "cell_type": "code",
   "execution_count": 34,
   "metadata": {},
   "outputs": [],
   "source": [
    "# Chi-Squared test on Categorical data in DF and filter out variables that have failed test:\n",
    "res = defaultdict(list)\n",
    "for x in objectcl:\n",
    "    Chi_test(df1, x, 'SPcat')\n",
    "    if Chi_test(df1, x, 'SPcat')[1] < .01 and Chi_test(df1, x, 'SPcat')[2] > 3:\n",
    "        res[x].append(list(Chi_test(df1, x, 'SPcat')))"
   ]
  },
  {
   "cell_type": "code",
   "execution_count": 35,
   "metadata": {},
   "outputs": [],
   "source": [
    "#view result in DataFrame:\n",
    "dfres = pd.DataFrame.from_dict(res, orient='index')\n",
    "dfres = dfres[0].apply(pd.Series)\n",
    "columns = ['Chi Statistic','P-Value','Expected Value']\n",
    "dfres.columns = columns"
   ]
  },
  {
   "cell_type": "code",
   "execution_count": 36,
   "metadata": {},
   "outputs": [
    {
     "data": {
      "text/html": [
       "<div>\n",
       "<style scoped>\n",
       "    .dataframe tbody tr th:only-of-type {\n",
       "        vertical-align: middle;\n",
       "    }\n",
       "\n",
       "    .dataframe tbody tr th {\n",
       "        vertical-align: top;\n",
       "    }\n",
       "\n",
       "    .dataframe thead th {\n",
       "        text-align: right;\n",
       "    }\n",
       "</style>\n",
       "<table border=\"1\" class=\"dataframe\">\n",
       "  <thead>\n",
       "    <tr style=\"text-align: right;\">\n",
       "      <th></th>\n",
       "      <th>Chi Statistic</th>\n",
       "      <th>P-Value</th>\n",
       "      <th>Expected Value</th>\n",
       "    </tr>\n",
       "  </thead>\n",
       "  <tbody>\n",
       "    <tr>\n",
       "      <th>MSZoning</th>\n",
       "      <td>118.999292</td>\n",
       "      <td>8.737456e-25</td>\n",
       "      <td>4.0</td>\n",
       "    </tr>\n",
       "    <tr>\n",
       "      <th>LotConfig</th>\n",
       "      <td>22.748768</td>\n",
       "      <td>1.421318e-04</td>\n",
       "      <td>4.0</td>\n",
       "    </tr>\n",
       "    <tr>\n",
       "      <th>Neighborhood</th>\n",
       "      <td>578.482502</td>\n",
       "      <td>7.474895e-107</td>\n",
       "      <td>24.0</td>\n",
       "    </tr>\n",
       "    <tr>\n",
       "      <th>Condition1</th>\n",
       "      <td>47.780758</td>\n",
       "      <td>1.088021e-07</td>\n",
       "      <td>8.0</td>\n",
       "    </tr>\n",
       "    <tr>\n",
       "      <th>BldgType</th>\n",
       "      <td>31.396279</td>\n",
       "      <td>2.541281e-06</td>\n",
       "      <td>4.0</td>\n",
       "    </tr>\n",
       "    <tr>\n",
       "      <th>HouseStyle</th>\n",
       "      <td>118.886455</td>\n",
       "      <td>1.306626e-22</td>\n",
       "      <td>7.0</td>\n",
       "    </tr>\n",
       "    <tr>\n",
       "      <th>RoofStyle</th>\n",
       "      <td>15.962580</td>\n",
       "      <td>6.951727e-03</td>\n",
       "      <td>5.0</td>\n",
       "    </tr>\n",
       "    <tr>\n",
       "      <th>Exterior1st</th>\n",
       "      <td>241.605635</td>\n",
       "      <td>3.534012e-44</td>\n",
       "      <td>13.0</td>\n",
       "    </tr>\n",
       "    <tr>\n",
       "      <th>Exterior2nd</th>\n",
       "      <td>240.270008</td>\n",
       "      <td>1.246502e-42</td>\n",
       "      <td>15.0</td>\n",
       "    </tr>\n",
       "    <tr>\n",
       "      <th>Foundation</th>\n",
       "      <td>318.608577</td>\n",
       "      <td>1.047060e-67</td>\n",
       "      <td>4.0</td>\n",
       "    </tr>\n",
       "    <tr>\n",
       "      <th>BsmtFinType1</th>\n",
       "      <td>233.173117</td>\n",
       "      <td>2.233639e-48</td>\n",
       "      <td>5.0</td>\n",
       "    </tr>\n",
       "    <tr>\n",
       "      <th>BsmtFinType2</th>\n",
       "      <td>21.433226</td>\n",
       "      <td>6.707429e-04</td>\n",
       "      <td>5.0</td>\n",
       "    </tr>\n",
       "    <tr>\n",
       "      <th>HeatingQC</th>\n",
       "      <td>241.698074</td>\n",
       "      <td>3.997166e-51</td>\n",
       "      <td>4.0</td>\n",
       "    </tr>\n",
       "    <tr>\n",
       "      <th>Electrical</th>\n",
       "      <td>47.413837</td>\n",
       "      <td>1.250359e-09</td>\n",
       "      <td>4.0</td>\n",
       "    </tr>\n",
       "    <tr>\n",
       "      <th>Functional</th>\n",
       "      <td>27.978623</td>\n",
       "      <td>9.483774e-05</td>\n",
       "      <td>6.0</td>\n",
       "    </tr>\n",
       "    <tr>\n",
       "      <th>GarageType</th>\n",
       "      <td>239.438477</td>\n",
       "      <td>1.013060e-49</td>\n",
       "      <td>5.0</td>\n",
       "    </tr>\n",
       "    <tr>\n",
       "      <th>GarageQual</th>\n",
       "      <td>21.259711</td>\n",
       "      <td>2.812462e-04</td>\n",
       "      <td>4.0</td>\n",
       "    </tr>\n",
       "    <tr>\n",
       "      <th>GarageCond</th>\n",
       "      <td>24.441246</td>\n",
       "      <td>6.514825e-05</td>\n",
       "      <td>4.0</td>\n",
       "    </tr>\n",
       "    <tr>\n",
       "      <th>SaleType</th>\n",
       "      <td>101.780858</td>\n",
       "      <td>1.845728e-18</td>\n",
       "      <td>8.0</td>\n",
       "    </tr>\n",
       "    <tr>\n",
       "      <th>SaleCondition</th>\n",
       "      <td>99.578903</td>\n",
       "      <td>6.483400e-20</td>\n",
       "      <td>5.0</td>\n",
       "    </tr>\n",
       "  </tbody>\n",
       "</table>\n",
       "</div>"
      ],
      "text/plain": [
       "               Chi Statistic        P-Value  Expected Value\n",
       "MSZoning          118.999292   8.737456e-25             4.0\n",
       "LotConfig          22.748768   1.421318e-04             4.0\n",
       "Neighborhood      578.482502  7.474895e-107            24.0\n",
       "Condition1         47.780758   1.088021e-07             8.0\n",
       "BldgType           31.396279   2.541281e-06             4.0\n",
       "HouseStyle        118.886455   1.306626e-22             7.0\n",
       "RoofStyle          15.962580   6.951727e-03             5.0\n",
       "Exterior1st       241.605635   3.534012e-44            13.0\n",
       "Exterior2nd       240.270008   1.246502e-42            15.0\n",
       "Foundation        318.608577   1.047060e-67             4.0\n",
       "BsmtFinType1      233.173117   2.233639e-48             5.0\n",
       "BsmtFinType2       21.433226   6.707429e-04             5.0\n",
       "HeatingQC         241.698074   3.997166e-51             4.0\n",
       "Electrical         47.413837   1.250359e-09             4.0\n",
       "Functional         27.978623   9.483774e-05             6.0\n",
       "GarageType        239.438477   1.013060e-49             5.0\n",
       "GarageQual         21.259711   2.812462e-04             4.0\n",
       "GarageCond         24.441246   6.514825e-05             4.0\n",
       "SaleType          101.780858   1.845728e-18             8.0\n",
       "SaleCondition      99.578903   6.483400e-20             5.0"
      ]
     },
     "execution_count": 36,
     "metadata": {},
     "output_type": "execute_result"
    }
   ],
   "source": [
    "dfres"
   ]
  },
  {
   "cell_type": "markdown",
   "metadata": {},
   "source": [
    "The above dataframe showcases the categorical variables that passed that chi squared test."
   ]
  },
  {
   "cell_type": "code",
   "execution_count": 37,
   "metadata": {},
   "outputs": [],
   "source": [
    "catcol = list(dfres.index)\n",
    "numcol = list(dfres1.index)\n",
    "predV = catcol + numcol"
   ]
  },
  {
   "cell_type": "markdown",
   "metadata": {},
   "source": [
    "Add significant numerical and categorical column names into a list."
   ]
  },
  {
   "cell_type": "markdown",
   "metadata": {},
   "source": [
    "# Data Preprocessing"
   ]
  },
  {
   "cell_type": "code",
   "execution_count": 38,
   "metadata": {},
   "outputs": [],
   "source": [
    "from sklearn.linear_model import Ridge, RidgeCV, ElasticNet, LassoCV, Lasso, LinearRegression\n",
    "from sklearn.preprocessing import RobustScaler\n",
    "from sklearn.model_selection import  cross_val_score, train_test_split\n",
    "from sklearn.metrics import mean_squared_error\n",
    "from sklearn.model_selection import StratifiedShuffleSplit\n",
    "from sklearn.model_selection import GridSearchCV\n",
    "from sklearn.ensemble import AdaBoostRegressor"
   ]
  },
  {
   "cell_type": "code",
   "execution_count": 39,
   "metadata": {},
   "outputs": [],
   "source": [
    "test = testdf[predV]"
   ]
  },
  {
   "cell_type": "code",
   "execution_count": 40,
   "metadata": {},
   "outputs": [],
   "source": [
    "predV.append('SalePrice')\n",
    "train = df[predV]"
   ]
  },
  {
   "cell_type": "markdown",
   "metadata": {},
   "source": [
    "convert numerical columns that are actually categorical."
   ]
  },
  {
   "cell_type": "code",
   "execution_count": 41,
   "metadata": {},
   "outputs": [],
   "source": [
    "train = train.astype({'MSSubClass':'str', 'MoSold':'str', 'YrSold':'str'})"
   ]
  },
  {
   "cell_type": "code",
   "execution_count": 42,
   "metadata": {},
   "outputs": [],
   "source": [
    "test = test.astype({'MSSubClass':'str', 'MoSold':'str', 'YrSold':'str'})"
   ]
  },
  {
   "cell_type": "code",
   "execution_count": 43,
   "metadata": {},
   "outputs": [
    {
     "name": "stdout",
     "output_type": "stream",
     "text": [
      "Shape training data: (1338, 56)\n"
     ]
    }
   ],
   "source": [
    "objs = train.select_dtypes('object').columns\n",
    "print('Shape training data: {}'.format(train.shape))"
   ]
  },
  {
   "cell_type": "code",
   "execution_count": 44,
   "metadata": {},
   "outputs": [],
   "source": [
    "train['TotalSF'] = train['TotalBsmtSF'] + train['1stFlrSF'] + train['2ndFlrSF']\n",
    "test['TotalSF'] = test['TotalBsmtSF'] + test['1stFlrSF'] + test['2ndFlrSF']\n",
    "train = train.drop(['TotalBsmtSF','1stFlrSF','2ndFlrSF'], axis=1)\n",
    "test = test.drop(['TotalBsmtSF','1stFlrSF','2ndFlrSF'], axis=1)"
   ]
  },
  {
   "cell_type": "code",
   "execution_count": 45,
   "metadata": {},
   "outputs": [],
   "source": [
    "X = train.reset_index(drop=True).drop('SalePrice', axis=1)\n",
    "y = np.log(train.SalePrice)"
   ]
  },
  {
   "cell_type": "code",
   "execution_count": 46,
   "metadata": {},
   "outputs": [],
   "source": [
    " numcol = X.loc[:, X.dtypes != np.object].columns"
   ]
  },
  {
   "cell_type": "markdown",
   "metadata": {},
   "source": [
    "The above Dataframe shows the numerical columns with skewed values. I will use RobustScaler to transform the numerical columns."
   ]
  },
  {
   "cell_type": "code",
   "execution_count": 47,
   "metadata": {},
   "outputs": [],
   "source": [
    "from statsmodels.stats.outliers_influence import variance_inflation_factor\n",
    "from sklearn.base import BaseEstimator, TransformerMixin\n",
    "from sklearn.preprocessing import Imputer"
   ]
  },
  {
   "cell_type": "code",
   "execution_count": 48,
   "metadata": {},
   "outputs": [],
   "source": [
    "X = pd.get_dummies(X, columns=objs, drop_first=True)\n"
   ]
  },
  {
   "cell_type": "code",
   "execution_count": 49,
   "metadata": {
    "scrolled": false
   },
   "outputs": [
    {
     "name": "stdout",
     "output_type": "stream",
     "text": [
      "\n",
      "Skew in numerical features: \n",
      "\n"
     ]
    },
    {
     "data": {
      "text/html": [
       "<div>\n",
       "<style scoped>\n",
       "    .dataframe tbody tr th:only-of-type {\n",
       "        vertical-align: middle;\n",
       "    }\n",
       "\n",
       "    .dataframe tbody tr th {\n",
       "        vertical-align: top;\n",
       "    }\n",
       "\n",
       "    .dataframe thead th {\n",
       "        text-align: right;\n",
       "    }\n",
       "</style>\n",
       "<table border=\"1\" class=\"dataframe\">\n",
       "  <thead>\n",
       "    <tr style=\"text-align: right;\">\n",
       "      <th></th>\n",
       "      <th>Skew</th>\n",
       "    </tr>\n",
       "  </thead>\n",
       "  <tbody>\n",
       "    <tr>\n",
       "      <th>MiscVal</th>\n",
       "      <td>24.604954</td>\n",
       "    </tr>\n",
       "    <tr>\n",
       "      <th>PoolArea</th>\n",
       "      <td>14.171921</td>\n",
       "    </tr>\n",
       "    <tr>\n",
       "      <th>LotArea</th>\n",
       "      <td>11.924736</td>\n",
       "    </tr>\n",
       "    <tr>\n",
       "      <th>LowQualFinSF</th>\n",
       "      <td>10.554965</td>\n",
       "    </tr>\n",
       "    <tr>\n",
       "      <th>3SsnPorch</th>\n",
       "      <td>10.085230</td>\n",
       "    </tr>\n",
       "    <tr>\n",
       "      <th>KitchenAbvGr</th>\n",
       "      <td>5.936896</td>\n",
       "    </tr>\n",
       "    <tr>\n",
       "      <th>BsmtFinSF2</th>\n",
       "      <td>4.141869</td>\n",
       "    </tr>\n",
       "    <tr>\n",
       "      <th>ScreenPorch</th>\n",
       "      <td>3.912455</td>\n",
       "    </tr>\n",
       "    <tr>\n",
       "      <th>BsmtHalfBath</th>\n",
       "      <td>3.843594</td>\n",
       "    </tr>\n",
       "    <tr>\n",
       "      <th>EnclosedPorch</th>\n",
       "      <td>3.201692</td>\n",
       "    </tr>\n",
       "  </tbody>\n",
       "</table>\n",
       "</div>"
      ],
      "text/plain": [
       "                    Skew\n",
       "MiscVal        24.604954\n",
       "PoolArea       14.171921\n",
       "LotArea        11.924736\n",
       "LowQualFinSF   10.554965\n",
       "3SsnPorch      10.085230\n",
       "KitchenAbvGr    5.936896\n",
       "BsmtFinSF2      4.141869\n",
       "ScreenPorch     3.912455\n",
       "BsmtHalfBath    3.843594\n",
       "EnclosedPorch   3.201692"
      ]
     },
     "execution_count": 49,
     "metadata": {},
     "output_type": "execute_result"
    }
   ],
   "source": [
    "# Check the skew of all numerical features\n",
    "skewed_feats = X[numcol].apply(lambda x: skew(x.dropna())).sort_values(ascending=False)\n",
    "print(\"\\nSkew in numerical features: \\n\")\n",
    "skewness = pd.DataFrame({'Skew' :skewed_feats})\n",
    "skewness.head(10)"
   ]
  },
  {
   "cell_type": "code",
   "execution_count": 50,
   "metadata": {},
   "outputs": [],
   "source": [
    "X[skewness.index] = RobustScaler().fit_transform(X[skewness.index])\n"
   ]
  },
  {
   "cell_type": "code",
   "execution_count": 51,
   "metadata": {},
   "outputs": [
    {
     "data": {
      "text/plain": [
       "197"
      ]
     },
     "execution_count": 51,
     "metadata": {},
     "output_type": "execute_result"
    }
   ],
   "source": [
    "len(X.columns)"
   ]
  },
  {
   "cell_type": "code",
   "execution_count": 52,
   "metadata": {},
   "outputs": [],
   "source": [
    "class ReduceVIF(BaseEstimator, TransformerMixin):\n",
    "    def __init__(self, thresh=50, impute=False, impute_strategy='median'):\n",
    "        \n",
    "        self.thresh = thresh\n",
    "        \n",
    "        if impute:\n",
    "            self.imputer = Imputer(strategy=impute_strategy)\n",
    "\n",
    "    def fit(self, X, y=None):\n",
    "        print('ReduceVIF fit')\n",
    "        if hasattr(self, 'imputer'):\n",
    "            self.imputer.fit(X)\n",
    "        return self\n",
    "\n",
    "    def transform(self, X, y=None):\n",
    "        print('ReduceVIF transform')\n",
    "        columns = X.columns.tolist()\n",
    "        if hasattr(self, 'imputer'):\n",
    "            X = pd.DataFrame(self.imputer.transform(X), columns=columns)\n",
    "        return ReduceVIF.calculate_vif(X, self.thresh)\n",
    "\n",
    "    @staticmethod\n",
    "    def calculate_vif(X, thresh=50):\n",
    "        dropped=True\n",
    "        while dropped:\n",
    "            variables = X.columns\n",
    "            dropped = False\n",
    "            vif = [variance_inflation_factor(X[variables].values, X.columns.get_loc(var)) for var in X.columns]\n",
    "            \n",
    "            max_vif = max(vif)\n",
    "            if max_vif > thresh:\n",
    "                maxloc = vif.index(max_vif)\n",
    "                print(f'Dropping {X.columns[maxloc]} with vif={max_vif}')\n",
    "                X = X.drop([X.columns.tolist()[maxloc]], axis=1)\n",
    "                dropped=True\n",
    "        return X\n",
    "    "
   ]
  },
  {
   "cell_type": "code",
   "execution_count": 53,
   "metadata": {},
   "outputs": [
    {
     "name": "stdout",
     "output_type": "stream",
     "text": [
      "ReduceVIF fit\n",
      "ReduceVIF transform\n"
     ]
    },
    {
     "name": "stderr",
     "output_type": "stream",
     "text": [
      "C:\\Users\\eshai\\Anaconda3\\lib\\site-packages\\statsmodels\\stats\\outliers_influence.py:167: RuntimeWarning: divide by zero encountered in double_scalars\n",
      "  vif = 1. / (1. - r_squared_i)\n"
     ]
    },
    {
     "name": "stdout",
     "output_type": "stream",
     "text": [
      "Dropping BldgType_Duplex with vif=inf\n",
      "Dropping Exterior1st_CBlock with vif=inf\n",
      "Dropping TotalSF with vif=104202.098488227\n",
      "Dropping GarageCond_TA with vif=2430.0850450275207\n",
      "Dropping GarageQual_TA with vif=420.82041835518885\n",
      "Dropping MSZoning_RL with vif=220.8366011098467\n",
      "Dropping Exterior1st_VinylSd with vif=174.50837562637957\n",
      "Dropping GarageType_Attchd with vif=162.27784219896714\n",
      "Dropping Functional_Typ with vif=147.6460649045407\n",
      "Dropping RoofStyle_Gable with vif=131.30083701036708\n",
      "Dropping MSSubClass_20 with vif=123.69143492790671\n",
      "Dropping BsmtFinType2_Unf with vif=100.8070352820323\n",
      "Dropping HouseStyle_1Story with vif=90.82853494204075\n",
      "Dropping Exterior2nd_MetalSd with vif=58.39975387433366\n",
      "Dropping SaleType_New with vif=51.74679603346955\n"
     ]
    },
    {
     "data": {
      "text/html": [
       "<div>\n",
       "<style scoped>\n",
       "    .dataframe tbody tr th:only-of-type {\n",
       "        vertical-align: middle;\n",
       "    }\n",
       "\n",
       "    .dataframe tbody tr th {\n",
       "        vertical-align: top;\n",
       "    }\n",
       "\n",
       "    .dataframe thead th {\n",
       "        text-align: right;\n",
       "    }\n",
       "</style>\n",
       "<table border=\"1\" class=\"dataframe\">\n",
       "  <thead>\n",
       "    <tr style=\"text-align: right;\">\n",
       "      <th></th>\n",
       "      <th>OverallQual</th>\n",
       "      <th>GrLivArea</th>\n",
       "      <th>GarageCars</th>\n",
       "      <th>GarageArea</th>\n",
       "      <th>FullBath</th>\n",
       "      <th>TotRmsAbvGrd</th>\n",
       "      <th>YearBuilt</th>\n",
       "      <th>YearRemodAdd</th>\n",
       "      <th>GarageYrBlt</th>\n",
       "      <th>MasVnrArea</th>\n",
       "      <th>...</th>\n",
       "      <th>MoSold_4</th>\n",
       "      <th>MoSold_5</th>\n",
       "      <th>MoSold_6</th>\n",
       "      <th>MoSold_7</th>\n",
       "      <th>MoSold_8</th>\n",
       "      <th>MoSold_9</th>\n",
       "      <th>YrSold_2007</th>\n",
       "      <th>YrSold_2008</th>\n",
       "      <th>YrSold_2009</th>\n",
       "      <th>YrSold_2010</th>\n",
       "    </tr>\n",
       "  </thead>\n",
       "  <tbody>\n",
       "    <tr>\n",
       "      <th>0</th>\n",
       "      <td>0.5</td>\n",
       "      <td>0.364212</td>\n",
       "      <td>0.0</td>\n",
       "      <td>0.311436</td>\n",
       "      <td>0.0</td>\n",
       "      <td>1.0</td>\n",
       "      <td>0.600000</td>\n",
       "      <td>0.236111</td>\n",
       "      <td>0.575</td>\n",
       "      <td>1.126437</td>\n",
       "      <td>...</td>\n",
       "      <td>0</td>\n",
       "      <td>0</td>\n",
       "      <td>0</td>\n",
       "      <td>0</td>\n",
       "      <td>0</td>\n",
       "      <td>0</td>\n",
       "      <td>0</td>\n",
       "      <td>1</td>\n",
       "      <td>0</td>\n",
       "      <td>0</td>\n",
       "    </tr>\n",
       "    <tr>\n",
       "      <th>1</th>\n",
       "      <td>0.0</td>\n",
       "      <td>-0.345210</td>\n",
       "      <td>0.0</td>\n",
       "      <td>-0.116788</td>\n",
       "      <td>0.0</td>\n",
       "      <td>0.0</td>\n",
       "      <td>0.000000</td>\n",
       "      <td>-0.513889</td>\n",
       "      <td>-0.100</td>\n",
       "      <td>0.000000</td>\n",
       "      <td>...</td>\n",
       "      <td>0</td>\n",
       "      <td>1</td>\n",
       "      <td>0</td>\n",
       "      <td>0</td>\n",
       "      <td>0</td>\n",
       "      <td>0</td>\n",
       "      <td>1</td>\n",
       "      <td>0</td>\n",
       "      <td>0</td>\n",
       "      <td>0</td>\n",
       "    </tr>\n",
       "    <tr>\n",
       "      <th>2</th>\n",
       "      <td>0.5</td>\n",
       "      <td>0.484561</td>\n",
       "      <td>0.0</td>\n",
       "      <td>0.603406</td>\n",
       "      <td>0.0</td>\n",
       "      <td>0.0</td>\n",
       "      <td>0.555556</td>\n",
       "      <td>0.208333</td>\n",
       "      <td>0.525</td>\n",
       "      <td>0.931034</td>\n",
       "      <td>...</td>\n",
       "      <td>0</td>\n",
       "      <td>0</td>\n",
       "      <td>0</td>\n",
       "      <td>0</td>\n",
       "      <td>0</td>\n",
       "      <td>1</td>\n",
       "      <td>0</td>\n",
       "      <td>1</td>\n",
       "      <td>0</td>\n",
       "      <td>0</td>\n",
       "    </tr>\n",
       "    <tr>\n",
       "      <th>3</th>\n",
       "      <td>0.5</td>\n",
       "      <td>0.375297</td>\n",
       "      <td>1.0</td>\n",
       "      <td>0.768856</td>\n",
       "      <td>-1.0</td>\n",
       "      <td>0.5</td>\n",
       "      <td>-1.355556</td>\n",
       "      <td>-0.680556</td>\n",
       "      <td>0.450</td>\n",
       "      <td>0.000000</td>\n",
       "      <td>...</td>\n",
       "      <td>0</td>\n",
       "      <td>0</td>\n",
       "      <td>0</td>\n",
       "      <td>0</td>\n",
       "      <td>0</td>\n",
       "      <td>0</td>\n",
       "      <td>0</td>\n",
       "      <td>0</td>\n",
       "      <td>0</td>\n",
       "      <td>0</td>\n",
       "    </tr>\n",
       "    <tr>\n",
       "      <th>4</th>\n",
       "      <td>1.0</td>\n",
       "      <td>1.136975</td>\n",
       "      <td>1.0</td>\n",
       "      <td>1.712895</td>\n",
       "      <td>0.0</td>\n",
       "      <td>1.5</td>\n",
       "      <td>0.533333</td>\n",
       "      <td>0.152778</td>\n",
       "      <td>0.500</td>\n",
       "      <td>2.011494</td>\n",
       "      <td>...</td>\n",
       "      <td>0</td>\n",
       "      <td>0</td>\n",
       "      <td>0</td>\n",
       "      <td>0</td>\n",
       "      <td>0</td>\n",
       "      <td>0</td>\n",
       "      <td>0</td>\n",
       "      <td>1</td>\n",
       "      <td>0</td>\n",
       "      <td>0</td>\n",
       "    </tr>\n",
       "  </tbody>\n",
       "</table>\n",
       "<p>5 rows × 182 columns</p>\n",
       "</div>"
      ],
      "text/plain": [
       "   OverallQual  GrLivArea  GarageCars  GarageArea  FullBath  TotRmsAbvGrd  \\\n",
       "0          0.5   0.364212         0.0    0.311436       0.0           1.0   \n",
       "1          0.0  -0.345210         0.0   -0.116788       0.0           0.0   \n",
       "2          0.5   0.484561         0.0    0.603406       0.0           0.0   \n",
       "3          0.5   0.375297         1.0    0.768856      -1.0           0.5   \n",
       "4          1.0   1.136975         1.0    1.712895       0.0           1.5   \n",
       "\n",
       "   YearBuilt  YearRemodAdd  GarageYrBlt  MasVnrArea     ...       MoSold_4  \\\n",
       "0   0.600000      0.236111        0.575    1.126437     ...              0   \n",
       "1   0.000000     -0.513889       -0.100    0.000000     ...              0   \n",
       "2   0.555556      0.208333        0.525    0.931034     ...              0   \n",
       "3  -1.355556     -0.680556        0.450    0.000000     ...              0   \n",
       "4   0.533333      0.152778        0.500    2.011494     ...              0   \n",
       "\n",
       "   MoSold_5  MoSold_6  MoSold_7  MoSold_8  MoSold_9  YrSold_2007  YrSold_2008  \\\n",
       "0         0         0         0         0         0            0            1   \n",
       "1         1         0         0         0         0            1            0   \n",
       "2         0         0         0         0         1            0            1   \n",
       "3         0         0         0         0         0            0            0   \n",
       "4         0         0         0         0         0            0            1   \n",
       "\n",
       "   YrSold_2009  YrSold_2010  \n",
       "0            0            0  \n",
       "1            0            0  \n",
       "2            0            0  \n",
       "3            0            0  \n",
       "4            0            0  \n",
       "\n",
       "[5 rows x 182 columns]"
      ]
     },
     "execution_count": 53,
     "metadata": {},
     "output_type": "execute_result"
    }
   ],
   "source": [
    "transformer = ReduceVIF()\n",
    "\n",
    "X = transformer.fit_transform(X,y)\n",
    "\n",
    "X.head()"
   ]
  },
  {
   "cell_type": "code",
   "execution_count": 54,
   "metadata": {},
   "outputs": [],
   "source": [
    "X_train, X_test, y_train, y_test = train_test_split(X,y,random_state=5)\n"
   ]
  },
  {
   "cell_type": "markdown",
   "metadata": {},
   "source": [
    "# Model Construction 1: Ridge"
   ]
  },
  {
   "cell_type": "code",
   "execution_count": 55,
   "metadata": {},
   "outputs": [],
   "source": [
    "def rmse_cv(model):\n",
    "    rmse= np.sqrt(-cross_val_score(model, X_train, y_train, scoring=\"neg_mean_squared_error\", cv = 5))\n",
    "    return(rmse)"
   ]
  },
  {
   "cell_type": "code",
   "execution_count": 56,
   "metadata": {},
   "outputs": [],
   "source": [
    "model_ridge = Ridge()"
   ]
  },
  {
   "cell_type": "code",
   "execution_count": 57,
   "metadata": {},
   "outputs": [
    {
     "data": {
      "text/plain": [
       "11    0.126545\n",
       "10    0.126551\n",
       "12    0.126562\n",
       "9     0.126587\n",
       "13    0.126596\n",
       "dtype: float64"
      ]
     },
     "execution_count": 57,
     "metadata": {},
     "output_type": "execute_result"
    }
   ],
   "source": [
    "alphas = np.arange(1,30)\n",
    "cv_ridge = [rmse_cv(Ridge(alpha = alpha)).mean() \n",
    "            for alpha in alphas]\n",
    "cv_ridge = pd.Series(cv_ridge, index = alphas).sort_values()\n",
    "cv_ridge.head(5)"
   ]
  },
  {
   "cell_type": "code",
   "execution_count": 58,
   "metadata": {
    "scrolled": false
   },
   "outputs": [
    {
     "data": {
      "image/png": "[encoded data removed]",
      "text/plain": [
       "<matplotlib.figure.Figure at 0x144305bee48>"
      ]
     },
     "metadata": {},
     "output_type": "display_data"
    }
   ],
   "source": [
    "cv_ridge = pd.Series(cv_ridge, index = alphas)\n",
    "cv_ridge.plot(title = \"Validation - Ridge Reg\")\n",
    "plt.xlabel(\"alpha\")\n",
    "plt.ylabel(\"rmse\")\n",
    "plt.show()"
   ]
  },
  {
   "cell_type": "code",
   "execution_count": 59,
   "metadata": {},
   "outputs": [],
   "source": [
    "model_ridge = Ridge(alpha=11).fit(X_train, y_train)"
   ]
  },
  {
   "cell_type": "code",
   "execution_count": 60,
   "metadata": {},
   "outputs": [
    {
     "name": "stdout",
     "output_type": "stream",
     "text": [
      "Root Mean Squared Error of Training:0.12654496348510622\n",
      "R2 Score on Training Set:0.9185364975603988\n",
      "R2 Score on Test Set:0.7860792578948155\n"
     ]
    }
   ],
   "source": [
    "print('Root Mean Squared Error of Training:{}'.format(rmse_cv(model_ridge).mean()))\n",
    "print('R2 Score on Training Set:{}'.format(model_ridge.score(X_train, y_train)))\n",
    "print('R2 Score on Test Set:{}'.format(model_ridge.score(X_test, y_test)))"
   ]
  },
  {
   "cell_type": "code",
   "execution_count": 61,
   "metadata": {},
   "outputs": [],
   "source": [
    "pred = model_ridge.predict(X_test)"
   ]
  },
  {
   "cell_type": "markdown",
   "metadata": {},
   "source": [
    "It seems like our model suffers from some overfitting.We will need to use a more flexible machine learning algorithm. Lasso Regrssion algorithm should do the trick. Ridge regression can't zero out coefficients; thus, you either end up including all the coefficients in the model, or none of them. In contrast, the LASSO does both parameter shrinkage and variable selection automatically to develope the best model."
   ]
  },
  {
   "cell_type": "markdown",
   "metadata": {},
   "source": [
    "# Model 2 Lasso"
   ]
  },
  {
   "cell_type": "code",
   "execution_count": 62,
   "metadata": {},
   "outputs": [],
   "source": [
    "model_lasso = Lasso()"
   ]
  },
  {
   "cell_type": "code",
   "execution_count": 63,
   "metadata": {},
   "outputs": [],
   "source": [
    "alphas = [.0005 ,.001, .005, .01, .05, 1,]\n",
    "cv_lasso = [rmse_cv(Lasso(alpha = alpha, max_iter=4000)).mean() \n",
    "            for alpha in alphas]\n",
    "cv_lasso = pd.Series(cv_lasso, index = alphas)"
   ]
  },
  {
   "cell_type": "code",
   "execution_count": 64,
   "metadata": {},
   "outputs": [
    {
     "data": {
      "text/plain": [
       "0.0005    0.125335\n",
       "0.0010    0.126039\n",
       "0.0050    0.138130\n",
       "0.0100    0.146574\n",
       "0.0500    0.194813\n",
       "dtype: float64"
      ]
     },
     "execution_count": 64,
     "metadata": {},
     "output_type": "execute_result"
    }
   ],
   "source": [
    "cv_lasso.head()"
   ]
  },
  {
   "cell_type": "code",
   "execution_count": 65,
   "metadata": {
    "scrolled": true
   },
   "outputs": [
    {
     "data": {
      "image/png": "[encoded data removed]",
      "text/plain": [
       "<matplotlib.figure.Figure at 0x1443058e908>"
      ]
     },
     "metadata": {},
     "output_type": "display_data"
    }
   ],
   "source": [
    "cv_lasso = pd.Series(cv_lasso, index = alphas)\n",
    "cv_lasso.plot(title = \"Validation - Lasso Reg\")\n",
    "plt.xlabel(\"alpha\")\n",
    "plt.ylabel(\"rmse\")\n",
    "plt.show()"
   ]
  },
  {
   "cell_type": "code",
   "execution_count": 66,
   "metadata": {},
   "outputs": [],
   "source": [
    "model_lasso = Lasso(alpha = 0.0005, max_iter=4000).fit(X_train, y_train)"
   ]
  },
  {
   "cell_type": "code",
   "execution_count": 67,
   "metadata": {
    "scrolled": true
   },
   "outputs": [
    {
     "name": "stdout",
     "output_type": "stream",
     "text": [
      "Root Mean Squared Error of Training:0.12533546903738038\n",
      "R2 Score on Training Set:0.9169434676563097\n",
      "R2 Score on Test Set:0.7760169518500954\n"
     ]
    }
   ],
   "source": [
    "print('Root Mean Squared Error of Training:{}'.format(rmse_cv(model_lasso).mean()))\n",
    "print('R2 Score on Training Set:{}'.format(model_lasso.score(X_train, y_train)))\n",
    "print('R2 Score on Test Set:{}'.format(model_lasso.score(X_test, y_test)))"
   ]
  },
  {
   "cell_type": "code",
   "execution_count": 68,
   "metadata": {},
   "outputs": [],
   "source": [
    "pred2 = model_lasso.predict(X_test)"
   ]
  },
  {
   "cell_type": "code",
   "execution_count": 69,
   "metadata": {},
   "outputs": [],
   "source": [
    "coef = pd.Series(model_lasso.coef_, index = X_train.columns)"
   ]
  },
  {
   "cell_type": "code",
   "execution_count": 70,
   "metadata": {},
   "outputs": [],
   "source": [
    "imp_coef = pd.concat([coef.sort_values().head(10),\n",
    "                     coef.sort_values().tail(10)])"
   ]
  },
  {
   "cell_type": "code",
   "execution_count": 71,
   "metadata": {},
   "outputs": [
    {
     "data": {
      "image/png": "[encoded data removed]",
      "text/plain": [
       "<matplotlib.figure.Figure at 0x1443072ae10>"
      ]
     },
     "metadata": {},
     "output_type": "display_data"
    }
   ],
   "source": [
    "plt.rcParams['figure.figsize'] = (12.0, 8.0)\n",
    "imp_coef.plot(kind = \"barh\")\n",
    "plt.title(\"Coefficients in the Lasso Model\")\n",
    "plt.style.use('_classic_test')\n",
    "plt.show()"
   ]
  },
  {
   "cell_type": "markdown",
   "metadata": {},
   "source": [
    "The chart above shows that features with the highest coefficients. As predicted, OverallQual, GrLivArea, and Neighborhood are among the the variables with the highest coefficients. Looking at some variables with the lowest coeffiecients, we see MSSubclass_160, Neighborhood_Edwards, and KitchenAbvGr. Although these varables negative impact is minimal."
   ]
  },
  {
   "cell_type": "markdown",
   "metadata": {},
   "source": [
    "# Model 3: ElasticNet"
   ]
  },
  {
   "cell_type": "code",
   "execution_count": 72,
   "metadata": {},
   "outputs": [],
   "source": [
    "model_elastic = ElasticNet()"
   ]
  },
  {
   "cell_type": "code",
   "execution_count": 73,
   "metadata": {},
   "outputs": [
    {
     "data": {
      "text/plain": [
       "GridSearchCV(cv=None, error_score='raise',\n",
       "       estimator=ElasticNet(alpha=1.0, copy_X=True, fit_intercept=True, l1_ratio=0.5,\n",
       "      max_iter=4000, normalize=False, positive=False, precompute=False,\n",
       "      random_state=None, selection='cyclic', tol=0.0001, warm_start=False),\n",
       "       fit_params=None, iid=True, n_jobs=1,\n",
       "       param_grid={'alpha': [0.001, 0.005, 0.01, 0.1, 1], 'l1_ratio': [0.4, 0.5, 0.6, 0.7, 0.8]},\n",
       "       pre_dispatch='2*n_jobs', refit=True, return_train_score='warn',\n",
       "       scoring='neg_mean_squared_error', verbose=0)"
      ]
     },
     "execution_count": 73,
     "metadata": {},
     "output_type": "execute_result"
    }
   ],
   "source": [
    "alphas = [.001,.005,.01,.1,1]\n",
    "l1 = [.4, .5, .6,.7, .8]\n",
    "\n",
    "\n",
    "         \n",
    "param_grid = dict(alpha=alphas, l1_ratio=l1)\n",
    "egrid = GridSearchCV(ElasticNet(max_iter=4000), param_grid=param_grid, scoring='neg_mean_squared_error')\n",
    "egrid.fit(X_train, y_train)"
   ]
  },
  {
   "cell_type": "code",
   "execution_count": 74,
   "metadata": {},
   "outputs": [
    {
     "name": "stdout",
     "output_type": "stream",
     "text": [
      "The best parameter {'alpha': 0.001, 'l1_ratio': 0.7} for model with a score of 0.02\n"
     ]
    }
   ],
   "source": [
    "print(\"The best parameter %s for model with a score of %0.2f\"\n",
    "      % (egrid.best_params_, -egrid.best_score_))"
   ]
  },
  {
   "cell_type": "code",
   "execution_count": 75,
   "metadata": {},
   "outputs": [],
   "source": [
    "model_elastic = ElasticNet(alpha=egrid.best_params_['alpha'], l1_ratio=egrid.best_params_['l1_ratio'] ).fit(X_train, y_train)"
   ]
  },
  {
   "cell_type": "code",
   "execution_count": 76,
   "metadata": {
    "scrolled": true
   },
   "outputs": [
    {
     "name": "stdout",
     "output_type": "stream",
     "text": [
      "Root Mean Squared Error of Training:0.1253935566018008\n",
      "R2 Score on Training Set:0.9137633338969445\n",
      "R2 Score on Test Set:0.7751698775105329\n"
     ]
    }
   ],
   "source": [
    "print('Root Mean Squared Error of Training:{}'.format(rmse_cv(model_elastic).mean()))\n",
    "print('R2 Score on Training Set:{}'.format(model_elastic.score(X_train, y_train)))\n",
    "print('R2 Score on Test Set:{}'.format(model_elastic.score(X_test, y_test)))"
   ]
  },
  {
   "cell_type": "code",
   "execution_count": 77,
   "metadata": {},
   "outputs": [],
   "source": [
    "pred2 = model_elastic.predict(X_test)"
   ]
  },
  {
   "cell_type": "code",
   "execution_count": 78,
   "metadata": {},
   "outputs": [],
   "source": [
    "coef = pd.Series(model_elastic.coef_, index = X_train.columns)"
   ]
  },
  {
   "cell_type": "code",
   "execution_count": 79,
   "metadata": {},
   "outputs": [],
   "source": [
    "imp_coefe = pd.concat([coef.sort_values().head(10),\n",
    "                     coef.sort_values().tail(10)])"
   ]
  },
  {
   "cell_type": "code",
   "execution_count": 80,
   "metadata": {
    "scrolled": false
   },
   "outputs": [
    {
     "data": {
      "image/png": "[encoded data removed]",
      "text/plain": [
       "<matplotlib.figure.Figure at 0x1443072af60>"
      ]
     },
     "metadata": {},
     "output_type": "display_data"
    }
   ],
   "source": [
    "plt.rcParams['figure.figsize'] = (8.0, 10.0)\n",
    "imp_coefe.plot(kind = \"barh\")\n",
    "plt.title(\"Coefficients in the Elastic Model\")\n",
    "plt.style.use('_classic_test')\n",
    "plt.show()"
   ]
  },
  {
   "cell_type": "markdown",
   "metadata": {},
   "source": [
    "The ElastNet model offered alightly better score(explaination of Variance) then any previous model. I will try to boost the model using the algorithm adaboost "
   ]
  },
  {
   "cell_type": "markdown",
   "metadata": {},
   "source": [
    "# ADA Boosting"
   ]
  },
  {
   "cell_type": "code",
   "execution_count": 81,
   "metadata": {},
   "outputs": [],
   "source": [
    "model = AdaBoostRegressor()"
   ]
  },
  {
   "cell_type": "code",
   "execution_count": 82,
   "metadata": {
    "scrolled": true
   },
   "outputs": [
    {
     "data": {
      "text/plain": [
       "GridSearchCV(cv=None, error_score='raise',\n",
       "       estimator=AdaBoostRegressor(base_estimator=ElasticNet(alpha=0.005, copy_X=True, fit_intercept=True, l1_ratio=0.7,\n",
       "      max_iter=4000, normalize=False, positive=False, precompute=False,\n",
       "      random_state=2, selection='cyclic', tol=0.0001, warm_start=False),\n",
       "         learning_rate=1.0, loss='linear', n_estimators=50, random_state=1),\n",
       "       fit_params=None, iid=True, n_jobs=1,\n",
       "       param_grid={'n_estimators': [20, 30, 50], 'learning_rate': [0.2, 0.3, 0.4, 0.6], 'loss': ['linear']},\n",
       "       pre_dispatch='2*n_jobs', refit=True, return_train_score='warn',\n",
       "       scoring=None, verbose=0)"
      ]
     },
     "execution_count": 82,
     "metadata": {},
     "output_type": "execute_result"
    }
   ],
   "source": [
    "est = [20,30,50]\n",
    "lr = [.2, .3, .4,.6]\n",
    "loss = ['linear']\n",
    "\n",
    "param_grid = dict(n_estimators=est, learning_rate=lr, loss=loss)\n",
    "grid = GridSearchCV(AdaBoostRegressor(base_estimator = ElasticNet(alpha=.005, l1_ratio=egrid.best_params_['l1_ratio'], max_iter=4000, random_state=2), random_state=1), param_grid=param_grid)\n",
    "grid.fit(X_train, y_train)"
   ]
  },
  {
   "cell_type": "code",
   "execution_count": 83,
   "metadata": {},
   "outputs": [
    {
     "name": "stdout",
     "output_type": "stream",
     "text": [
      "The best parameter {'learning_rate': 0.2, 'loss': 'linear', 'n_estimators': 20} for model with a score of 0.85\n"
     ]
    }
   ],
   "source": [
    "print(\"The best parameter %s for model with a score of %0.2f\"\n",
    "      % (grid.best_params_, grid.best_score_))"
   ]
  },
  {
   "cell_type": "code",
   "execution_count": 84,
   "metadata": {},
   "outputs": [],
   "source": [
    "model_boost = AdaBoostRegressor(base_estimator = ElasticNet(alpha=.005, l1_ratio=egrid.best_params_['l1_ratio'], random_state=2), learning_rate=grid.best_params_['learning_rate'], loss=grid.best_params_['loss'], n_estimators=grid.best_params_['n_estimators'], random_state=1).fit(X_train, y_train)"
   ]
  },
  {
   "cell_type": "code",
   "execution_count": 85,
   "metadata": {},
   "outputs": [
    {
     "name": "stdout",
     "output_type": "stream",
     "text": [
      "Root Mean Squared Error of Training:0.1447167435575626\n",
      "R2 Score on Training Set:0.8894797713671764\n",
      "R2 Score on Test Set:0.8218293271322363\n"
     ]
    }
   ],
   "source": [
    "print('Root Mean Squared Error of Training:{}'.format(rmse_cv(model_boost).mean()))\n",
    "print('R2 Score on Training Set:{}'.format(model_boost.score(X_train, y_train)))\n",
    "print('R2 Score on Test Set:{}'.format(model_boost.score(X_test, y_test)))"
   ]
  },
  {
   "cell_type": "code",
   "execution_count": 86,
   "metadata": {},
   "outputs": [],
   "source": [
    "pred3 = model_boost.predict(X_test)"
   ]
  },
  {
   "cell_type": "code",
   "execution_count": 87,
   "metadata": {},
   "outputs": [
    {
     "data": {
      "image/png": "[encoded data removed]",
      "text/plain": [
       "<matplotlib.figure.Figure at 0x14430828e48>"
      ]
     },
     "metadata": {},
     "output_type": "display_data"
    }
   ],
   "source": [
    "#Make Residual plt: \n",
    "plt.rcParams['figure.figsize'] = (16.0, 8.0)\n",
    "resid =  pred3 - y_test\n",
    "sns.residplot(pred3, resid, scatter_kws={'alpha': 0.5}, \n",
    "              line_kws={'color': 'red', 'lw': 1, 'alpha': 0.8})\n",
    "plt.ylabel('Residual')\n",
    "plt.xlabel('Critic Score')\n",
    "plt.title('Residual Plot')\n",
    "plt.show()"
   ]
  }
 ],
 "metadata": {
  "kernelspec": {
   "display_name": "Python 3",
   "language": "python",
   "name": "python3"
  },
  "language_info": {
   "codemirror_mode": {
    "name": "ipython",
    "version": 3
   },
   "file_extension": ".py",
   "mimetype": "text/x-python",
   "name": "python",
   "nbconvert_exporter": "python",
   "pygments_lexer": "ipython3",
   "version": "3.6.4"
  }
 },
 "nbformat": 4,
 "nbformat_minor": 2
}
